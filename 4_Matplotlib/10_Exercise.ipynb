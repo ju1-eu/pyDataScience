{
 "metadata": {
  "language_info": {
   "codemirror_mode": {
    "name": "ipython",
    "version": 3
   },
   "file_extension": ".py",
   "mimetype": "text/x-python",
   "name": "python",
   "nbconvert_exporter": "python",
   "pygments_lexer": "ipython3",
   "version": "3.8.5"
  },
  "orig_nbformat": 2,
  "kernelspec": {
   "name": "python385jvsc74a57bd0423c48e3256333a0e0252f1efeec30283ab6ba0213e3a05c32b0541c29f89950",
   "display_name": "Python 3.8.5 64-bit ('pyUdemy': conda)"
  }
 },
 "nbformat": 4,
 "nbformat_minor": 2,
 "cells": [
  {
   "source": [
    "# Exercise"
   ],
   "cell_type": "markdown",
   "metadata": {}
  },
  {
   "cell_type": "code",
   "execution_count": 1,
   "metadata": {},
   "outputs": [],
   "source": [
    "%matplotlib widget\n",
    "import numpy as np\n",
    "np.random.seed(0)\n",
    "import pandas as pd\n",
    "\n",
    "import matplotlib.pyplot as plt\n",
    "import seaborn as sns"
   ]
  },
  {
   "cell_type": "code",
   "execution_count": 2,
   "metadata": {},
   "outputs": [],
   "source": [
    "def array_info(array: np.ndarray) -> None:\n",
    "    print(f\"ndim: {array.ndim}\")\n",
    "    print(f\"shape: {array.shape}\")\n",
    "    print(f\"size: {array.size}\")\n",
    "    print(f\"dtype: {array.dtype}\")\n",
    "    print(f\"values:\\n{array}\\n\")"
   ]
  },
  {
   "source": [
    "# Exercise 1\n",
    "\n",
    "- Generate a feature dataset (x) of 100 samples with 2 features by sampling from a multivariate normal distribution.  \n",
    "    - With a mean of $\\mu = (-5, 5)^T$  \n",
    "    - With a covariance matrix of $C = \\begin{pmatrix}\n",
    "1 & 0\\\\\n",
    "0 & 1\n",
    "\\end{pmatrix}$\n",
    "- Generate a target dataset (y) of 100 samples by adding up the two features of each row of x"
   ],
   "cell_type": "markdown",
   "metadata": {}
  },
  {
   "source": [
    "# Exercise 2\n",
    "\n",
    "Plot the data such that the following figure will be displayed:\n",
    "\n",
    "![img](../media/exercise_plt.png)\n",
    "\n",
    "Hint:\n",
    "The colorbar is *coolwarm*"
   ],
   "cell_type": "markdown",
   "metadata": {}
  },
  {
   "source": [
    "# Exercise 3\n",
    "\n",
    "- Plot the data from exercise 2 with a 3D Plot:\n",
    "    - The X, Y axis are the two features from the x array\n",
    "    - The Z axis is the y array\n",
    "\n",
    "![img](../media/exercise_plt2.png)"
   ],
   "cell_type": "markdown",
   "metadata": {}
  }
 ]
}