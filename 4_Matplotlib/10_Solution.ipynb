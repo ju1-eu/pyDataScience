{
 "metadata": {
  "language_info": {
   "codemirror_mode": {
    "name": "ipython",
    "version": 3
   },
   "file_extension": ".py",
   "mimetype": "text/x-python",
   "name": "python",
   "nbconvert_exporter": "python",
   "pygments_lexer": "ipython3",
   "version": "3.8.5"
  },
  "orig_nbformat": 2,
  "kernelspec": {
   "name": "python385jvsc74a57bd0423c48e3256333a0e0252f1efeec30283ab6ba0213e3a05c32b0541c29f89950",
   "display_name": "Python 3.8.5 64-bit ('pyUdemy': conda)"
  }
 },
 "nbformat": 4,
 "nbformat_minor": 2,
 "cells": [
  {
   "source": [
    "# Exercise"
   ],
   "cell_type": "markdown",
   "metadata": {}
  },
  {
   "cell_type": "code",
   "execution_count": 21,
   "metadata": {},
   "outputs": [],
   "source": [
    "%matplotlib widget\n",
    "import numpy as np\n",
    "np.random.seed(0)\n",
    "import pandas as pd\n",
    "\n",
    "import matplotlib.pyplot as plt\n",
    "import seaborn as sns"
   ]
  },
  {
   "cell_type": "code",
   "execution_count": 22,
   "metadata": {},
   "outputs": [],
   "source": [
    "def array_info(array: np.ndarray) -> None:\n",
    "    print(f\"ndim: {array.ndim}\")\n",
    "    print(f\"shape: {array.shape}\")\n",
    "    print(f\"size: {array.size}\")\n",
    "    print(f\"dtype: {array.dtype}\")\n",
    "    print(f\"values:\\n{array[:10 if len(array) > 10 else -1]}\\n\")"
   ]
  },
  {
   "source": [
    "# Exercise 1\n",
    "\n",
    "- Generate a feature dataset (x) of 100 samples with 2 features by sampling from a multivariate normal distribution.  \n",
    "    - With a mean of $\\mu = (-5, 5)^T$  \n",
    "    - With a covariance matrix of $C = \\begin{pmatrix}\n",
    "1 & 0\\\\\n",
    "0 & 1\n",
    "\\end{pmatrix}$\n",
    "- Generate a target dataset (y) of 100 samples by adding up the two features of each row of x"
   ],
   "cell_type": "markdown",
   "metadata": {}
  },
  {
   "cell_type": "code",
   "execution_count": 23,
   "metadata": {},
   "outputs": [],
   "source": [
    "num_samples = 100\n",
    "num_features = 2"
   ]
  },
  {
   "cell_type": "code",
   "execution_count": 24,
   "metadata": {},
   "outputs": [],
   "source": [
    "mean = np.array([-5, 5])\n",
    "cov = np.eye(2)"
   ]
  },
  {
   "cell_type": "code",
   "execution_count": 25,
   "metadata": {},
   "outputs": [],
   "source": [
    "x = np.random.multivariate_normal(\n",
    "    mean=mean,\n",
    "    cov=cov,\n",
    "    size=(num_samples,)\n",
    ")"
   ]
  },
  {
   "cell_type": "code",
   "execution_count": 26,
   "metadata": {},
   "outputs": [
    {
     "output_type": "stream",
     "name": "stdout",
     "text": [
      "ndim: 2\nshape: (100, 2)\nsize: 200\ndtype: float64\nvalues:\n[[-3.23594765  5.40015721]\n [-4.02126202  7.2408932 ]\n [-3.13244201  4.02272212]\n [-4.04991158  4.84864279]\n [-5.10321885  5.4105985 ]\n [-4.85595643  6.45427351]\n [-4.23896227  5.12167502]\n [-4.55613677  5.33367433]\n [-3.50592093  4.79484174]\n [-4.6869323   4.14590426]]\n\n"
     ]
    }
   ],
   "source": [
    "array_info(x)"
   ]
  },
  {
   "cell_type": "code",
   "execution_count": 27,
   "metadata": {},
   "outputs": [],
   "source": [
    "y = np.sum(x, axis=1)"
   ]
  },
  {
   "cell_type": "code",
   "execution_count": 28,
   "metadata": {},
   "outputs": [
    {
     "output_type": "stream",
     "name": "stdout",
     "text": [
      "ndim: 1\nshape: (100,)\nsize: 100\ndtype: float64\nvalues:\n[ 2.16420955  3.21963118  0.89028011  0.79873121  0.30737965  1.59831708\n  0.88271274  0.77753756  1.28892081 -0.54102804]\n\n"
     ]
    }
   ],
   "source": [
    "array_info(y)"
   ]
  },
  {
   "source": [
    "# Exercise 2\n",
    "\n",
    "Plot the data such that the following figure will be displayed:\n",
    "\n",
    "![img](../media/exercise_plt.png)\n",
    "\n",
    "Hint:\n",
    "The colorbar is *coolwarm*"
   ],
   "cell_type": "markdown",
   "metadata": {}
  },
  {
   "cell_type": "code",
   "execution_count": 29,
   "metadata": {},
   "outputs": [
    {
     "output_type": "display_data",
     "data": {
      "text/plain": "Canvas(toolbar=Toolbar(toolitems=[('Home', 'Reset original view', 'home', 'home'), ('Back', 'Back to previous …",
      "application/vnd.jupyter.widget-view+json": {
       "version_major": 2,
       "version_minor": 0,
       "model_id": "c8e82a1b0a7b45b99f428c24d2bddc36"
      }
     },
     "metadata": {}
    }
   ],
   "source": [
    "fig, ax = plt.subplots()\n",
    "\n",
    "scatter = ax.scatter(x[:,0], x[:, 1], c=y, cmap='coolwarm')\n",
    "ax.axis('equal')\n",
    "ax.set_xlabel(\"$x_1^i$\")\n",
    "ax.set_ylabel(\"$x_2^i$\")\n",
    "\n",
    "plt.colorbar(scatter)\n",
    "plt.plot();"
   ]
  },
  {
   "source": [
    "# Exercise 3\n",
    "\n",
    "- Plot the data from exercise 2 with a 3D Plot:\n",
    "    - The X, Y axis are the two features from the x array\n",
    "    - The Z axis is the y array\n",
    "\n",
    "![img](../media/exercise_plt2.png)"
   ],
   "cell_type": "markdown",
   "metadata": {}
  },
  {
   "cell_type": "code",
   "execution_count": 30,
   "metadata": {},
   "outputs": [
    {
     "output_type": "display_data",
     "data": {
      "text/plain": "Canvas(toolbar=Toolbar(toolitems=[('Home', 'Reset original view', 'home', 'home'), ('Back', 'Back to previous …",
      "application/vnd.jupyter.widget-view+json": {
       "version_major": 2,
       "version_minor": 0,
       "model_id": "4fc39ab0ae2f47d79a71a0d7ca7303d6"
      }
     },
     "metadata": {}
    }
   ],
   "source": [
    "fig = plt.figure()\n",
    "ax = fig.add_subplot(projection='3d')\n",
    "\n",
    "scatter = ax.scatter(x[:,0], x[:,1], y, c=y, cmap='coolwarm')\n",
    "\n",
    "ax.set_xlabel(\"$x_1^i$\")\n",
    "ax.set_ylabel(\"$x_2^i$\")\n",
    "ax.set_zlabel(\"$y^i$\")\n",
    "\n",
    "cbar = plt.colorbar(scatter, ax=ax)\n",
    "plt.show();"
   ]
  }
 ]
}