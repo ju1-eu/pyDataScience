{
 "cells": [
  {
   "cell_type": "markdown",
   "metadata": {},
   "source": [
    "# Array Masks"
   ]
  },
  {
   "cell_type": "code",
   "execution_count": 127,
   "metadata": {},
   "outputs": [],
   "source": [
    "import numpy as np\n",
    "import numpy.ma as ma\n",
    "np.random.seed(0)"
   ]
  },
  {
   "cell_type": "markdown",
   "metadata": {},
   "source": [
    "## Recap: Comparison Operators"
   ]
  },
  {
   "cell_type": "code",
   "execution_count": 128,
   "metadata": {
    "collapsed": true
   },
   "outputs": [],
   "source": [
    "x = np.array([1, 2, 3, 4, 5])"
   ]
  },
  {
   "cell_type": "code",
   "execution_count": 129,
   "metadata": {
    "collapsed": false
   },
   "outputs": [
    {
     "output_type": "stream",
     "name": "stdout",
     "text": [
      "[ True  True False False False]\n"
     ]
    }
   ],
   "source": [
    "print(x < 3)"
   ]
  },
  {
   "cell_type": "code",
   "execution_count": 130,
   "metadata": {
    "collapsed": false
   },
   "outputs": [
    {
     "output_type": "stream",
     "name": "stdout",
     "text": [
      "[False False False  True  True]\n"
     ]
    }
   ],
   "source": [
    "print(x > 3)"
   ]
  },
  {
   "cell_type": "code",
   "execution_count": 131,
   "metadata": {
    "collapsed": false
   },
   "outputs": [
    {
     "output_type": "stream",
     "name": "stdout",
     "text": [
      "[ True  True False  True  True]\n"
     ]
    }
   ],
   "source": [
    "print(x != 3)"
   ]
  },
  {
   "cell_type": "code",
   "execution_count": 132,
   "metadata": {
    "collapsed": false
   },
   "outputs": [
    {
     "output_type": "stream",
     "name": "stdout",
     "text": [
      "[False False  True False False]\n"
     ]
    }
   ],
   "source": [
    "print(x == 3)"
   ]
  },
  {
   "cell_type": "markdown",
   "metadata": {},
   "source": [
    "## Working with Boolean Arrays"
   ]
  },
  {
   "cell_type": "code",
   "execution_count": 133,
   "metadata": {
    "collapsed": false
   },
   "outputs": [
    {
     "output_type": "stream",
     "name": "stdout",
     "text": [
      "[1 2 3 4 5]\n"
     ]
    }
   ],
   "source": [
    "print(x)"
   ]
  },
  {
   "cell_type": "code",
   "execution_count": 134,
   "metadata": {},
   "outputs": [
    {
     "output_type": "stream",
     "name": "stdout",
     "text": [
      "[ True  True  True  True False]\n"
     ]
    }
   ],
   "source": [
    "print(x < 5)"
   ]
  },
  {
   "cell_type": "code",
   "execution_count": 135,
   "metadata": {
    "collapsed": false
   },
   "outputs": [
    {
     "output_type": "execute_result",
     "data": {
      "text/plain": [
       "4"
      ]
     },
     "metadata": {},
     "execution_count": 135
    }
   ],
   "source": [
    "np.count_nonzero(x < 5)"
   ]
  },
  {
   "cell_type": "code",
   "execution_count": 136,
   "metadata": {
    "collapsed": false
   },
   "outputs": [
    {
     "output_type": "stream",
     "name": "stdout",
     "text": [
      "4\n"
     ]
    }
   ],
   "source": [
    "print(np.sum(x < 5))"
   ]
  },
  {
   "cell_type": "code",
   "execution_count": 137,
   "metadata": {},
   "outputs": [
    {
     "output_type": "stream",
     "name": "stdout",
     "text": [
      "[ True  True  True False False]\n[1 1 1 0 0]\n3\n"
     ]
    }
   ],
   "source": [
    "check = (x < 4)\n",
    "\n",
    "print(check)\n",
    "print(check.astype(np.int8))\n",
    "print(np.sum(check))"
   ]
  },
  {
   "cell_type": "code",
   "execution_count": 138,
   "metadata": {},
   "outputs": [
    {
     "output_type": "stream",
     "name": "stdout",
     "text": [
      "[ True  True  True  True  True]\n"
     ]
    }
   ],
   "source": [
    "print(x < 10)"
   ]
  },
  {
   "cell_type": "code",
   "execution_count": 139,
   "metadata": {
    "collapsed": false
   },
   "outputs": [
    {
     "output_type": "stream",
     "name": "stdout",
     "text": [
      "True\n"
     ]
    }
   ],
   "source": [
    "print(np.all(x < 10))"
   ]
  },
  {
   "cell_type": "code",
   "execution_count": 140,
   "metadata": {
    "collapsed": false
   },
   "outputs": [
    {
     "output_type": "stream",
     "name": "stdout",
     "text": [
      "False\n"
     ]
    }
   ],
   "source": [
    "print(np.all(x == 6))"
   ]
  },
  {
   "cell_type": "code",
   "execution_count": 141,
   "metadata": {},
   "outputs": [
    {
     "output_type": "stream",
     "name": "stdout",
     "text": [
      "True\n"
     ]
    }
   ],
   "source": [
    "print(np.any(x >= 0))"
   ]
  },
  {
   "cell_type": "markdown",
   "metadata": {},
   "source": [
    "### Boolean operators"
   ]
  },
  {
   "cell_type": "code",
   "execution_count": 142,
   "metadata": {},
   "outputs": [
    {
     "output_type": "stream",
     "name": "stdout",
     "text": [
      "[ 0.14644051  0.6455681   0.30829013  0.13464955 -0.2290356   0.43768234\n -0.18723837  1.175319    1.39098828 -0.34967544]\n"
     ]
    }
   ],
   "source": [
    "x = np.random.uniform(-1.5, 1.5, size=10)\n",
    "\n",
    "print(x)"
   ]
  },
  {
   "cell_type": "code",
   "execution_count": 143,
   "metadata": {},
   "outputs": [
    {
     "output_type": "stream",
     "name": "stdout",
     "text": [
      "True\n1\n"
     ]
    }
   ],
   "source": [
    "print(True & True)\n",
    "print(1 & 1)"
   ]
  },
  {
   "cell_type": "code",
   "execution_count": 144,
   "metadata": {
    "collapsed": false
   },
   "outputs": [
    {
     "output_type": "stream",
     "name": "stdout",
     "text": [
      "[False  True False False False False False  True  True False]\n[ True  True  True  True  True  True  True False False  True]\n[False  True False False False False False False False False]\n1\n"
     ]
    }
   ],
   "source": [
    "print((x > 0.5))\n",
    "print((x < 1))\n",
    "print((x > 0.5) & (x < 1))\n",
    "\n",
    "print(np.sum((x > 0.5) & (x < 1)))"
   ]
  },
  {
   "cell_type": "code",
   "execution_count": 145,
   "metadata": {
    "collapsed": false
   },
   "outputs": [
    {
     "output_type": "stream",
     "name": "stdout",
     "text": [
      "[False  True False False False False False  True  True False]\n[ True  True  True  True  True  True  True False False  True]\n[ True  True  True  True  True  True  True  True  True  True]\n10\n"
     ]
    }
   ],
   "source": [
    "print((x > 0.5))\n",
    "print((x < 1))\n",
    "print((x > 0.5) | (x < 1))\n",
    "\n",
    "print(np.sum((x > 0.5) | (x < 1)))"
   ]
  },
  {
   "cell_type": "code",
   "execution_count": 146,
   "metadata": {},
   "outputs": [
    {
     "output_type": "stream",
     "name": "stdout",
     "text": [
      "1\n"
     ]
    }
   ],
   "source": [
    "print(np.sum(~((x <= 0.5) | (x >= 1))))"
   ]
  },
  {
   "cell_type": "code",
   "execution_count": 147,
   "metadata": {
    "collapsed": false
   },
   "outputs": [
    {
     "output_type": "stream",
     "name": "stdout",
     "text": [
      "[ 0.14644051  0.6455681   0.30829013  0.13464955 -0.2290356   0.43768234\n",
      " -0.18723837  1.175319    1.39098828 -0.34967544]\n",
      "0\n",
      "10\n",
      "3\n",
      "2\n"
     ]
    }
   ],
   "source": [
    "print(x)\n",
    "\n",
    "print(np.sum(x == 0))\n",
    "print(np.sum(x != 0))\n",
    "print(np.sum(x > 0.5))\n",
    "print(np.sum((x > 0) & (x < 0.2)))"
   ]
  },
  {
   "cell_type": "markdown",
   "metadata": {},
   "source": [
    "## Boolean Indexing"
   ]
  },
  {
   "cell_type": "code",
   "execution_count": 148,
   "metadata": {
    "collapsed": false
   },
   "outputs": [
    {
     "output_type": "stream",
     "name": "stdout",
     "text": [
      "[ 0.14644051  0.6455681   0.30829013  0.13464955 -0.2290356   0.43768234\n -0.18723837  1.175319    1.39098828 -0.34967544]\n(10,)\n"
     ]
    }
   ],
   "source": [
    "print(x)\n",
    "print(x.shape)"
   ]
  },
  {
   "cell_type": "code",
   "execution_count": 149,
   "metadata": {
    "collapsed": false
   },
   "outputs": [
    {
     "output_type": "stream",
     "name": "stdout",
     "text": [
      "[ True  True  True  True  True  True  True False False  True]\n"
     ]
    }
   ],
   "source": [
    "print(x < 1.0)"
   ]
  },
  {
   "cell_type": "code",
   "execution_count": 150,
   "metadata": {
    "collapsed": false
   },
   "outputs": [
    {
     "output_type": "stream",
     "name": "stdout",
     "text": [
      "[ 0.14644051  0.6455681   0.30829013  0.13464955 -0.2290356   0.43768234\n -0.18723837 -0.34967544]\n(8,)\n"
     ]
    }
   ],
   "source": [
    "x_slice = x[x < 1.0]\n",
    "\n",
    "print(x_slice)\n",
    "print(x_slice.shape)"
   ]
  },
  {
   "source": [
    "# Numpy Masks\n",
    "\n",
    "In many circumstances, datasets can be incomplete or tainted by the presence of invalid data.  \n",
    "For example, a sensor may have failed to record a data, or recorded an invalid value.  \n",
    "The numpy.ma module provides a convenient way to address this issue, by introducing masked arrays.\n",
    "\n",
    "A masked array is the combination of a standard numpy.ndarray and a mask.  \n",
    "When an element of the mask is False, the corresponding element of the associated array is valid and is said to be unmasked.  \n",
    "When an element of the mask is True, the corresponding element of the associated array is said to be masked (invalid).\n",
    "\n",
    "| asarray \t| Convert the input to a masked array of the given data-type. \t|\n",
    "|-\t|-\t|\n",
    "| fix_invalid \t| Return input with invalid data masked and replaced by a fill value. \t|\n",
    "| masked_equal \t| Mask an array where equal to a given value. \t|\n",
    "| masked_greater \t| Mask an array where greater than a given value. \t|\n",
    "| masked_greater_equal \t| Mask an array where greater than or equal to a given value. \t|\n",
    "| masked_inside \t| Mask an array inside a given interval. \t|\n",
    "| masked_invalid \t| Mask an array where invalid values occur (NaNs or infs). \t|\n",
    "| masked_less \t| Mask an array where less than a given value. \t|\n",
    "| masked_less_equal \t| Mask an array where less than or equal to a given value. \t|\n",
    "| masked_not_equal \t| Mask an array where not equal to a given value. \t|\n",
    "| masked_where \t| Mask an array where a condition is met. \t|"
   ],
   "cell_type": "markdown",
   "metadata": {}
  },
  {
   "cell_type": "code",
   "execution_count": 151,
   "metadata": {},
   "outputs": [],
   "source": [
    "data = np.array([1, 2, 3, -1, 5])\n",
    "\n",
    "masked_data = ma.masked_array(\n",
    "    data,\n",
    "    mask=[0, 0, 0, 1, 0]\n",
    ")"
   ]
  },
  {
   "cell_type": "code",
   "execution_count": 152,
   "metadata": {},
   "outputs": [
    {
     "output_type": "stream",
     "name": "stdout",
     "text": [
      "[1 2 3 -- 5]\n"
     ]
    }
   ],
   "source": [
    "print(masked_data)"
   ]
  },
  {
   "cell_type": "code",
   "execution_count": 153,
   "metadata": {},
   "outputs": [
    {
     "output_type": "stream",
     "name": "stdout",
     "text": [
      "2.75\n"
     ]
    }
   ],
   "source": [
    "print(masked_data.mean())"
   ]
  },
  {
   "cell_type": "code",
   "execution_count": 154,
   "metadata": {},
   "outputs": [],
   "source": [
    "masked_data2 = ma.masked_equal(\n",
    "    [1.0, -1.0, 3.0, -1.0],\n",
    "    -1.0\n",
    ")"
   ]
  },
  {
   "cell_type": "code",
   "execution_count": 155,
   "metadata": {},
   "outputs": [
    {
     "output_type": "stream",
     "name": "stdout",
     "text": [
      "[1.0 -- 3.0 --]\n"
     ]
    }
   ],
   "source": [
    "print(masked_data2)"
   ]
  },
  {
   "cell_type": "code",
   "execution_count": 156,
   "metadata": {},
   "outputs": [],
   "source": [
    "masked_data3 = ma.masked_less_equal(\n",
    "    [1.0, -1.0, 3.0, -1.0],\n",
    "    1.0\n",
    ")"
   ]
  },
  {
   "cell_type": "code",
   "execution_count": 157,
   "metadata": {},
   "outputs": [
    {
     "output_type": "stream",
     "name": "stdout",
     "text": [
      "[-- -- 3.0 --]\n"
     ]
    }
   ],
   "source": [
    "print(masked_data3)"
   ]
  },
  {
   "cell_type": "code",
   "execution_count": 158,
   "metadata": {},
   "outputs": [
    {
     "output_type": "stream",
     "name": "stdout",
     "text": [
      "[3.0]\n"
     ]
    }
   ],
   "source": [
    "print(masked_data3[~masked_data3.mask])"
   ]
  }
 ],
 "metadata": {
  "anaconda-cloud": {},
  "kernelspec": {
   "name": "python38164bitpyudemyconda8c705f49a8e643418ce4b1ca64c8ab63",
   "display_name": "Python 3.8.5 64-bit ('pyUdemy': conda)"
  },
  "language_info": {
   "codemirror_mode": {
    "name": "ipython",
    "version": 3
   },
   "file_extension": ".py",
   "mimetype": "text/x-python",
   "name": "python",
   "nbconvert_exporter": "python",
   "pygments_lexer": "ipython3",
   "version": "3.8.5"
  },
  "metadata": {
   "interpreter": {
    "hash": "423c48e3256333a0e0252f1efeec30283ab6ba0213e3a05c32b0541c29f89950"
   }
  }
 },
 "nbformat": 4,
 "nbformat_minor": 0
}