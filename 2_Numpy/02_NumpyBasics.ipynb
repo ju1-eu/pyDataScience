{
 "cells": [
  {
   "cell_type": "markdown",
   "source": [
    "# Numpy Basics"
   ],
   "metadata": {}
  },
  {
   "cell_type": "markdown",
   "source": [
    "NumPy bietet einen N-dimensionalen Array-Typ, den ndarray, der eine Sammlung von „Elementen“ des *gleichen* Typs beschreibt.\n",
    "Die Elemente können unter Verwendung von beispielsweise N ganzen Zahlen indiziert werden.\n",
    "Alle ndarrays sind homogen: Jedes Element nimmt einen gleich großen Speicherblock ein, und alle Blöcke werden genau gleich interpretiert.\n",
    "Ein aus einem Array extrahiertes Element, z. B. durch Indizierung, wird durch ein Python-Objekt dargestellt, dessen Typ einer der in NumPy erstellten skalaren Array-Typen ist."
   ],
   "metadata": {}
  },
  {
   "cell_type": "markdown",
   "source": [
    "<p align=\"center\">\n",
    "<img src=\"https://numpy.org/doc/stable/_images/threefundamental.png\">\n",
    "</p>"
   ],
   "metadata": {}
  },
  {
   "cell_type": "markdown",
   "source": [
    "## NumPy Array Attributes"
   ],
   "metadata": {}
  },
  {
   "cell_type": "code",
   "execution_count": 43,
   "source": [
    "import numpy as np\n",
    "np.random.seed(0)"
   ],
   "outputs": [],
   "metadata": {}
  },
  {
   "cell_type": "code",
   "execution_count": 44,
   "source": [
    "# Hilfsfunktion array\n",
    "def array_info(array: np.ndarray) -> None:\n",
    "    print(f\"ndim   = dimension:       {array.ndim}\")\n",
    "    print(f\"shape  = größe:           {array.shape}\")\n",
    "    print(f\"size   = anzahl Elemente: {array.size}\")\n",
    "    print(f\"dtype  = datentyp:        {array.dtype}\")\n",
    "    print(f\"values = wert:            \\n{array}\\n\")"
   ],
   "outputs": [],
   "metadata": {}
  },
  {
   "cell_type": "markdown",
   "source": [
    "## Array Indexing and Slicing\n",
    "\n",
    "Array-Indizierung bezieht sich auf jede Verwendung der eckigen Klammern ([]) zum Indexieren von Array-Werten. Es gibt viele Optionen für die Indexierung, die der numpy-Indexierung eine große Macht verleihen.\n",
    "\n",
    "Die meisten der folgenden Beispiele zeigen die Verwendung der Indizierung beim Verweisen auf Daten in einem Array. Die Beispiele funktionieren genauso gut, wenn Sie einem Array zuweisen.\n",
    "\n",
    "Beachten Sie, dass Slices von Arrays nicht die internen Array-Daten kopieren, sondern nur neue Ansichten der Originaldaten erzeugen."
   ],
   "metadata": {}
  },
  {
   "cell_type": "markdown",
   "source": [
    "![](../media/np_matrix_indexing.png)"
   ],
   "metadata": {}
  },
  {
   "cell_type": "markdown",
   "source": [
    "<p align=\"center\">\n",
    "<img src=\"https://numpy.org/doc/stable/_images/np_indexing.png\">\n",
    "</p>"
   ],
   "metadata": {}
  },
  {
   "cell_type": "markdown",
   "source": [
    "<p align=\"center\">\n",
    "<img src=\"https://numpy.org/doc/stable/_images/np_matrix_indexing.png\">\n",
    "</p>"
   ],
   "metadata": {}
  },
  {
   "cell_type": "code",
   "execution_count": 45,
   "source": [
    "data = np.array([[1, 2], [3, 4], [5, 6]])\n",
    "\n",
    "array_info(data)"
   ],
   "outputs": [
    {
     "output_type": "stream",
     "name": "stdout",
     "text": [
      "ndim   = dimension:       2\n",
      "shape  = größe:           (3, 2)\n",
      "size   = anzahl Elemente: 6\n",
      "dtype  = datentyp:        int64\n",
      "values = wert:            \n",
      "[[1 2]\n",
      " [3 4]\n",
      " [5 6]]\n",
      "\n"
     ]
    }
   ],
   "metadata": {
    "collapsed": false
   }
  },
  {
   "cell_type": "code",
   "execution_count": 46,
   "source": [
    "print(data[:3])"
   ],
   "outputs": [
    {
     "output_type": "stream",
     "name": "stdout",
     "text": [
      "[[1 2]\n",
      " [3 4]\n",
      " [5 6]]\n"
     ]
    }
   ],
   "metadata": {
    "collapsed": false
   }
  },
  {
   "cell_type": "code",
   "execution_count": 47,
   "source": [
    "print(data[1:])"
   ],
   "outputs": [
    {
     "output_type": "stream",
     "name": "stdout",
     "text": [
      "[[3 4]\n",
      " [5 6]]\n"
     ]
    }
   ],
   "metadata": {
    "collapsed": false
   }
  },
  {
   "cell_type": "code",
   "execution_count": 48,
   "source": [
    "print(data[1:2])"
   ],
   "outputs": [
    {
     "output_type": "stream",
     "name": "stdout",
     "text": [
      "[[3 4]]\n"
     ]
    }
   ],
   "metadata": {
    "collapsed": false
   }
  },
  {
   "cell_type": "code",
   "execution_count": 49,
   "source": [
    "print(data[::-1])"
   ],
   "outputs": [
    {
     "output_type": "stream",
     "name": "stdout",
     "text": [
      "[[5 6]\n",
      " [3 4]\n",
      " [1 2]]\n"
     ]
    }
   ],
   "metadata": {
    "collapsed": false
   }
  },
  {
   "cell_type": "code",
   "execution_count": 50,
   "source": [
    "print(data[0, :])"
   ],
   "outputs": [
    {
     "output_type": "stream",
     "name": "stdout",
     "text": [
      "[1 2]\n"
     ]
    }
   ],
   "metadata": {
    "collapsed": false
   }
  },
  {
   "cell_type": "code",
   "execution_count": 51,
   "source": [
    "print(data[0])"
   ],
   "outputs": [
    {
     "output_type": "stream",
     "name": "stdout",
     "text": [
      "[1 2]\n"
     ]
    }
   ],
   "metadata": {
    "collapsed": false
   }
  },
  {
   "cell_type": "code",
   "execution_count": 52,
   "source": [
    "print(data[:, 0])"
   ],
   "outputs": [
    {
     "output_type": "stream",
     "name": "stdout",
     "text": [
      "[1 3 5]\n"
     ]
    }
   ],
   "metadata": {
    "collapsed": false
   }
  },
  {
   "cell_type": "code",
   "execution_count": 53,
   "source": [
    "mean = [0, 0]\n",
    "cov = [[1, 2],\n",
    "       [2, 5]]\n",
    "\n",
    "data = np.random.multivariate_normal(mean=mean, cov=cov, size=10)\n",
    "\n",
    "print(data)\n",
    "print(data.shape)"
   ],
   "outputs": [
    {
     "output_type": "stream",
     "name": "stdout",
     "text": [
      "[[-1.78290539 -3.87118733]\n",
      " [-1.76178869 -1.82780883]\n",
      " [-1.35141055 -4.32039163]\n",
      " [-0.81984535 -2.14310962]\n",
      " [-0.06176746  0.29530878]\n",
      " [-0.68960528 -0.09076013]\n",
      " [-0.74967019 -1.67816385]\n",
      " [-0.53776779 -0.93711981]\n",
      " [-1.30183841 -3.36497764]\n",
      " [ 0.03761145 -0.8336645 ]]\n",
      "(10, 2)\n"
     ]
    }
   ],
   "metadata": {}
  },
  {
   "cell_type": "code",
   "execution_count": 54,
   "source": [
    "rand_idxs = np.random.randint(low=0, high=data.shape[0], size=3)\n",
    "\n",
    "print(rand_idxs)"
   ],
   "outputs": [
    {
     "output_type": "stream",
     "name": "stdout",
     "text": [
      "[9 9 0]\n"
     ]
    }
   ],
   "metadata": {}
  },
  {
   "cell_type": "code",
   "execution_count": 55,
   "source": [
    "x_subsample = data[rand_idxs, :]\n",
    "\n",
    "print(x_subsample)"
   ],
   "outputs": [
    {
     "output_type": "stream",
     "name": "stdout",
     "text": [
      "[[ 0.03761145 -0.8336645 ]\n",
      " [ 0.03761145 -0.8336645 ]\n",
      " [-1.78290539 -3.87118733]]\n"
     ]
    }
   ],
   "metadata": {}
  },
  {
   "cell_type": "code",
   "execution_count": 56,
   "source": [
    "x_subsample = data[rand_idxs]\n",
    "\n",
    "print(x_subsample)"
   ],
   "outputs": [
    {
     "output_type": "stream",
     "name": "stdout",
     "text": [
      "[[ 0.03761145 -0.8336645 ]\n",
      " [ 0.03761145 -0.8336645 ]\n",
      " [-1.78290539 -3.87118733]]\n"
     ]
    }
   ],
   "metadata": {}
  },
  {
   "cell_type": "markdown",
   "source": [
    "## Subarrays are views"
   ],
   "metadata": {}
  },
  {
   "cell_type": "code",
   "execution_count": 57,
   "source": [
    "print(data)"
   ],
   "outputs": [
    {
     "output_type": "stream",
     "name": "stdout",
     "text": [
      "[[-1.78290539 -3.87118733]\n",
      " [-1.76178869 -1.82780883]\n",
      " [-1.35141055 -4.32039163]\n",
      " [-0.81984535 -2.14310962]\n",
      " [-0.06176746  0.29530878]\n",
      " [-0.68960528 -0.09076013]\n",
      " [-0.74967019 -1.67816385]\n",
      " [-0.53776779 -0.93711981]\n",
      " [-1.30183841 -3.36497764]\n",
      " [ 0.03761145 -0.8336645 ]]\n"
     ]
    }
   ],
   "metadata": {
    "collapsed": false
   }
  },
  {
   "cell_type": "code",
   "execution_count": 58,
   "source": [
    "x_sub_array = data[:2, :2]\n",
    "\n",
    "array_info(x_sub_array)"
   ],
   "outputs": [
    {
     "output_type": "stream",
     "name": "stdout",
     "text": [
      "ndim   = dimension:       2\n",
      "shape  = größe:           (2, 2)\n",
      "size   = anzahl Elemente: 4\n",
      "dtype  = datentyp:        float64\n",
      "values = wert:            \n",
      "[[-1.78290539 -3.87118733]\n",
      " [-1.76178869 -1.82780883]]\n",
      "\n"
     ]
    }
   ],
   "metadata": {
    "collapsed": false
   }
  },
  {
   "cell_type": "code",
   "execution_count": 59,
   "source": [
    "x_sub_array[0, 0] = -1\n",
    "\n",
    "array_info(x_sub_array)"
   ],
   "outputs": [
    {
     "output_type": "stream",
     "name": "stdout",
     "text": [
      "ndim   = dimension:       2\n",
      "shape  = größe:           (2, 2)\n",
      "size   = anzahl Elemente: 4\n",
      "dtype  = datentyp:        float64\n",
      "values = wert:            \n",
      "[[-1.         -3.87118733]\n",
      " [-1.76178869 -1.82780883]]\n",
      "\n"
     ]
    }
   ],
   "metadata": {
    "collapsed": false
   }
  },
  {
   "cell_type": "code",
   "execution_count": 60,
   "source": [
    "array_info(data)"
   ],
   "outputs": [
    {
     "output_type": "stream",
     "name": "stdout",
     "text": [
      "ndim   = dimension:       2\n",
      "shape  = größe:           (10, 2)\n",
      "size   = anzahl Elemente: 20\n",
      "dtype  = datentyp:        float64\n",
      "values = wert:            \n",
      "[[-1.         -3.87118733]\n",
      " [-1.76178869 -1.82780883]\n",
      " [-1.35141055 -4.32039163]\n",
      " [-0.81984535 -2.14310962]\n",
      " [-0.06176746  0.29530878]\n",
      " [-0.68960528 -0.09076013]\n",
      " [-0.74967019 -1.67816385]\n",
      " [-0.53776779 -0.93711981]\n",
      " [-1.30183841 -3.36497764]\n",
      " [ 0.03761145 -0.8336645 ]]\n",
      "\n"
     ]
    }
   ],
   "metadata": {
    "collapsed": false
   }
  },
  {
   "cell_type": "markdown",
   "source": [
    "## Creating copies of arrays"
   ],
   "metadata": {}
  },
  {
   "cell_type": "code",
   "execution_count": 61,
   "source": [
    "x_copy = data[:2, :2].copy()\n",
    "\n",
    "array_info(x_copy)"
   ],
   "outputs": [
    {
     "output_type": "stream",
     "name": "stdout",
     "text": [
      "ndim   = dimension:       2\n",
      "shape  = größe:           (2, 2)\n",
      "size   = anzahl Elemente: 4\n",
      "dtype  = datentyp:        float64\n",
      "values = wert:            \n",
      "[[-1.         -3.87118733]\n",
      " [-1.76178869 -1.82780883]]\n",
      "\n"
     ]
    }
   ],
   "metadata": {
    "collapsed": false
   }
  },
  {
   "cell_type": "code",
   "execution_count": 62,
   "source": [
    "x_copy[0, 0] = 42\n",
    "\n",
    "array_info(x_copy)"
   ],
   "outputs": [
    {
     "output_type": "stream",
     "name": "stdout",
     "text": [
      "ndim   = dimension:       2\n",
      "shape  = größe:           (2, 2)\n",
      "size   = anzahl Elemente: 4\n",
      "dtype  = datentyp:        float64\n",
      "values = wert:            \n",
      "[[42.         -3.87118733]\n",
      " [-1.76178869 -1.82780883]]\n",
      "\n"
     ]
    }
   ],
   "metadata": {
    "collapsed": false
   }
  },
  {
   "cell_type": "code",
   "execution_count": 63,
   "source": [
    "array_info(data)"
   ],
   "outputs": [
    {
     "output_type": "stream",
     "name": "stdout",
     "text": [
      "ndim   = dimension:       2\n",
      "shape  = größe:           (10, 2)\n",
      "size   = anzahl Elemente: 20\n",
      "dtype  = datentyp:        float64\n",
      "values = wert:            \n",
      "[[-1.         -3.87118733]\n",
      " [-1.76178869 -1.82780883]\n",
      " [-1.35141055 -4.32039163]\n",
      " [-0.81984535 -2.14310962]\n",
      " [-0.06176746  0.29530878]\n",
      " [-0.68960528 -0.09076013]\n",
      " [-0.74967019 -1.67816385]\n",
      " [-0.53776779 -0.93711981]\n",
      " [-1.30183841 -3.36497764]\n",
      " [ 0.03761145 -0.8336645 ]]\n",
      "\n"
     ]
    }
   ],
   "metadata": {
    "collapsed": false
   }
  },
  {
   "cell_type": "markdown",
   "source": [
    "## Reshaping of Arrays"
   ],
   "metadata": {}
  },
  {
   "cell_type": "markdown",
   "source": [
    "<p align=\"center\">\n",
    "<img src=\"https://numpy.org/doc/stable/_images/np_reshape.png\">\n",
    "</p>"
   ],
   "metadata": {}
  },
  {
   "cell_type": "code",
   "execution_count": 64,
   "source": [
    "a = np.arange(start=1, stop=10)\n",
    "\n",
    "array_info(a)"
   ],
   "outputs": [
    {
     "output_type": "stream",
     "name": "stdout",
     "text": [
      "ndim   = dimension:       1\n",
      "shape  = größe:           (9,)\n",
      "size   = anzahl Elemente: 9\n",
      "dtype  = datentyp:        int64\n",
      "values = wert:            \n",
      "[1 2 3 4 5 6 7 8 9]\n",
      "\n"
     ]
    }
   ],
   "metadata": {}
  },
  {
   "cell_type": "code",
   "execution_count": 65,
   "source": [
    "grid = np.reshape(a, newshape=(3, 3))\n",
    "\n",
    "array_info(grid)"
   ],
   "outputs": [
    {
     "output_type": "stream",
     "name": "stdout",
     "text": [
      "ndim   = dimension:       2\n",
      "shape  = größe:           (3, 3)\n",
      "size   = anzahl Elemente: 9\n",
      "dtype  = datentyp:        int64\n",
      "values = wert:            \n",
      "[[1 2 3]\n",
      " [4 5 6]\n",
      " [7 8 9]]\n",
      "\n"
     ]
    }
   ],
   "metadata": {
    "collapsed": false
   }
  },
  {
   "cell_type": "code",
   "execution_count": 66,
   "source": [
    "data = np.array([1, 2, 3])\n",
    "\n",
    "array_info(data)"
   ],
   "outputs": [
    {
     "output_type": "stream",
     "name": "stdout",
     "text": [
      "ndim   = dimension:       1\n",
      "shape  = größe:           (3,)\n",
      "size   = anzahl Elemente: 3\n",
      "dtype  = datentyp:        int64\n",
      "values = wert:            \n",
      "[1 2 3]\n",
      "\n"
     ]
    }
   ],
   "metadata": {
    "collapsed": false
   }
  },
  {
   "cell_type": "code",
   "execution_count": 67,
   "source": [
    "data = np.reshape(data, newshape=(1, 3))\n",
    "\n",
    "array_info(data)"
   ],
   "outputs": [
    {
     "output_type": "stream",
     "name": "stdout",
     "text": [
      "ndim   = dimension:       2\n",
      "shape  = größe:           (1, 3)\n",
      "size   = anzahl Elemente: 3\n",
      "dtype  = datentyp:        int64\n",
      "values = wert:            \n",
      "[[1 2 3]]\n",
      "\n"
     ]
    }
   ],
   "metadata": {}
  },
  {
   "cell_type": "code",
   "execution_count": 68,
   "source": [
    "array_info(data)\n",
    "\n",
    "data = data[np.newaxis, :]\n",
    "\n",
    "array_info(data)"
   ],
   "outputs": [
    {
     "output_type": "stream",
     "name": "stdout",
     "text": [
      "ndim   = dimension:       2\n",
      "shape  = größe:           (1, 3)\n",
      "size   = anzahl Elemente: 3\n",
      "dtype  = datentyp:        int64\n",
      "values = wert:            \n",
      "[[1 2 3]]\n",
      "\n",
      "ndim   = dimension:       3\n",
      "shape  = größe:           (1, 1, 3)\n",
      "size   = anzahl Elemente: 3\n",
      "dtype  = datentyp:        int64\n",
      "values = wert:            \n",
      "[[[1 2 3]]]\n",
      "\n"
     ]
    }
   ],
   "metadata": {
    "collapsed": false
   }
  },
  {
   "cell_type": "code",
   "execution_count": 69,
   "source": [
    "array_info(data)\n",
    "\n",
    "data = data.reshape((3, 1))\n",
    "\n",
    "array_info(data)"
   ],
   "outputs": [
    {
     "output_type": "stream",
     "name": "stdout",
     "text": [
      "ndim   = dimension:       3\n",
      "shape  = größe:           (1, 1, 3)\n",
      "size   = anzahl Elemente: 3\n",
      "dtype  = datentyp:        int64\n",
      "values = wert:            \n",
      "[[[1 2 3]]]\n",
      "\n",
      "ndim   = dimension:       2\n",
      "shape  = größe:           (3, 1)\n",
      "size   = anzahl Elemente: 3\n",
      "dtype  = datentyp:        int64\n",
      "values = wert:            \n",
      "[[1]\n",
      " [2]\n",
      " [3]]\n",
      "\n"
     ]
    }
   ],
   "metadata": {
    "collapsed": false
   }
  },
  {
   "cell_type": "code",
   "execution_count": 70,
   "source": [
    "array_info(data)\n",
    "\n",
    "data = data.ravel()\n",
    "\n",
    "array_info(data)"
   ],
   "outputs": [
    {
     "output_type": "stream",
     "name": "stdout",
     "text": [
      "ndim   = dimension:       2\n",
      "shape  = größe:           (3, 1)\n",
      "size   = anzahl Elemente: 3\n",
      "dtype  = datentyp:        int64\n",
      "values = wert:            \n",
      "[[1]\n",
      " [2]\n",
      " [3]]\n",
      "\n",
      "ndim   = dimension:       1\n",
      "shape  = größe:           (3,)\n",
      "size   = anzahl Elemente: 3\n",
      "dtype  = datentyp:        int64\n",
      "values = wert:            \n",
      "[1 2 3]\n",
      "\n"
     ]
    }
   ],
   "metadata": {}
  },
  {
   "cell_type": "code",
   "execution_count": 71,
   "source": [
    "data = data.reshape((3, 1))\n",
    "array_info(data)\n",
    "\n",
    "data = data.flatten()\n",
    "\n",
    "array_info(data)"
   ],
   "outputs": [
    {
     "output_type": "stream",
     "name": "stdout",
     "text": [
      "ndim   = dimension:       2\n",
      "shape  = größe:           (3, 1)\n",
      "size   = anzahl Elemente: 3\n",
      "dtype  = datentyp:        int64\n",
      "values = wert:            \n",
      "[[1]\n",
      " [2]\n",
      " [3]]\n",
      "\n",
      "ndim   = dimension:       1\n",
      "shape  = größe:           (3,)\n",
      "size   = anzahl Elemente: 3\n",
      "dtype  = datentyp:        int64\n",
      "values = wert:            \n",
      "[1 2 3]\n",
      "\n"
     ]
    }
   ],
   "metadata": {}
  },
  {
   "cell_type": "markdown",
   "source": [
    "### “Automatic” Reshaping"
   ],
   "metadata": {}
  },
  {
   "cell_type": "code",
   "execution_count": 72,
   "source": [
    "a = np.arange(30)\n",
    "\n",
    "array_info(a)"
   ],
   "outputs": [
    {
     "output_type": "stream",
     "name": "stdout",
     "text": [
      "ndim   = dimension:       1\n",
      "shape  = größe:           (30,)\n",
      "size   = anzahl Elemente: 30\n",
      "dtype  = datentyp:        int64\n",
      "values = wert:            \n",
      "[ 0  1  2  3  4  5  6  7  8  9 10 11 12 13 14 15 16 17 18 19 20 21 22 23\n",
      " 24 25 26 27 28 29]\n",
      "\n"
     ]
    }
   ],
   "metadata": {}
  },
  {
   "cell_type": "code",
   "execution_count": 73,
   "source": [
    "b = a.reshape((2, -1, 3))\n",
    "\n",
    "array_info(b)"
   ],
   "outputs": [
    {
     "output_type": "stream",
     "name": "stdout",
     "text": [
      "ndim   = dimension:       3\n",
      "shape  = größe:           (2, 5, 3)\n",
      "size   = anzahl Elemente: 30\n",
      "dtype  = datentyp:        int64\n",
      "values = wert:            \n",
      "[[[ 0  1  2]\n",
      "  [ 3  4  5]\n",
      "  [ 6  7  8]\n",
      "  [ 9 10 11]\n",
      "  [12 13 14]]\n",
      "\n",
      " [[15 16 17]\n",
      "  [18 19 20]\n",
      "  [21 22 23]\n",
      "  [24 25 26]\n",
      "  [27 28 29]]]\n",
      "\n"
     ]
    }
   ],
   "metadata": {}
  },
  {
   "cell_type": "markdown",
   "source": [
    "## Changing the Dtype\n",
    "\n",
    "| Numpy type | C type   | Description |\n",
    "|-|-|-|\n",
    "| numpy.int8 | int8_t | Byte (-128 to 127) |\n",
    "| numpy.int16 | int16_t |   Integer (-32768 to 32767) |\n",
    "| numpy.int32 | int32_t |   Integer (-2147483648 to 2147483647) |\n",
    "| numpy.int64 | int64_t |   Integer (-9223372036854775808 to 9223372036854775807) |\n",
    "| numpy.uint8 | uint8_t |   Unsigned integer (0 to 255) |\n",
    "| numpy.uint16 | uint16_t |   Unsigned integer (0 to 65535) |\n",
    "| numpy.uint32 | uint32_t |   Unsigned integer (0 to 4294967295) |\n",
    "| numpy.uint64 | uint64_t |   Unsigned integer (0 to 18446744073709551615) |\n",
    "| numpy.intp | intptr_t |   Integer used for indexing, typically the same as ssize_t |\n",
    "| numpy.uintp | uintptr_t |   Integer large enough to hold a pointer |\n",
    "| numpy.float32 | float |  |\n",
    "| numpy.float64 | double |   Note that this matches the precision of the builtin python float. |\n",
    "| numpy.complex64 | float complex |   Complex number, represented by two 32-bit floats. |\n",
    "| numpy.complex128 | double complex |   Note that this matches the precision of the builtin python complex. |"
   ],
   "metadata": {}
  },
  {
   "cell_type": "code",
   "execution_count": 74,
   "source": [
    "data = np.float32([-1.0, 2.0, 3.0])\n",
    "\n",
    "array_info(data)"
   ],
   "outputs": [
    {
     "output_type": "stream",
     "name": "stdout",
     "text": [
      "ndim   = dimension:       1\n",
      "shape  = größe:           (3,)\n",
      "size   = anzahl Elemente: 3\n",
      "dtype  = datentyp:        float32\n",
      "values = wert:            \n",
      "[-1.  2.  3.]\n",
      "\n"
     ]
    }
   ],
   "metadata": {}
  },
  {
   "cell_type": "code",
   "execution_count": 75,
   "source": [
    "data = np.array([-1.0, 2.0, 3.0], dtype=np.float32)"
   ],
   "outputs": [],
   "metadata": {}
  },
  {
   "cell_type": "code",
   "execution_count": 76,
   "source": [
    "y = data.astype(np.int8)\n",
    "\n",
    "array_info(y)"
   ],
   "outputs": [
    {
     "output_type": "stream",
     "name": "stdout",
     "text": [
      "ndim   = dimension:       1\n",
      "shape  = größe:           (3,)\n",
      "size   = anzahl Elemente: 3\n",
      "dtype  = datentyp:        int8\n",
      "values = wert:            \n",
      "[-1  2  3]\n",
      "\n"
     ]
    }
   ],
   "metadata": {}
  },
  {
   "cell_type": "code",
   "execution_count": 77,
   "source": [
    "z = np.uint16(data)\n",
    "\n",
    "array_info(z)"
   ],
   "outputs": [
    {
     "output_type": "stream",
     "name": "stdout",
     "text": [
      "ndim   = dimension:       1\n",
      "shape  = größe:           (3,)\n",
      "size   = anzahl Elemente: 3\n",
      "dtype  = datentyp:        uint16\n",
      "values = wert:            \n",
      "[65535     2     3]\n",
      "\n"
     ]
    }
   ],
   "metadata": {}
  },
  {
   "cell_type": "markdown",
   "source": [
    "## Concatenation of arrays"
   ],
   "metadata": {}
  },
  {
   "cell_type": "code",
   "execution_count": 78,
   "source": [
    "# aneinanderhängen\n",
    "data = np.array([1, 2, 3])\n",
    "y = np.array([3, 2, 1])\n",
    "\n",
    "result = np.concatenate([data, y])\n",
    "\n",
    "array_info(result)"
   ],
   "outputs": [
    {
     "output_type": "stream",
     "name": "stdout",
     "text": [
      "ndim   = dimension:       1\n",
      "shape  = größe:           (6,)\n",
      "size   = anzahl Elemente: 6\n",
      "dtype  = datentyp:        int64\n",
      "values = wert:            \n",
      "[1 2 3 3 2 1]\n",
      "\n"
     ]
    }
   ],
   "metadata": {
    "collapsed": false
   }
  },
  {
   "cell_type": "code",
   "execution_count": 79,
   "source": [
    "grid = np.array([[1, 2, 3],\n",
    "                 [4, 5, 6]])\n",
    "\n",
    "array_info(grid)"
   ],
   "outputs": [
    {
     "output_type": "stream",
     "name": "stdout",
     "text": [
      "ndim   = dimension:       2\n",
      "shape  = größe:           (2, 3)\n",
      "size   = anzahl Elemente: 6\n",
      "dtype  = datentyp:        int64\n",
      "values = wert:            \n",
      "[[1 2 3]\n",
      " [4 5 6]]\n",
      "\n"
     ]
    }
   ],
   "metadata": {
    "collapsed": false
   }
  },
  {
   "cell_type": "code",
   "execution_count": 80,
   "source": [
    "result = np.concatenate([grid, grid])\n",
    "\n",
    "array_info(result)"
   ],
   "outputs": [
    {
     "output_type": "stream",
     "name": "stdout",
     "text": [
      "ndim   = dimension:       2\n",
      "shape  = größe:           (4, 3)\n",
      "size   = anzahl Elemente: 12\n",
      "dtype  = datentyp:        int64\n",
      "values = wert:            \n",
      "[[1 2 3]\n",
      " [4 5 6]\n",
      " [1 2 3]\n",
      " [4 5 6]]\n",
      "\n"
     ]
    }
   ],
   "metadata": {
    "collapsed": false
   }
  },
  {
   "cell_type": "code",
   "execution_count": 81,
   "source": [
    "result = np.concatenate([grid, grid], axis=0)\n",
    "\n",
    "array_info(result)"
   ],
   "outputs": [
    {
     "output_type": "stream",
     "name": "stdout",
     "text": [
      "ndim   = dimension:       2\n",
      "shape  = größe:           (4, 3)\n",
      "size   = anzahl Elemente: 12\n",
      "dtype  = datentyp:        int64\n",
      "values = wert:            \n",
      "[[1 2 3]\n",
      " [4 5 6]\n",
      " [1 2 3]\n",
      " [4 5 6]]\n",
      "\n"
     ]
    }
   ],
   "metadata": {}
  },
  {
   "cell_type": "code",
   "execution_count": 82,
   "source": [
    "result = np.concatenate([grid, grid], axis=1)\n",
    "\n",
    "array_info(result)"
   ],
   "outputs": [
    {
     "output_type": "stream",
     "name": "stdout",
     "text": [
      "ndim   = dimension:       2\n",
      "shape  = größe:           (2, 6)\n",
      "size   = anzahl Elemente: 12\n",
      "dtype  = datentyp:        int64\n",
      "values = wert:            \n",
      "[[1 2 3 1 2 3]\n",
      " [4 5 6 4 5 6]]\n",
      "\n"
     ]
    }
   ],
   "metadata": {
    "collapsed": false
   }
  },
  {
   "cell_type": "code",
   "execution_count": 83,
   "source": [
    "data = np.array([1, 2, 3])\n",
    "grid = np.array([[4, 5, 6],\n",
    "                 [7, 8, 9]])\n",
    "\n",
    "result = np.vstack([data, grid])\n",
    "\n",
    "array_info(result)"
   ],
   "outputs": [
    {
     "output_type": "stream",
     "name": "stdout",
     "text": [
      "ndim   = dimension:       2\n",
      "shape  = größe:           (3, 3)\n",
      "size   = anzahl Elemente: 9\n",
      "dtype  = datentyp:        int64\n",
      "values = wert:            \n",
      "[[1 2 3]\n",
      " [4 5 6]\n",
      " [7 8 9]]\n",
      "\n"
     ]
    }
   ],
   "metadata": {
    "collapsed": false
   }
  },
  {
   "cell_type": "code",
   "execution_count": 84,
   "source": [
    "y = np.array([[-1], [-1]])\n",
    "\n",
    "result = np.hstack([grid, y])\n",
    "\n",
    "array_info(result)"
   ],
   "outputs": [
    {
     "output_type": "stream",
     "name": "stdout",
     "text": [
      "ndim   = dimension:       2\n",
      "shape  = größe:           (2, 4)\n",
      "size   = anzahl Elemente: 8\n",
      "dtype  = datentyp:        int64\n",
      "values = wert:            \n",
      "[[ 4  5  6 -1]\n",
      " [ 7  8  9 -1]]\n",
      "\n"
     ]
    }
   ],
   "metadata": {
    "collapsed": false
   }
  }
 ],
 "metadata": {
  "anaconda-cloud": {},
  "kernelspec": {
   "name": "python3",
   "display_name": "Python 3.8.10 64-bit ('pyData': conda)"
  },
  "language_info": {
   "codemirror_mode": {
    "name": "ipython",
    "version": 3
   },
   "file_extension": ".py",
   "mimetype": "text/x-python",
   "name": "python",
   "nbconvert_exporter": "python",
   "pygments_lexer": "ipython3",
   "version": "3.8.10"
  },
  "metadata": {
   "interpreter": {
    "hash": "423c48e3256333a0e0252f1efeec30283ab6ba0213e3a05c32b0541c29f89950"
   }
  },
  "interpreter": {
   "hash": "e52d0a9233fe182dd4e14c7296091c8adab06812a76515c5f44878dd050c8e80"
  }
 },
 "nbformat": 4,
 "nbformat_minor": 2
}