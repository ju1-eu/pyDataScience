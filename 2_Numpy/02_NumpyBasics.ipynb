{
 "cells": [
  {
   "cell_type": "markdown",
   "metadata": {},
   "source": [
    "# Numpy Basics"
   ]
  },
  {
   "source": [
    "NumPy provides an N-dimensional array type, the ndarray, which describes a collection of “items” of the *same* type.  \n",
    "The items can be indexed using for example N integers.  \n",
    "All ndarrays are homogeneous: every item takes up the same size block of memory, and all blocks are interpreted in exactly the same way.  \n",
    "An item extracted from an array, e.g., by indexing, is represented by a Python object whose type is one of the array scalar types built in NumPy."
   ],
   "cell_type": "markdown",
   "metadata": {}
  },
  {
   "source": [
    "<p align=\"center\">\n",
    "<img src=\"https://numpy.org/doc/stable/_images/threefundamental.png\">\n",
    "</p>"
   ],
   "cell_type": "markdown",
   "metadata": {}
  },
  {
   "cell_type": "markdown",
   "metadata": {},
   "source": [
    "## NumPy Array Attributes"
   ]
  },
  {
   "cell_type": "code",
   "execution_count": 1,
   "metadata": {},
   "outputs": [],
   "source": [
    "import numpy as np\n",
    "np.random.seed(0)"
   ]
  },
  {
   "cell_type": "code",
   "execution_count": 2,
   "metadata": {},
   "outputs": [],
   "source": [
    "def array_info(array: np.ndarray) -> None:\n",
    "    print(f\"ndim: {array.ndim}\")\n",
    "    print(f\"shape: {array.shape}\")\n",
    "    print(f\"size: {array.size}\")\n",
    "    print(f\"dtype: {array.dtype}\")\n",
    "    print(f\"values:\\n{array}\\n\")"
   ]
  },
  {
   "cell_type": "markdown",
   "metadata": {},
   "source": [
    "## Array Indexing and Slicing\n",
    "\n",
    "Array indexing refers to any use of the square brackets ([]) to index array values. There are many options to indexing, which give numpy indexing great power.\n",
    "\n",
    "Most of the following examples show the use of indexing when referencing data in an array. The examples work just as well when assigning to an array.\n",
    "\n",
    "Note that slices of arrays do not copy the internal array data but only produce new views of the original data."
   ]
  },
  {
   "source": [
    "![](../media/np_matrix_indexing.png)"
   ],
   "cell_type": "markdown",
   "metadata": {}
  },
  {
   "cell_type": "code",
   "execution_count": 3,
   "metadata": {
    "collapsed": false
   },
   "outputs": [
    {
     "output_type": "stream",
     "name": "stdout",
     "text": [
      "ndim: 2\nshape: (3, 2)\nsize: 6\ndtype: int32\nvalues:\n[[1 2]\n [3 4]\n [5 6]]\n\n"
     ]
    }
   ],
   "source": [
    "x = np.array([[1, 2], [3, 4], [5, 6]])\n",
    "\n",
    "array_info(x)"
   ]
  },
  {
   "cell_type": "code",
   "execution_count": 4,
   "metadata": {
    "collapsed": false
   },
   "outputs": [
    {
     "output_type": "stream",
     "name": "stdout",
     "text": [
      "[[1 2]\n [3 4]\n [5 6]]\n"
     ]
    }
   ],
   "source": [
    "print(x[:3])"
   ]
  },
  {
   "cell_type": "code",
   "execution_count": 5,
   "metadata": {
    "collapsed": false
   },
   "outputs": [
    {
     "output_type": "stream",
     "name": "stdout",
     "text": [
      "[[3 4]\n [5 6]]\n"
     ]
    }
   ],
   "source": [
    "print(x[1:])"
   ]
  },
  {
   "cell_type": "code",
   "execution_count": 6,
   "metadata": {
    "collapsed": false
   },
   "outputs": [
    {
     "output_type": "stream",
     "name": "stdout",
     "text": [
      "[[3 4]]\n"
     ]
    }
   ],
   "source": [
    "print(x[1:2])"
   ]
  },
  {
   "cell_type": "code",
   "execution_count": 7,
   "metadata": {
    "collapsed": false
   },
   "outputs": [
    {
     "output_type": "stream",
     "name": "stdout",
     "text": [
      "[[5 6]\n [3 4]\n [1 2]]\n"
     ]
    }
   ],
   "source": [
    "print(x[::-1])"
   ]
  },
  {
   "cell_type": "code",
   "execution_count": 8,
   "metadata": {
    "collapsed": false
   },
   "outputs": [
    {
     "output_type": "stream",
     "name": "stdout",
     "text": [
      "[1 2]\n"
     ]
    }
   ],
   "source": [
    "print(x[0, :])"
   ]
  },
  {
   "cell_type": "code",
   "execution_count": 9,
   "metadata": {
    "collapsed": false
   },
   "outputs": [
    {
     "output_type": "stream",
     "name": "stdout",
     "text": [
      "[1 2]\n"
     ]
    }
   ],
   "source": [
    "print(x[0])"
   ]
  },
  {
   "cell_type": "code",
   "execution_count": 10,
   "metadata": {
    "collapsed": false
   },
   "outputs": [
    {
     "output_type": "stream",
     "name": "stdout",
     "text": [
      "[1 3 5]\n"
     ]
    }
   ],
   "source": [
    "print(x[:, 0])"
   ]
  },
  {
   "cell_type": "code",
   "execution_count": 11,
   "metadata": {},
   "outputs": [
    {
     "output_type": "stream",
     "name": "stdout",
     "text": [
      "[[-1.78290539 -3.87118733]\n [-1.76178869 -1.82780883]\n [-1.35141055 -4.32039163]\n [-0.81984535 -2.14310962]\n [-0.06176746  0.29530878]\n [-0.68960528 -0.09076013]\n [-0.74967019 -1.67816385]\n [-0.53776779 -0.93711981]\n [-1.30183841 -3.36497764]\n [ 0.03761145 -0.8336645 ]]\n(10, 2)\n"
     ]
    }
   ],
   "source": [
    "mean = [0, 0]\n",
    "cov = [[1, 2],\n",
    "       [2, 5]]\n",
    "\n",
    "x = np.random.multivariate_normal(mean=mean, cov=cov, size=10)\n",
    "\n",
    "print(x)\n",
    "print(x.shape)"
   ]
  },
  {
   "cell_type": "code",
   "execution_count": 12,
   "metadata": {},
   "outputs": [
    {
     "output_type": "stream",
     "name": "stdout",
     "text": [
      "[9 9 0]\n"
     ]
    }
   ],
   "source": [
    "rand_idxs = np.random.randint(low=0, high=x.shape[0], size=3)\n",
    "\n",
    "print(rand_idxs)"
   ]
  },
  {
   "cell_type": "code",
   "execution_count": 13,
   "metadata": {},
   "outputs": [
    {
     "output_type": "stream",
     "name": "stdout",
     "text": [
      "[[ 0.03761145 -0.8336645 ]\n [ 0.03761145 -0.8336645 ]\n [-1.78290539 -3.87118733]]\n"
     ]
    }
   ],
   "source": [
    "x_subsample = x[rand_idxs, :]\n",
    "\n",
    "print(x_subsample)"
   ]
  },
  {
   "cell_type": "code",
   "execution_count": 14,
   "metadata": {},
   "outputs": [
    {
     "output_type": "stream",
     "name": "stdout",
     "text": [
      "[[ 0.03761145 -0.8336645 ]\n [ 0.03761145 -0.8336645 ]\n [-1.78290539 -3.87118733]]\n"
     ]
    }
   ],
   "source": [
    "x_subsample = x[rand_idxs]\n",
    "\n",
    "print(x_subsample)"
   ]
  },
  {
   "cell_type": "markdown",
   "metadata": {},
   "source": [
    "## Subarrays are views"
   ]
  },
  {
   "cell_type": "code",
   "execution_count": 15,
   "metadata": {
    "collapsed": false
   },
   "outputs": [
    {
     "output_type": "stream",
     "name": "stdout",
     "text": [
      "[[-1.78290539 -3.87118733]\n [-1.76178869 -1.82780883]\n [-1.35141055 -4.32039163]\n [-0.81984535 -2.14310962]\n [-0.06176746  0.29530878]\n [-0.68960528 -0.09076013]\n [-0.74967019 -1.67816385]\n [-0.53776779 -0.93711981]\n [-1.30183841 -3.36497764]\n [ 0.03761145 -0.8336645 ]]\n"
     ]
    }
   ],
   "source": [
    "print(x)"
   ]
  },
  {
   "cell_type": "code",
   "execution_count": 16,
   "metadata": {
    "collapsed": false
   },
   "outputs": [
    {
     "output_type": "stream",
     "name": "stdout",
     "text": [
      "ndim: 2\nshape: (2, 2)\nsize: 4\ndtype: float64\nvalues:\n[[-1.78290539 -3.87118733]\n [-1.76178869 -1.82780883]]\n\n"
     ]
    }
   ],
   "source": [
    "x_sub_array = x[:2, :2]\n",
    "\n",
    "array_info(x_sub_array)"
   ]
  },
  {
   "cell_type": "code",
   "execution_count": 17,
   "metadata": {
    "collapsed": false
   },
   "outputs": [
    {
     "output_type": "stream",
     "name": "stdout",
     "text": [
      "ndim: 2\nshape: (2, 2)\nsize: 4\ndtype: float64\nvalues:\n[[-1.         -3.87118733]\n [-1.76178869 -1.82780883]]\n\n"
     ]
    }
   ],
   "source": [
    "x_sub_array[0, 0] = -1\n",
    "\n",
    "array_info(x_sub_array)"
   ]
  },
  {
   "cell_type": "code",
   "execution_count": 18,
   "metadata": {
    "collapsed": false
   },
   "outputs": [
    {
     "output_type": "stream",
     "name": "stdout",
     "text": [
      "ndim: 2\nshape: (10, 2)\nsize: 20\ndtype: float64\nvalues:\n[[-1.         -3.87118733]\n [-1.76178869 -1.82780883]\n [-1.35141055 -4.32039163]\n [-0.81984535 -2.14310962]\n [-0.06176746  0.29530878]\n [-0.68960528 -0.09076013]\n [-0.74967019 -1.67816385]\n [-0.53776779 -0.93711981]\n [-1.30183841 -3.36497764]\n [ 0.03761145 -0.8336645 ]]\n\n"
     ]
    }
   ],
   "source": [
    "array_info(x)"
   ]
  },
  {
   "cell_type": "markdown",
   "metadata": {},
   "source": [
    "## Creating copies of arrays"
   ]
  },
  {
   "cell_type": "code",
   "execution_count": 19,
   "metadata": {
    "collapsed": false
   },
   "outputs": [
    {
     "output_type": "stream",
     "name": "stdout",
     "text": [
      "ndim: 2\nshape: (2, 2)\nsize: 4\ndtype: float64\nvalues:\n[[-1.         -3.87118733]\n [-1.76178869 -1.82780883]]\n\n"
     ]
    }
   ],
   "source": [
    "x_copy = x[:2, :2].copy()\n",
    "\n",
    "array_info(x_copy)"
   ]
  },
  {
   "cell_type": "code",
   "execution_count": 20,
   "metadata": {
    "collapsed": false
   },
   "outputs": [
    {
     "output_type": "stream",
     "name": "stdout",
     "text": [
      "ndim: 2\n",
      "shape: (2, 2)\n",
      "size: 4\n",
      "dtype: float64\n",
      "values:\n",
      "[[42.         -3.87118733]\n",
      " [-1.76178869 -1.82780883]]\n",
      "\n"
     ]
    }
   ],
   "source": [
    "x_copy[0, 0] = 42\n",
    "\n",
    "array_info(x_copy)"
   ]
  },
  {
   "cell_type": "code",
   "execution_count": 21,
   "metadata": {
    "collapsed": false
   },
   "outputs": [
    {
     "output_type": "stream",
     "name": "stdout",
     "text": [
      "ndim: 2\nshape: (10, 2)\nsize: 20\ndtype: float64\nvalues:\n[[-1.         -3.87118733]\n [-1.76178869 -1.82780883]\n [-1.35141055 -4.32039163]\n [-0.81984535 -2.14310962]\n [-0.06176746  0.29530878]\n [-0.68960528 -0.09076013]\n [-0.74967019 -1.67816385]\n [-0.53776779 -0.93711981]\n [-1.30183841 -3.36497764]\n [ 0.03761145 -0.8336645 ]]\n\n"
     ]
    }
   ],
   "source": [
    "array_info(x)"
   ]
  },
  {
   "cell_type": "markdown",
   "metadata": {},
   "source": [
    "## Reshaping of Arrays"
   ]
  },
  {
   "cell_type": "code",
   "execution_count": 22,
   "metadata": {},
   "outputs": [
    {
     "output_type": "stream",
     "name": "stdout",
     "text": [
      "ndim: 1\nshape: (9,)\nsize: 9\ndtype: int32\nvalues:\n[1 2 3 4 5 6 7 8 9]\n\n"
     ]
    }
   ],
   "source": [
    "a = np.arange(start=1, stop=10)\n",
    "\n",
    "array_info(a)"
   ]
  },
  {
   "cell_type": "code",
   "execution_count": 23,
   "metadata": {
    "collapsed": false
   },
   "outputs": [
    {
     "output_type": "stream",
     "name": "stdout",
     "text": [
      "ndim: 2\nshape: (3, 3)\nsize: 9\ndtype: int32\nvalues:\n[[1 2 3]\n [4 5 6]\n [7 8 9]]\n\n"
     ]
    }
   ],
   "source": [
    "grid = np.reshape(a, newshape=(3, 3))\n",
    "\n",
    "array_info(grid)"
   ]
  },
  {
   "cell_type": "code",
   "execution_count": 24,
   "metadata": {
    "collapsed": false
   },
   "outputs": [
    {
     "output_type": "stream",
     "name": "stdout",
     "text": [
      "ndim: 1\nshape: (3,)\nsize: 3\ndtype: int32\nvalues:\n[1 2 3]\n\n"
     ]
    }
   ],
   "source": [
    "x = np.array([1, 2, 3])\n",
    "\n",
    "array_info(x)"
   ]
  },
  {
   "cell_type": "code",
   "execution_count": 25,
   "metadata": {},
   "outputs": [
    {
     "output_type": "stream",
     "name": "stdout",
     "text": [
      "ndim: 2\nshape: (1, 3)\nsize: 3\ndtype: int32\nvalues:\n[[1 2 3]]\n\n"
     ]
    }
   ],
   "source": [
    "x = np.reshape(x, newshape=(1, 3))\n",
    "\n",
    "array_info(x)"
   ]
  },
  {
   "cell_type": "code",
   "execution_count": 26,
   "metadata": {
    "collapsed": false
   },
   "outputs": [
    {
     "output_type": "stream",
     "name": "stdout",
     "text": [
      "ndim: 2\nshape: (1, 3)\nsize: 3\ndtype: int32\nvalues:\n[[1 2 3]]\n\nndim: 3\nshape: (1, 1, 3)\nsize: 3\ndtype: int32\nvalues:\n[[[1 2 3]]]\n\n"
     ]
    }
   ],
   "source": [
    "array_info(x)\n",
    "\n",
    "x = x[np.newaxis, :]\n",
    "\n",
    "array_info(x)"
   ]
  },
  {
   "cell_type": "code",
   "execution_count": 27,
   "metadata": {
    "collapsed": false
   },
   "outputs": [
    {
     "output_type": "stream",
     "name": "stdout",
     "text": [
      "ndim: 3\nshape: (1, 1, 3)\nsize: 3\ndtype: int32\nvalues:\n[[[1 2 3]]]\n\nndim: 2\nshape: (3, 1)\nsize: 3\ndtype: int32\nvalues:\n[[1]\n [2]\n [3]]\n\n"
     ]
    }
   ],
   "source": [
    "array_info(x)\n",
    "\n",
    "x = x.reshape((3, 1))\n",
    "\n",
    "array_info(x)"
   ]
  },
  {
   "cell_type": "code",
   "execution_count": 28,
   "metadata": {},
   "outputs": [
    {
     "output_type": "stream",
     "name": "stdout",
     "text": [
      "ndim: 2\nshape: (3, 1)\nsize: 3\ndtype: int32\nvalues:\n[[1]\n [2]\n [3]]\n\nndim: 1\nshape: (3,)\nsize: 3\ndtype: int32\nvalues:\n[1 2 3]\n\n"
     ]
    }
   ],
   "source": [
    "array_info(x)\n",
    "\n",
    "x = x.ravel()\n",
    "\n",
    "array_info(x)"
   ]
  },
  {
   "cell_type": "code",
   "execution_count": 29,
   "metadata": {},
   "outputs": [
    {
     "output_type": "stream",
     "name": "stdout",
     "text": [
      "ndim: 2\nshape: (3, 1)\nsize: 3\ndtype: int32\nvalues:\n[[1]\n [2]\n [3]]\n\nndim: 1\nshape: (3,)\nsize: 3\ndtype: int32\nvalues:\n[1 2 3]\n\n"
     ]
    }
   ],
   "source": [
    "x = x.reshape((3, 1))\n",
    "array_info(x)\n",
    "\n",
    "x = x.flatten()\n",
    "\n",
    "array_info(x)"
   ]
  },
  {
   "source": [
    "### “Automatic” Reshaping"
   ],
   "cell_type": "markdown",
   "metadata": {}
  },
  {
   "cell_type": "code",
   "execution_count": 30,
   "metadata": {},
   "outputs": [
    {
     "output_type": "stream",
     "name": "stdout",
     "text": [
      "ndim: 1\nshape: (30,)\nsize: 30\ndtype: int32\nvalues:\n[ 0  1  2  3  4  5  6  7  8  9 10 11 12 13 14 15 16 17 18 19 20 21 22 23\n 24 25 26 27 28 29]\n\n"
     ]
    }
   ],
   "source": [
    "a = np.arange(30)\n",
    "\n",
    "array_info(a)"
   ]
  },
  {
   "cell_type": "code",
   "execution_count": 31,
   "metadata": {},
   "outputs": [
    {
     "output_type": "stream",
     "name": "stdout",
     "text": [
      "ndim: 3\nshape: (2, 5, 3)\nsize: 30\ndtype: int32\nvalues:\n[[[ 0  1  2]\n  [ 3  4  5]\n  [ 6  7  8]\n  [ 9 10 11]\n  [12 13 14]]\n\n [[15 16 17]\n  [18 19 20]\n  [21 22 23]\n  [24 25 26]\n  [27 28 29]]]\n\n"
     ]
    }
   ],
   "source": [
    "b = a.reshape((2, -1, 3))\n",
    "\n",
    "array_info(b)"
   ]
  },
  {
   "source": [
    "## Changing the Dtype\n",
    "\n",
    "| Numpy type | C type   | Description |\n",
    "|-|-|-|\n",
    "| numpy.int8 | int8_t | Byte (-128 to 127) |\n",
    "| numpy.int16 | int16_t |   Integer (-32768 to 32767) |\n",
    "| numpy.int32 | int32_t |   Integer (-2147483648 to 2147483647) |\n",
    "| numpy.int64 | int64_t |   Integer (-9223372036854775808 to 9223372036854775807) |\n",
    "| numpy.uint8 | uint8_t |   Unsigned integer (0 to 255) |\n",
    "| numpy.uint16 | uint16_t |   Unsigned integer (0 to 65535) |\n",
    "| numpy.uint32 | uint32_t |   Unsigned integer (0 to 4294967295) |\n",
    "| numpy.uint64 | uint64_t |   Unsigned integer (0 to 18446744073709551615) |\n",
    "| numpy.intp | intptr_t |   Integer used for indexing, typically the same as ssize_t |\n",
    "| numpy.uintp | uintptr_t |   Integer large enough to hold a pointer |\n",
    "| numpy.float32 | float |  |\n",
    "| numpy.float64 | double |   Note that this matches the precision of the builtin python float. |\n",
    "| numpy.complex64 | float complex |   Complex number, represented by two 32-bit floats. |\n",
    "| numpy.complex128 | double complex |   Note that this matches the precision of the builtin python complex. |"
   ],
   "cell_type": "markdown",
   "metadata": {}
  },
  {
   "cell_type": "code",
   "execution_count": 32,
   "metadata": {},
   "outputs": [
    {
     "output_type": "stream",
     "name": "stdout",
     "text": [
      "ndim: 1\nshape: (3,)\nsize: 3\ndtype: float32\nvalues:\n[-1.  2.  3.]\n\n"
     ]
    }
   ],
   "source": [
    "x = np.float32([-1.0, 2.0, 3.0])\n",
    "\n",
    "array_info(x)"
   ]
  },
  {
   "cell_type": "code",
   "execution_count": 33,
   "metadata": {},
   "outputs": [],
   "source": [
    "x = np.array([-1.0, 2.0, 3.0], dtype=np.float32)"
   ]
  },
  {
   "cell_type": "code",
   "execution_count": 34,
   "metadata": {},
   "outputs": [
    {
     "output_type": "stream",
     "name": "stdout",
     "text": [
      "ndim: 1\n",
      "shape: (3,)\n",
      "size: 3\n",
      "dtype: int8\n",
      "values:\n",
      "[-1  2  3]\n",
      "\n"
     ]
    }
   ],
   "source": [
    "y = x.astype(np.int8)\n",
    "\n",
    "array_info(y)"
   ]
  },
  {
   "cell_type": "code",
   "execution_count": 35,
   "metadata": {},
   "outputs": [
    {
     "output_type": "stream",
     "name": "stdout",
     "text": [
      "ndim: 1\nshape: (3,)\nsize: 3\ndtype: uint16\nvalues:\n[65535     2     3]\n\n"
     ]
    }
   ],
   "source": [
    "z = np.uint16(x)\n",
    "\n",
    "array_info(z)"
   ]
  },
  {
   "cell_type": "markdown",
   "metadata": {},
   "source": [
    "## Concatenation of arrays"
   ]
  },
  {
   "cell_type": "code",
   "execution_count": 36,
   "metadata": {
    "collapsed": false
   },
   "outputs": [
    {
     "output_type": "stream",
     "name": "stdout",
     "text": [
      "ndim: 1\nshape: (6,)\nsize: 6\ndtype: int32\nvalues:\n[1 2 3 3 2 1]\n\n"
     ]
    }
   ],
   "source": [
    "x = np.array([1, 2, 3])\n",
    "y = np.array([3, 2, 1])\n",
    "\n",
    "result = np.concatenate([x, y])\n",
    "\n",
    "array_info(result)"
   ]
  },
  {
   "cell_type": "code",
   "execution_count": 37,
   "metadata": {
    "collapsed": false
   },
   "outputs": [
    {
     "output_type": "stream",
     "name": "stdout",
     "text": [
      "ndim: 2\nshape: (2, 3)\nsize: 6\ndtype: int32\nvalues:\n[[1 2 3]\n [4 5 6]]\n\n"
     ]
    }
   ],
   "source": [
    "grid = np.array([[1, 2, 3],\n",
    "                 [4, 5, 6]])\n",
    "\n",
    "array_info(grid)"
   ]
  },
  {
   "cell_type": "code",
   "execution_count": 38,
   "metadata": {
    "collapsed": false
   },
   "outputs": [
    {
     "output_type": "stream",
     "name": "stdout",
     "text": [
      "ndim: 2\nshape: (4, 3)\nsize: 12\ndtype: int32\nvalues:\n[[1 2 3]\n [4 5 6]\n [1 2 3]\n [4 5 6]]\n\n"
     ]
    }
   ],
   "source": [
    "result = np.concatenate([grid, grid])\n",
    "\n",
    "array_info(result)"
   ]
  },
  {
   "cell_type": "code",
   "execution_count": 39,
   "metadata": {},
   "outputs": [
    {
     "output_type": "stream",
     "name": "stdout",
     "text": [
      "ndim: 2\nshape: (4, 3)\nsize: 12\ndtype: int32\nvalues:\n[[1 2 3]\n [4 5 6]\n [1 2 3]\n [4 5 6]]\n\n"
     ]
    }
   ],
   "source": [
    "result = np.concatenate([grid, grid], axis=0)\n",
    "\n",
    "array_info(result)"
   ]
  },
  {
   "cell_type": "code",
   "execution_count": 40,
   "metadata": {
    "collapsed": false
   },
   "outputs": [
    {
     "output_type": "stream",
     "name": "stdout",
     "text": [
      "ndim: 2\nshape: (2, 6)\nsize: 12\ndtype: int32\nvalues:\n[[1 2 3 1 2 3]\n [4 5 6 4 5 6]]\n\n"
     ]
    }
   ],
   "source": [
    "result = np.concatenate([grid, grid], axis=1)\n",
    "\n",
    "array_info(result)"
   ]
  },
  {
   "cell_type": "code",
   "execution_count": 41,
   "metadata": {
    "collapsed": false
   },
   "outputs": [
    {
     "output_type": "stream",
     "name": "stdout",
     "text": [
      "ndim: 2\nshape: (3, 3)\nsize: 9\ndtype: int32\nvalues:\n[[1 2 3]\n [4 5 6]\n [7 8 9]]\n\n"
     ]
    }
   ],
   "source": [
    "x = np.array([1, 2, 3])\n",
    "grid = np.array([[4, 5, 6],\n",
    "                 [7, 8, 9]])\n",
    "\n",
    "result = np.vstack([x, grid])\n",
    "\n",
    "array_info(result)"
   ]
  },
  {
   "cell_type": "code",
   "execution_count": 42,
   "metadata": {
    "collapsed": false
   },
   "outputs": [
    {
     "output_type": "stream",
     "name": "stdout",
     "text": [
      "ndim: 2\nshape: (2, 4)\nsize: 8\ndtype: int32\nvalues:\n[[ 4  5  6 -1]\n [ 7  8  9 -1]]\n\n"
     ]
    }
   ],
   "source": [
    "y = np.array([[-1], [-1]])\n",
    "\n",
    "result = np.hstack([grid, y])\n",
    "\n",
    "array_info(result)"
   ]
  }
 ],
 "metadata": {
  "anaconda-cloud": {},
  "kernelspec": {
   "name": "python38164bitpyudemyconda8c705f49a8e643418ce4b1ca64c8ab63",
   "display_name": "Python 3.8.5 64-bit ('pyUdemy': conda)"
  },
  "language_info": {
   "codemirror_mode": {
    "name": "ipython",
    "version": 3
   },
   "file_extension": ".py",
   "mimetype": "text/x-python",
   "name": "python",
   "nbconvert_exporter": "python",
   "pygments_lexer": "ipython3",
   "version": "3.8.5"
  },
  "metadata": {
   "interpreter": {
    "hash": "423c48e3256333a0e0252f1efeec30283ab6ba0213e3a05c32b0541c29f89950"
   }
  }
 },
 "nbformat": 4,
 "nbformat_minor": 0
}