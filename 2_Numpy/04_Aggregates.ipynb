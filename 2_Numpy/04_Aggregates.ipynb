{
 "cells": [
  {
   "cell_type": "markdown",
   "source": [
    "# Numpy Aggregations\n",
    "\n",
    "It’s very common to want to aggregate along a row or column.  \n",
    "By default, every NumPy aggregation function will return the aggregate of the entire array."
   ],
   "metadata": {}
  },
  {
   "cell_type": "code",
   "execution_count": 1,
   "source": [
    "import numpy as np\n",
    "np.random.seed(0)"
   ],
   "outputs": [],
   "metadata": {
    "collapsed": false
   }
  },
  {
   "cell_type": "code",
   "execution_count": 2,
   "source": [
    "# Hilfsfunktion array\n",
    "def array_info(array: np.ndarray) -> None:\n",
    "    print(f\"ndim   = dimension:       {array.ndim}\")\n",
    "    print(f\"shape  = größe:           {array.shape}\")\n",
    "    print(f\"size   = anzahl Elemente: {array.size}\")\n",
    "    print(f\"dtype  = datentyp:        {array.dtype}\")\n",
    "    print(f\"values = wert:            \\n{array}\\n\")"
   ],
   "outputs": [],
   "metadata": {}
  },
  {
   "cell_type": "code",
   "execution_count": 3,
   "source": [
    "x = np.array([[1, 2],\n",
    "              [5, 3],\n",
    "              [4, 6]])\n",
    "\n",
    "array_info(x)"
   ],
   "outputs": [
    {
     "output_type": "stream",
     "name": "stdout",
     "text": [
      "ndim: 2\n",
      "shape: (3, 2)\n",
      "size: 6\n",
      "dtype: int64\n",
      "values:\n",
      "[[1 2]\n",
      " [5 3]\n",
      " [4 6]]\n",
      "\n"
     ]
    }
   ],
   "metadata": {
    "collapsed": false
   }
  },
  {
   "cell_type": "markdown",
   "source": [
    "![](../media/np_matrix_aggregation_row.png)\n",
    "\n",
    "*The axis parameter indicates which axis gets collapsed.*"
   ],
   "metadata": {}
  },
  {
   "cell_type": "code",
   "execution_count": 4,
   "source": [
    "print(np.max(x, axis=0))"
   ],
   "outputs": [
    {
     "output_type": "stream",
     "name": "stdout",
     "text": [
      "[5 6]\n"
     ]
    }
   ],
   "metadata": {}
  },
  {
   "cell_type": "code",
   "execution_count": 5,
   "source": [
    "print(np.max(x, axis=1))"
   ],
   "outputs": [
    {
     "output_type": "stream",
     "name": "stdout",
     "text": [
      "[2 5 6]\n"
     ]
    }
   ],
   "metadata": {}
  },
  {
   "cell_type": "code",
   "execution_count": 6,
   "source": [
    "print(np.sum(x))"
   ],
   "outputs": [
    {
     "output_type": "stream",
     "name": "stdout",
     "text": [
      "21\n"
     ]
    }
   ],
   "metadata": {
    "collapsed": false
   }
  },
  {
   "cell_type": "code",
   "execution_count": 7,
   "source": [
    "print(np.sum(x, axis=0))"
   ],
   "outputs": [
    {
     "output_type": "stream",
     "name": "stdout",
     "text": [
      "[10 11]\n"
     ]
    }
   ],
   "metadata": {}
  },
  {
   "cell_type": "code",
   "execution_count": 8,
   "source": [
    "print(np.sum(x, axis=1))"
   ],
   "outputs": [
    {
     "output_type": "stream",
     "name": "stdout",
     "text": [
      "[ 3  8 10]\n"
     ]
    }
   ],
   "metadata": {}
  },
  {
   "cell_type": "code",
   "execution_count": 9,
   "source": [
    "print(np.prod(x))"
   ],
   "outputs": [
    {
     "output_type": "stream",
     "name": "stdout",
     "text": [
      "720\n"
     ]
    }
   ],
   "metadata": {}
  },
  {
   "cell_type": "code",
   "execution_count": 10,
   "source": [
    "big_array = np.random.rand(100_000)"
   ],
   "outputs": [],
   "metadata": {}
  },
  {
   "cell_type": "code",
   "execution_count": 11,
   "source": [
    "%timeit sum(big_array)\n",
    "%timeit np.sum(big_array)"
   ],
   "outputs": [
    {
     "output_type": "stream",
     "name": "stdout",
     "text": [
      "5.6 ms ± 160 µs per loop (mean ± std. dev. of 7 runs, 100 loops each)\n",
      "31 µs ± 256 ns per loop (mean ± std. dev. of 7 runs, 10000 loops each)\n"
     ]
    }
   ],
   "metadata": {
    "collapsed": false
   }
  },
  {
   "cell_type": "code",
   "execution_count": 12,
   "source": [
    "13 * 1000 / 40  # Speedup"
   ],
   "outputs": [
    {
     "output_type": "execute_result",
     "data": {
      "text/plain": [
       "325.0"
      ]
     },
     "metadata": {},
     "execution_count": 12
    }
   ],
   "metadata": {}
  },
  {
   "cell_type": "markdown",
   "source": [
    "## Minimum and Maximum"
   ],
   "metadata": {}
  },
  {
   "cell_type": "code",
   "execution_count": 13,
   "source": [
    "print(min(big_array))\n",
    "print(max(big_array))"
   ],
   "outputs": [
    {
     "output_type": "stream",
     "name": "stdout",
     "text": [
      "3.3105544573475143e-06\n",
      "0.9999779517807228\n"
     ]
    }
   ],
   "metadata": {
    "collapsed": false
   }
  },
  {
   "cell_type": "code",
   "execution_count": 14,
   "source": [
    "print(np.min(big_array))\n",
    "print(np.max(big_array))"
   ],
   "outputs": [
    {
     "output_type": "stream",
     "name": "stdout",
     "text": [
      "3.3105544573475143e-06\n",
      "0.9999779517807228\n"
     ]
    }
   ],
   "metadata": {
    "collapsed": false
   }
  },
  {
   "cell_type": "code",
   "execution_count": 15,
   "source": [
    "%timeit min(big_array)\n",
    "%timeit np.min(big_array)"
   ],
   "outputs": [
    {
     "output_type": "stream",
     "name": "stdout",
     "text": [
      "4.08 ms ± 9.62 µs per loop (mean ± std. dev. of 7 runs, 100 loops each)\n",
      "28.6 µs ± 599 ns per loop (mean ± std. dev. of 7 runs, 10000 loops each)\n"
     ]
    }
   ],
   "metadata": {
    "collapsed": false
   }
  },
  {
   "cell_type": "code",
   "execution_count": 16,
   "source": [
    "7.38 * 1000 / 30.3"
   ],
   "outputs": [
    {
     "output_type": "execute_result",
     "data": {
      "text/plain": [
       "243.56435643564356"
      ]
     },
     "metadata": {},
     "execution_count": 16
    }
   ],
   "metadata": {}
  },
  {
   "cell_type": "markdown",
   "source": [
    "### Multi dimensional aggregates"
   ],
   "metadata": {}
  },
  {
   "cell_type": "code",
   "execution_count": 17,
   "source": [
    "M = np.random.random(size=(3, 3))\n",
    "\n",
    "print(M)"
   ],
   "outputs": [
    {
     "output_type": "stream",
     "name": "stdout",
     "text": [
      "[[0.53525707 0.90404425 0.50239657]\n",
      " [0.10087001 0.52758198 0.71122893]\n",
      " [0.31295428 0.05032535 0.12328206]]\n"
     ]
    }
   ],
   "metadata": {
    "collapsed": false
   }
  },
  {
   "cell_type": "code",
   "execution_count": 18,
   "source": [
    "print(M.sum())"
   ],
   "outputs": [
    {
     "output_type": "stream",
     "name": "stdout",
     "text": [
      "3.767940501755314\n"
     ]
    }
   ],
   "metadata": {
    "collapsed": false
   }
  },
  {
   "cell_type": "code",
   "execution_count": 19,
   "source": [
    "print(np.sum(M))"
   ],
   "outputs": [
    {
     "output_type": "stream",
     "name": "stdout",
     "text": [
      "3.767940501755314\n"
     ]
    }
   ],
   "metadata": {}
  },
  {
   "cell_type": "code",
   "execution_count": 20,
   "source": [
    "print(M.min(axis=0))"
   ],
   "outputs": [
    {
     "output_type": "stream",
     "name": "stdout",
     "text": [
      "[0.10087001 0.05032535 0.12328206]\n"
     ]
    }
   ],
   "metadata": {
    "collapsed": false
   }
  },
  {
   "cell_type": "code",
   "execution_count": 21,
   "source": [
    "print(M.max(axis=1))"
   ],
   "outputs": [
    {
     "output_type": "stream",
     "name": "stdout",
     "text": [
      "[0.90404425 0.71122893 0.31295428]\n"
     ]
    }
   ],
   "metadata": {
    "collapsed": false
   }
  },
  {
   "cell_type": "markdown",
   "source": [
    "### Other aggregation functions"
   ],
   "metadata": {}
  },
  {
   "cell_type": "markdown",
   "source": [
    "#### Statistics\n",
    "\n",
    "| Name | Description |\n",
    "|-|-|\n",
    "| median | Compute the median along the specified axis. |\n",
    "| average | Compute the weighted average along the specified axis. |\n",
    "| mean | Compute the arithmetic mean along the specified axis. |\n",
    "| std | Compute the standard deviation along the specified axis. |\n",
    "| var | Compute the variance along the specified axis. |"
   ],
   "metadata": {}
  },
  {
   "cell_type": "code",
   "execution_count": 22,
   "source": [
    "x = np.array([1, 2, 3, 4])\n",
    "\n",
    "print(np.mean(x))\n",
    "print(np.std(x))\n",
    "print(np.var(x))"
   ],
   "outputs": [
    {
     "output_type": "stream",
     "name": "stdout",
     "text": [
      "2.5\n",
      "1.118033988749895\n",
      "1.25\n"
     ]
    }
   ],
   "metadata": {}
  },
  {
   "cell_type": "markdown",
   "source": [
    "#### Sums, products, differences\n",
    "\n",
    "| Name | Description |\n",
    "|-|-|\n",
    "| prod | Return the product of array elements over a given axis. |\n",
    "| sum | Sum of array elements over a given axis. |\n",
    "| cumprod | Return the cumulative product of elements along a given axis. |\n",
    "| cumsum | Return the cumulative sum of the elements along a given axis. |\n",
    "| diff | Calculate the n-th discrete difference along the given axis. |"
   ],
   "metadata": {}
  },
  {
   "cell_type": "code",
   "execution_count": 23,
   "source": [
    "x = np.array([1, 2, 3, -4])\n",
    "\n",
    "print(np.prod(x))\n",
    "print(np.prod(x, axis=0))\n",
    "print(np.cumprod(x))\n",
    "print(np.cumsum(x))\n",
    "print(np.diff(x))"
   ],
   "outputs": [
    {
     "output_type": "stream",
     "name": "stdout",
     "text": [
      "-24\n",
      "-24\n",
      "[  1   2   6 -24]\n",
      "[1 3 6 2]\n",
      "[ 1  1 -7]\n"
     ]
    }
   ],
   "metadata": {}
  }
 ],
 "metadata": {
  "anaconda-cloud": {},
  "kernelspec": {
   "name": "python3",
   "display_name": "Python 3.8.10 64-bit ('pyData': conda)"
  },
  "language_info": {
   "codemirror_mode": {
    "name": "ipython",
    "version": 3
   },
   "file_extension": ".py",
   "mimetype": "text/x-python",
   "name": "python",
   "nbconvert_exporter": "python",
   "pygments_lexer": "ipython3",
   "version": "3.8.10"
  },
  "interpreter": {
   "hash": "e52d0a9233fe182dd4e14c7296091c8adab06812a76515c5f44878dd050c8e80"
  }
 },
 "nbformat": 4,
 "nbformat_minor": 2
}