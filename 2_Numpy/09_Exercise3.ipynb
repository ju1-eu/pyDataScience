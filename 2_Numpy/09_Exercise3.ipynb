{
 "metadata": {
  "language_info": {
   "codemirror_mode": {
    "name": "ipython",
    "version": 3
   },
   "file_extension": ".py",
   "mimetype": "text/x-python",
   "name": "python",
   "nbconvert_exporter": "python",
   "pygments_lexer": "ipython3",
   "version": "3.8.3"
  },
  "orig_nbformat": 2,
  "kernelspec": {
   "name": "python383jvsc74a57bd0ca29874d0e8ebeda33e1134074812002351635a1f944a5a47a1a023e7b32747e",
   "display_name": "Python 3.8.3 64-bit ('schaf': virtualenv)"
  }
 },
 "nbformat": 4,
 "nbformat_minor": 2,
 "cells": [
  {
   "source": [
    "# Exercise"
   ],
   "cell_type": "markdown",
   "metadata": {}
  },
  {
   "cell_type": "code",
   "execution_count": 9,
   "metadata": {},
   "outputs": [],
   "source": [
    "import numpy as np"
   ]
  },
  {
   "source": [
    "## Exercise 1:\n",
    "\n",
    "Create a 2d array (5x5) with 1 on the border and 0 inside"
   ],
   "cell_type": "markdown",
   "metadata": {}
  },
  {
   "source": [
    "## Exercise 2:\n",
    "\n",
    "Create a matrix (8x8) and fill it with a checkerboard pattern"
   ],
   "cell_type": "markdown",
   "metadata": {}
  },
  {
   "source": [
    "## Exercise 3:\n",
    "\n",
    "How to find the closest value in an 1D array"
   ],
   "cell_type": "markdown",
   "metadata": {}
  },
  {
   "source": [
    "## Exercise 4:\n",
    "\n",
    "How to get the n largest values of an 1D array"
   ],
   "cell_type": "markdown",
   "metadata": {}
  }
 ]
}