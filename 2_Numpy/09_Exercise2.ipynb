{
 "metadata": {
  "language_info": {
   "codemirror_mode": {
    "name": "ipython",
    "version": 3
   },
   "file_extension": ".py",
   "mimetype": "text/x-python",
   "name": "python",
   "nbconvert_exporter": "python",
   "pygments_lexer": "ipython3",
   "version": "3.8.5"
  },
  "orig_nbformat": 2,
  "kernelspec": {
   "name": "python385jvsc74a57bd0423c48e3256333a0e0252f1efeec30283ab6ba0213e3a05c32b0541c29f89950",
   "display_name": "Python 3.8.5 64-bit ('pyUdemy': conda)"
  }
 },
 "nbformat": 4,
 "nbformat_minor": 2,
 "cells": [
  {
   "source": [
    "# Exercise"
   ],
   "cell_type": "markdown",
   "metadata": {}
  },
  {
   "cell_type": "code",
   "execution_count": 1,
   "metadata": {},
   "outputs": [],
   "source": [
    "import numpy as np\n",
    "np.random.seed(0)"
   ]
  },
  {
   "cell_type": "code",
   "execution_count": 2,
   "metadata": {},
   "outputs": [],
   "source": [
    "def array_info(array: np.ndarray) -> None:\n",
    "    print(f\"ndim: {array.ndim}\")\n",
    "    print(f\"shape: {array.shape}\")\n",
    "    print(f\"size: {array.size}\")\n",
    "    print(f\"dtype: {array.dtype}\")\n",
    "    print(f\"values:\\n{array}\\n\")"
   ]
  },
  {
   "source": [
    "## Exercise 1\n",
    "\n",
    "- Create an array M of shape (3, 3) with zeros at all entries\n",
    "- Fill the diagonal values with np.pi\n",
    "- Fill the upper triangular (except the diag) with 1\n",
    "- Fill the lower triangular (except the diag) with -1\n",
    "\n",
    "The resulting matrix should have the following values:\n",
    "\n",
    "```python\n",
    "[[ 3.14159265  1.          1.        ]\n",
    " [-1.          3.14159265  1.        ]\n",
    " [-1.         -1.          3.14159265]]\n",
    "```"
   ],
   "cell_type": "markdown",
   "metadata": {}
  },
  {
   "source": [
    "## Exercise 2\n",
    "\n",
    "- Get the indicies where the matrix values are greater than or equal to one"
   ],
   "cell_type": "markdown",
   "metadata": {}
  }
 ]
}