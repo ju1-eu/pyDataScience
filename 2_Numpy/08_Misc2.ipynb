{
 "metadata": {
  "language_info": {
   "codemirror_mode": {
    "name": "ipython",
    "version": 3
   },
   "file_extension": ".py",
   "mimetype": "text/x-python",
   "name": "python",
   "nbconvert_exporter": "python",
   "pygments_lexer": "ipython3",
   "version": "3.9.4"
  },
  "orig_nbformat": 2,
  "kernelspec": {
   "name": "python394jvsc74a57bd0522fdde40ba75a445b4c7d16655156023622a06d0cbc06ae1181d92925378299",
   "display_name": "Python 3.9.4 64-bit ('pyData': conda)"
  }
 },
 "nbformat": 4,
 "nbformat_minor": 2,
 "cells": [
  {
   "source": [
    "# Save and Store Numpy Data"
   ],
   "cell_type": "markdown",
   "metadata": {}
  },
  {
   "cell_type": "code",
   "execution_count": 1,
   "metadata": {},
   "outputs": [],
   "source": [
    "import numpy as np\n",
    "np.random.seed(0)"
   ]
  },
  {
   "cell_type": "code",
   "execution_count": 2,
   "metadata": {},
   "outputs": [],
   "source": [
    "def structured_array_info(array: np.ndarray) -> None:\n",
    "    print(f\"ndim: {array.ndim}\")\n",
    "    print(f\"shape: {array.shape}\")\n",
    "    print(f\"size: {array.size}\")\n",
    "    print(f\"dtype: {array.dtype}\")\n",
    "    print(f\"names: {array.dtype.names}\")\n",
    "    print(f\"fields: {array.dtype.fields}\")\n",
    "    print(f\"values:\\n{array}\\n\")"
   ]
  },
  {
   "source": [
    "```python\n",
    "numpy.save(\n",
    "    file,\n",
    "    arr,\n",
    "    allow_pickle=True,\n",
    "    fix_imports=True\n",
    ")\n",
    "```\n",
    "\n",
    "Save an array to a binary file in NumPy .npy format.\n",
    "\n",
    "```python\n",
    "numpy.load(\n",
    "    file,\n",
    "    mmap_mode=None,\n",
    "    allow_pickle=False,\n",
    "    fix_imports=True,\n",
    "    encoding='ASCII'\n",
    ")\n",
    "```\n",
    "\n",
    "Load arrays or pickled objects from .npy, .npz or pickled files.\n",
    "\n",
    "### Further functions\n",
    "\n",
    "np.savez, np.savetxt, np.loadtxt\n",
    "\n",
    "If you want to store a single ndarray object, store it as a .npy file using np.save. If you want to store more than one ndarray object in a single file, save it as a .npz file using np.savez."
   ],
   "cell_type": "markdown",
   "metadata": {}
  },
  {
   "cell_type": "code",
   "execution_count": 3,
   "metadata": {},
   "outputs": [
    {
     "output_type": "stream",
     "name": "stdout",
     "text": [
      "[[0 0 0 ... 0 0 0]\n [0 0 0 ... 0 0 0]\n [0 0 0 ... 0 0 0]\n ...\n [0 0 0 ... 0 0 0]\n [0 0 0 ... 0 0 0]\n [0 0 0 ... 0 0 0]]\n"
     ]
    }
   ],
   "source": [
    "with open('../data/test.npy', 'wb') as f:\n",
    "    np.save(f, np.zeros((1000, 100), dtype=np.int32))\n",
    "\n",
    "with open('../data/test.npy', 'rb') as f:\n",
    "    a = np.load(f)\n",
    "\n",
    "print(a)"
   ]
  },
  {
   "source": [
    "# Structured arrays\n",
    "\n",
    "Structured arrays are ndarrays whose datatype is a composition of simpler datatypes organized as a sequence of named fields. \n",
    "\n",
    "Structured datatypes are designed to be able to mimic ‘structs’ in the C language, and share a similar memory layout. They are meant for interfacing with C code and for low-level manipulation of structured buffers, for example for interpreting binary blobs. For these purposes they support specialized features such as subarrays, nested datatypes, and unions, and allow control over the memory layout of the structure."
   ],
   "cell_type": "markdown",
   "metadata": {}
  },
  {
   "cell_type": "code",
   "execution_count": 4,
   "metadata": {},
   "outputs": [],
   "source": [
    " x = np.array(\n",
    "    [\n",
    "         ('Jan', 9, 81.0),\n",
    "         ('Peter', 3, 27.0)\n",
    "    ],\n",
    "    dtype=[\n",
    "        ('name', 'U10'),\n",
    "        ('age', 'i4'),\n",
    "        ('weight', 'f4')\n",
    "    ]\n",
    ")"
   ]
  },
  {
   "cell_type": "code",
   "execution_count": 5,
   "metadata": {},
   "outputs": [
    {
     "output_type": "stream",
     "name": "stdout",
     "text": [
      "ndim: 1\nshape: (2,)\nsize: 2\ndtype: [('name', '<U10'), ('age', '<i4'), ('weight', '<f4')]\nnames: ('name', 'age', 'weight')\nfields: {'name': (dtype('<U10'), 0), 'age': (dtype('int32'), 40), 'weight': (dtype('float32'), 44)}\nvalues:\n[('Jan', 9, 81.) ('Peter', 3, 27.)]\n\n"
     ]
    }
   ],
   "source": [
    "structured_array_info(x)"
   ]
  }
 ]
}