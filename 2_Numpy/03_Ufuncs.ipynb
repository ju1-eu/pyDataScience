{
 "cells": [
  {
   "cell_type": "markdown",
   "metadata": {},
   "source": [
    "# Numpy ufuncs"
   ]
  },
  {
   "source": [
    "A universal function is a function that operates on ndarrays in an element-by-element fashion.  \n",
    "A ufunc is a “vectorized” wrapper for a function that takes a fixed number of specific inputs and produces a fixed number of specific outputs."
   ],
   "cell_type": "markdown",
   "metadata": {}
  },
  {
   "cell_type": "code",
   "execution_count": 1,
   "metadata": {},
   "outputs": [],
   "source": [
    "from typing import Iterable\n",
    "\n",
    "import numpy as np\n",
    "np.random.seed(0)"
   ]
  },
  {
   "cell_type": "markdown",
   "metadata": {},
   "source": [
    "## Native Python Loops"
   ]
  },
  {
   "cell_type": "code",
   "execution_count": 2,
   "metadata": {},
   "outputs": [],
   "source": [
    "def reciprocal(values: Iterable[float]) -> Iterable[float]:\n",
    "    output = np.empty(len(values))\n",
    "    for i in range(len(values)):\n",
    "        output[i] = 1.0 / values[i]\n",
    "    return output"
   ]
  },
  {
   "cell_type": "code",
   "execution_count": 3,
   "metadata": {},
   "outputs": [
    {
     "output_type": "stream",
     "name": "stdout",
     "text": [
      "[0.16666667 1.         0.25       0.25       0.125     ]\n"
     ]
    }
   ],
   "source": [
    "small_array = np.random.randint(low=1, high=10, size=5)\n",
    "print(reciprocal(small_array))"
   ]
  },
  {
   "source": [
    "| Multiple of a second | Unit | Symbol | Definition | Comparative examples & common units |\n",
    "|-|-|-|-|-| \n",
    "| 10−9 | 1 nanosecond | ns | One billionth of one second | 1 ns: Time to execute one machine cycle by a 1 GHz microprocessor 1 ns: Light travels 30 cm |\n",
    "| 10−6 | 1 microsecond | µs | One millionth of one second | 1 µs: Time to execute one machine cycle by an Intel 80186 microprocessor 2.2 µs: Lifetime of a muon 4–16 µs: Time to execute one machine cycle by a 1960s minicomputer |\n",
    "| 10−3 | 1 millisecond | ms | One thousandth of one second | 1 ms: time for a neuron in human brain to fire one impulse and return to rest 4–8 ms: typical seek time for a computer hard disk |"
   ],
   "cell_type": "markdown",
   "metadata": {}
  },
  {
   "cell_type": "code",
   "execution_count": 4,
   "metadata": {
    "collapsed": false
   },
   "outputs": [
    {
     "output_type": "stream",
     "name": "stdout",
     "text": [
      "11.8 µs ± 585 ns per loop (mean ± std. dev. of 7 runs, 100000 loops each)\n"
     ]
    }
   ],
   "source": [
    "small_array = np.random.randint(low=1, high=10, size=5)\n",
    "\n",
    "%timeit reciprocal(small_array)"
   ]
  },
  {
   "cell_type": "code",
   "execution_count": 5,
   "metadata": {
    "collapsed": false
   },
   "outputs": [
    {
     "output_type": "stream",
     "name": "stdout",
     "text": [
      "200 ms ± 3.13 ms per loop (mean ± std. dev. of 7 runs, 10 loops each)\n"
     ]
    }
   ],
   "source": [
    "big_array = np.random.randint(low=1, high=10, size=100_000)\n",
    "\n",
    "%timeit reciprocal(big_array)"
   ]
  },
  {
   "cell_type": "code",
   "execution_count": 23,
   "metadata": {},
   "outputs": [
    {
     "output_type": "execute_result",
     "data": {
      "text/plain": [
       "16949.15254237288"
      ]
     },
     "metadata": {},
     "execution_count": 23
    }
   ],
   "source": [
    "200*1000 / 11.8"
   ]
  },
  {
   "cell_type": "markdown",
   "metadata": {},
   "source": [
    "## Introducing UFuncs"
   ]
  },
  {
   "cell_type": "code",
   "execution_count": 6,
   "metadata": {
    "collapsed": false
   },
   "outputs": [
    {
     "output_type": "stream",
     "name": "stdout",
     "text": [
      "[0.25       0.16666667 0.33333333 0.2        0.125     ]\n[0.25       0.16666667 0.33333333 0.2        0.125     ]\n"
     ]
    }
   ],
   "source": [
    "print(reciprocal(small_array))\n",
    "print(1.0 / small_array)"
   ]
  },
  {
   "cell_type": "code",
   "execution_count": 7,
   "metadata": {
    "collapsed": false
   },
   "outputs": [
    {
     "output_type": "stream",
     "name": "stdout",
     "text": [
      "111 µs ± 1.76 µs per loop (mean ± std. dev. of 7 runs, 10000 loops each)\n"
     ]
    }
   ],
   "source": [
    "%timeit (1.0 / big_array)"
   ]
  },
  {
   "cell_type": "code",
   "execution_count": 8,
   "metadata": {},
   "outputs": [
    {
     "output_type": "stream",
     "name": "stdout",
     "text": [
      "103 µs ± 1.15 µs per loop (mean ± std. dev. of 7 runs, 10000 loops each)\n"
     ]
    }
   ],
   "source": [
    "%timeit np.reciprocal(big_array)"
   ]
  },
  {
   "cell_type": "code",
   "execution_count": 24,
   "metadata": {},
   "outputs": [
    {
     "output_type": "execute_result",
     "data": {
      "text/plain": [
       "1941.7475728155339"
      ]
     },
     "metadata": {},
     "execution_count": 24
    }
   ],
   "source": [
    "200*1000 / 103  # Speedup"
   ]
  },
  {
   "cell_type": "code",
   "execution_count": 10,
   "metadata": {
    "collapsed": false
   },
   "outputs": [
    {
     "output_type": "stream",
     "name": "stdout",
     "text": [
      "[0 1 2 3]\n"
     ]
    }
   ],
   "source": [
    "x = np.arange(4)\n",
    "\n",
    "print(x)"
   ]
  },
  {
   "cell_type": "code",
   "execution_count": 11,
   "metadata": {},
   "outputs": [
    {
     "output_type": "stream",
     "name": "stdout",
     "text": [
      "[2 3 4 5]\n[-2 -1  0  1]\n[0 2 4 6]\n[0.  0.5 1.  1.5]\n"
     ]
    }
   ],
   "source": [
    "print(x + 2)\n",
    "print(x - 2)\n",
    "print(x * 2)\n",
    "print(x / 2)"
   ]
  },
  {
   "cell_type": "code",
   "execution_count": 12,
   "metadata": {},
   "outputs": [
    {
     "output_type": "stream",
     "name": "stdout",
     "text": [
      "[2. 3. 4. 5.]\n[-2. -1.  0.  1.]\n[0. 2. 4. 6.]\n[0.  0.5 1.  1.5]\n"
     ]
    }
   ],
   "source": [
    "print(x + 2.0)\n",
    "print(x - 2.0)\n",
    "print(x * 2.0)\n",
    "print(x / 2.0)"
   ]
  },
  {
   "cell_type": "code",
   "execution_count": 13,
   "metadata": {
    "collapsed": false
   },
   "outputs": [
    {
     "output_type": "stream",
     "name": "stdout",
     "text": [
      "[2 3 4 5]\n"
     ]
    }
   ],
   "source": [
    "print(np.add(x, 2))"
   ]
  },
  {
   "cell_type": "markdown",
   "metadata": {},
   "source": [
    "| Name | Description |\n",
    "|-|-|\n",
    "| add | Add arguments element-wise. |\n",
    "| subtract | Subtract arguments, element-wise. |\n",
    "| multiply | Multiply arguments element-wise. |\n",
    "| matmul | Matrix product of two arrays. |\n",
    "| divide | Returns a true division of the inputs, element-wise. |\n",
    "| negative | Numerical negative, element-wise. |\n",
    "| positive | Numerical positive, element-wise. |\n",
    "| power | First array elements raised to powers from second array, element-wise. |\n",
    "| mod | Return element-wise remainder of division. |\n",
    "| absolute | Calculate the absolute value element-wise. |\n",
    "| fabs | Compute the absolute values element-wise. |\n",
    "| sign | Returns an element-wise indication of the sign of a number. |\n",
    "| exp | Calculate the exponential of all elements in the input array. |\n",
    "| log | Natural logarithm, element-wise. |\n",
    "| sqrt | Return the non-negative square-root of an array, element-wise. |\n",
    "| square | Return the element-wise square of the input. |\n",
    "| reciprocal | Return the reciprocal of the argument, element-wise. |\n",
    "| gcd | Returns the greatest common divisor of \\|x1\\| and \\|x2\\| |\n",
    "| lcm | Returns the lowest common multiple of \\|x1\\| and \\|x2\\| |"
   ]
  },
  {
   "cell_type": "code",
   "execution_count": 14,
   "metadata": {
    "collapsed": false
   },
   "outputs": [
    {
     "output_type": "execute_result",
     "data": {
      "text/plain": [
       "array([2, 1, 0, 1, 2])"
      ]
     },
     "metadata": {},
     "execution_count": 14
    }
   ],
   "source": [
    "x = np.array([-2, -1, 0, 1, 2])\n",
    "abs(x)"
   ]
  },
  {
   "cell_type": "code",
   "execution_count": 15,
   "metadata": {
    "collapsed": false
   },
   "outputs": [
    {
     "output_type": "stream",
     "name": "stdout",
     "text": [
      "[2 1 0 1 2]\n"
     ]
    }
   ],
   "source": [
    "print(np.abs(x))"
   ]
  },
  {
   "cell_type": "code",
   "execution_count": 16,
   "metadata": {},
   "outputs": [
    {
     "output_type": "stream",
     "name": "stdout",
     "text": [
      "[2. 1. 0. 1. 2.]\n"
     ]
    }
   ],
   "source": [
    "print(np.fabs(x))"
   ]
  },
  {
   "cell_type": "code",
   "execution_count": 17,
   "metadata": {},
   "outputs": [
    {
     "output_type": "stream",
     "name": "stdout",
     "text": [
      "[2. 1. 0. 1. 2.]\n[2. 1. 0. 1. 2.]\n"
     ]
    }
   ],
   "source": [
    "x = np.array([-2, -1, 0, 1, 2], dtype=np.float32)\n",
    "\n",
    "print(np.abs(x))\n",
    "print(np.fabs(x))"
   ]
  },
  {
   "cell_type": "markdown",
   "metadata": {},
   "source": [
    "### Trigonometric functions"
   ]
  },
  {
   "source": [
    "| Name | Description |\n",
    "|-|-|\n",
    "| sin | Trigonometric sine, element-wise. |\n",
    "| cos | Cosine element-wise. |\n",
    "| tan | Compute tangent element-wise. |"
   ],
   "cell_type": "markdown",
   "metadata": {}
  },
  {
   "cell_type": "code",
   "execution_count": 18,
   "metadata": {
    "collapsed": false
   },
   "outputs": [
    {
     "output_type": "stream",
     "name": "stdout",
     "text": [
      "[0.         1.04719755 2.0943951  3.14159265 4.1887902  5.23598776\n 6.28318531]\n"
     ]
    }
   ],
   "source": [
    "theta = np.linspace(0, 2.0 * np.pi, 7)\n",
    "\n",
    "print(theta)"
   ]
  },
  {
   "cell_type": "code",
   "execution_count": 19,
   "metadata": {
    "collapsed": false
   },
   "outputs": [
    {
     "output_type": "stream",
     "name": "stdout",
     "text": [
      "[ 0.00000000e+00  8.66025404e-01  8.66025404e-01  1.22464680e-16\n -8.66025404e-01 -8.66025404e-01 -2.44929360e-16]\n[ 1.   0.5 -0.5 -1.  -0.5  0.5  1. ]\n"
     ]
    }
   ],
   "source": [
    "print(np.sin(theta))\n",
    "print(np.cos(theta))"
   ]
  },
  {
   "cell_type": "markdown",
   "metadata": {},
   "source": [
    "### Bit-twiddling functions"
   ]
  },
  {
   "source": [
    "| Name | Description |\n",
    "|-|-|\n",
    "| bitwise_and | Compute the bit-wise AND of two arrays element-wise. |\n",
    "| bitwise_or | Compute the bit-wise OR of two arrays element-wise. |\n",
    "| bitwise_xor | Compute the bit-wise XOR of two arrays element-wise. |"
   ],
   "cell_type": "markdown",
   "metadata": {}
  },
  {
   "cell_type": "code",
   "execution_count": 20,
   "metadata": {},
   "outputs": [
    {
     "output_type": "stream",
     "name": "stdout",
     "text": [
      "12\n1100\n[12  1]\n"
     ]
    }
   ],
   "source": [
    "print(np.bitwise_and(14, 13))\n",
    "print(np.binary_repr(12))\n",
    "print(np.bitwise_and([14, 3], 13))"
   ]
  },
  {
   "source": [
    "### Comparison functions"
   ],
   "cell_type": "markdown",
   "metadata": {}
  },
  {
   "source": [
    "| Name | Description |\n",
    "|-|-|\n",
    "| greater | Return the truth value of (x1 > x2) element-wise. |\n",
    "| greater_equal | Return the truth value of (x1 >= x2) element-wise. |\n",
    "| less | Return the truth value of (x1 < x2) element-wise. |\n",
    "| less_equal | Return the truth value of (x1 <= x2) element-wise. |\n",
    "| not_equal | Return (x1 != x2) element-wise. |\n",
    "| equal | Return (x1 == x2) element-wise. |"
   ],
   "cell_type": "markdown",
   "metadata": {}
  },
  {
   "cell_type": "code",
   "execution_count": 21,
   "metadata": {},
   "outputs": [
    {
     "output_type": "stream",
     "name": "stdout",
     "text": [
      "[ True False]\n"
     ]
    }
   ],
   "source": [
    "print(np.greater([4, 2], [2, 2]))"
   ]
  },
  {
   "cell_type": "code",
   "execution_count": 22,
   "metadata": {},
   "outputs": [
    {
     "output_type": "stream",
     "name": "stdout",
     "text": [
      "[ True False]\n"
     ]
    }
   ],
   "source": [
    "a = np.array([4, 2])\n",
    "b = np.array([2, 2])\n",
    "\n",
    "print(a > b)"
   ]
  }
 ],
 "metadata": {
  "anaconda-cloud": {},
  "kernelspec": {
   "name": "python383jvsc74a57bd0a70ade87c18bf9df7701d35ff9479870395d7462b82e94d46211d02695a62577",
   "display_name": "Python 3.8.3 64-bit"
  },
  "language_info": {
   "codemirror_mode": {
    "name": "ipython",
    "version": 3
   },
   "file_extension": ".py",
   "mimetype": "text/x-python",
   "name": "python",
   "nbconvert_exporter": "python",
   "pygments_lexer": "ipython3",
   "version": "3.8.3"
  }
 },
 "nbformat": 4,
 "nbformat_minor": 0
}