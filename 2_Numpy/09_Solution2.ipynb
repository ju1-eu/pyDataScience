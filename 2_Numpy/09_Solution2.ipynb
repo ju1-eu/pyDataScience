{
 "metadata": {
  "language_info": {
   "codemirror_mode": {
    "name": "ipython",
    "version": 3
   },
   "file_extension": ".py",
   "mimetype": "text/x-python",
   "name": "python",
   "nbconvert_exporter": "python",
   "pygments_lexer": "ipython3",
   "version": "3.8.5"
  },
  "orig_nbformat": 2,
  "kernelspec": {
   "name": "python385jvsc74a57bd0423c48e3256333a0e0252f1efeec30283ab6ba0213e3a05c32b0541c29f89950",
   "display_name": "Python 3.8.5 64-bit ('pyUdemy': conda)"
  }
 },
 "nbformat": 4,
 "nbformat_minor": 2,
 "cells": [
  {
   "source": [
    "# Exercise"
   ],
   "cell_type": "markdown",
   "metadata": {}
  },
  {
   "cell_type": "code",
   "execution_count": 1,
   "metadata": {},
   "outputs": [],
   "source": [
    "import numpy as np\n",
    "np.random.seed(0)"
   ]
  },
  {
   "cell_type": "code",
   "execution_count": 2,
   "metadata": {},
   "outputs": [],
   "source": [
    "def array_info(array: np.ndarray) -> None:\n",
    "    print(f\"ndim: {array.ndim}\")\n",
    "    print(f\"shape: {array.shape}\")\n",
    "    print(f\"size: {array.size}\")\n",
    "    print(f\"dtype: {array.dtype}\")\n",
    "    print(f\"values:\\n{array}\\n\")"
   ]
  },
  {
   "source": [
    "## Exercise 1\n",
    "\n",
    "- Create an array M of shape (3, 3) with zeros at all entries\n",
    "- Fill the diagonal values with np.pi\n",
    "- Fill the upper triangular (except the diag) with 1\n",
    "- Fill the lower triangular (except the diag) with -1\n",
    "\n",
    "The resulting matrix should have the following values:\n",
    "\n",
    "```python\n",
    "[[ 3.14159265  1.          1.        ]\n",
    " [-1.          3.14159265  1.        ]\n",
    " [-1.         -1.          3.14159265]]\n",
    "```"
   ],
   "cell_type": "markdown",
   "metadata": {}
  },
  {
   "cell_type": "code",
   "execution_count": 3,
   "metadata": {},
   "outputs": [
    {
     "output_type": "stream",
     "name": "stdout",
     "text": [
      "[[0. 0. 0.]\n [0. 0. 0.]\n [0. 0. 0.]]\n"
     ]
    }
   ],
   "source": [
    "M = np.zeros(shape=(3, 3))\n",
    "\n",
    "print(M)"
   ]
  },
  {
   "cell_type": "code",
   "execution_count": 4,
   "metadata": {},
   "outputs": [
    {
     "output_type": "stream",
     "name": "stdout",
     "text": [
      "(array([0, 1, 2]), array([0, 1, 2]))\n[[3.14159265 0.         0.        ]\n [0.         3.14159265 0.        ]\n [0.         0.         3.14159265]]\n"
     ]
    }
   ],
   "source": [
    "idxs = np.diag_indices(n=3)\n",
    "M[idxs] = np.pi\n",
    "\n",
    "print(idxs)\n",
    "print(M)"
   ]
  },
  {
   "cell_type": "code",
   "execution_count": 5,
   "metadata": {},
   "outputs": [],
   "source": [
    "def upper_tri_indexing(M):\n",
    "    return np.triu_indices(M.shape[0], 1)\n",
    "\n",
    "def lower_tri_indexing(M):\n",
    "    return np.tril_indices(M.shape[0], -1)"
   ]
  },
  {
   "cell_type": "code",
   "execution_count": 6,
   "metadata": {},
   "outputs": [
    {
     "output_type": "stream",
     "name": "stdout",
     "text": [
      "(array([0, 0, 1], dtype=int64), array([1, 2, 2], dtype=int64))\n[[3.14159265 1.         1.        ]\n [0.         3.14159265 1.        ]\n [0.         0.         3.14159265]]\n"
     ]
    }
   ],
   "source": [
    "idxs = upper_tri_indexing(M)\n",
    "M[idxs] = 1\n",
    "\n",
    "print(idxs)\n",
    "print(M)"
   ]
  },
  {
   "cell_type": "code",
   "execution_count": 7,
   "metadata": {},
   "outputs": [
    {
     "output_type": "stream",
     "name": "stdout",
     "text": [
      "(array([1, 2, 2], dtype=int64), array([0, 0, 1], dtype=int64))\n[[ 3.14159265  1.          1.        ]\n [-1.          3.14159265  1.        ]\n [-1.         -1.          3.14159265]]\n"
     ]
    }
   ],
   "source": [
    "idxs = lower_tri_indexing(M)\n",
    "M[idxs] = -1\n",
    "\n",
    "print(idxs)\n",
    "print(M)"
   ]
  },
  {
   "source": [
    "## Exercise 2\n",
    "\n",
    "- Get the indicies where the matrix values are greater than or equal to one"
   ],
   "cell_type": "markdown",
   "metadata": {}
  },
  {
   "cell_type": "code",
   "execution_count": 8,
   "metadata": {},
   "outputs": [
    {
     "output_type": "stream",
     "name": "stdout",
     "text": [
      "(array([0, 0, 0, 1, 1, 2], dtype=int64), array([0, 1, 2, 1, 2, 2], dtype=int64))\n"
     ]
    }
   ],
   "source": [
    "idxs = np.where(M >= 0)\n",
    "\n",
    "print(idxs)"
   ]
  },
  {
   "cell_type": "code",
   "execution_count": 9,
   "metadata": {},
   "outputs": [
    {
     "output_type": "stream",
     "name": "stdout",
     "text": [
      "(array([0, 0, 0, 1, 1, 2], dtype=int64), array([0, 1, 2, 1, 2, 2], dtype=int64))\n"
     ]
    }
   ],
   "source": [
    "boolean = (M >= 0)\n",
    "idxs = np.nonzero(boolean)\n",
    "\n",
    "print(idxs)"
   ]
  }
 ]
}