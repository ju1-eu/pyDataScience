{
 "cells": [
  {
   "cell_type": "markdown",
   "metadata": {},
   "source": [
    "# Lists and Arrays in Python"
   ]
  },
  {
   "cell_type": "code",
   "execution_count": 1,
   "metadata": {},
   "outputs": [],
   "source": [
    "import array\n",
    "import numpy as np"
   ]
  },
  {
   "source": [
    "## Python List"
   ],
   "cell_type": "markdown",
   "metadata": {}
  },
  {
   "cell_type": "code",
   "execution_count": 2,
   "metadata": {
    "collapsed": false
   },
   "outputs": [
    {
     "output_type": "stream",
     "name": "stdout",
     "text": [
      "[<class 'bool'>, <class 'str'>, <class 'float'>, <class 'int'>, <class 'NoneType'>]\n"
     ]
    }
   ],
   "source": [
    "my_list = [True, \"Hello\", 42.0, 420, None]\n",
    "\n",
    "print([type(val) for val in my_list])"
   ]
  },
  {
   "cell_type": "markdown",
   "metadata": {},
   "source": [
    "## Python Array"
   ]
  },
  {
   "cell_type": "code",
   "execution_count": 3,
   "metadata": {
    "collapsed": false
   },
   "outputs": [
    {
     "output_type": "stream",
     "name": "stdout",
     "text": [
      "array('i', [0, 1, 2, 3, 4, 5, 6, 7, 8, 9])\n"
     ]
    }
   ],
   "source": [
    "my_array_range = list(range(10))\n",
    "my_array = array.array('i', my_array_range)\n",
    "\n",
    "print(my_array)"
   ]
  },
  {
   "source": [
    "### Array Dtypes\n",
    "\n",
    "|  |  |  |  |  |\n",
    "|-|-|-|-|-|\n",
    "| Type code | C Type | Python Type | Minimum size in bytes |\n",
    "| 'b' | signed char | int | 1 |\n",
    "| 'B' | unsigned char | int | 1 |\n",
    "| 'u' | wchar_t | Unicode character | 2 |\n",
    "| 'h' | signed short | int | 2 |\n",
    "| 'H' | unsigned short | int | 2 |\n",
    "| 'i' | signed int | int | 2 |\n",
    "| 'I' | unsigned int | int | 2 |\n",
    "| 'l' | signed long | int | 4 |\n",
    "| 'L' | unsigned long | int | 4 |\n",
    "| 'q' | signed long long | int | 8 |\n",
    "| 'Q' | unsigned long long | int | 8 |\n",
    "| 'f' | float | float | 4 |\n",
    "| 'd' | double | float | 8 |"
   ],
   "cell_type": "markdown",
   "metadata": {}
  },
  {
   "cell_type": "code",
   "execution_count": 4,
   "metadata": {},
   "outputs": [
    {
     "output_type": "stream",
     "name": "stdout",
     "text": [
      "array('d', [0.0, 1.0, 2.0, 3.0, 4.0, 5.0, 6.0, 7.0, 8.0, 9.0])\n"
     ]
    }
   ],
   "source": [
    "my_array_range = list(range(10))\n",
    "my_array = array.array('d', my_array_range)\n",
    "\n",
    "print(my_array)"
   ]
  },
  {
   "cell_type": "markdown",
   "metadata": {},
   "source": [
    "## Numpy Array"
   ]
  },
  {
   "source": [
    "NumPy is the fundamental package for scientific computing in Python.  \n",
    "It is a Python library that provides a multidimensional array object, various derived objects, and an assortment of routines for fast operations on arrays.  \n",
    "\n",
    "At the core of the NumPy package, is the ndarray object.  \n",
    "This encapsulates n-dimensional arrays of homogeneous data types, with many operations being performed in compiled code for performance."
   ],
   "cell_type": "markdown",
   "metadata": {}
  },
  {
   "cell_type": "code",
   "execution_count": 5,
   "metadata": {},
   "outputs": [],
   "source": [
    "def array_info(array: np.ndarray) -> None:\n",
    "    print(f\"ndim: {array.ndim}\")\n",
    "    print(f\"shape: {array.shape}\")\n",
    "    print(f\"size: {array.size}\")\n",
    "    print(f\"dtype: {array.dtype}\")\n",
    "    print(f\"values:\\n{array}\\n\")"
   ]
  },
  {
   "cell_type": "code",
   "execution_count": 6,
   "metadata": {
    "collapsed": false
   },
   "outputs": [
    {
     "output_type": "stream",
     "name": "stdout",
     "text": [
      "ndim: 1\nshape: (5,)\nsize: 5\ndtype: int32\nvalues:\n[1 4 2 5 3]\n\n"
     ]
    }
   ],
   "source": [
    "my_np_array = np.array([1, 4, 2, 5, 3])\n",
    "array_info(my_np_array)"
   ]
  },
  {
   "cell_type": "code",
   "execution_count": 7,
   "metadata": {
    "collapsed": false
   },
   "outputs": [
    {
     "output_type": "stream",
     "name": "stdout",
     "text": [
      "ndim: 1\nshape: (4,)\nsize: 4\ndtype: float64\nvalues:\n[3.14 4.   2.   3.  ]\n\n"
     ]
    }
   ],
   "source": [
    "my_np_array = np.array([3.14, 4, 2, 3])\n",
    "array_info(my_np_array)"
   ]
  },
  {
   "cell_type": "code",
   "execution_count": 8,
   "metadata": {
    "collapsed": false
   },
   "outputs": [
    {
     "output_type": "stream",
     "name": "stdout",
     "text": [
      "ndim: 1\nshape: (4,)\nsize: 4\ndtype: float32\nvalues:\n[1. 2. 3. 4.]\n\n"
     ]
    }
   ],
   "source": [
    "my_np_array = np.array([1, 2, 3, 4], dtype='float32')\n",
    "array_info(my_np_array)"
   ]
  },
  {
   "source": [
    "## Intrinsic Arrays"
   ],
   "cell_type": "markdown",
   "metadata": {}
  },
  {
   "cell_type": "code",
   "execution_count": 9,
   "metadata": {
    "collapsed": false
   },
   "outputs": [
    {
     "output_type": "stream",
     "name": "stdout",
     "text": [
      "ndim: 1\nshape: (10,)\nsize: 10\ndtype: int32\nvalues:\n[0 0 0 0 0 0 0 0 0 0]\n\n"
     ]
    }
   ],
   "source": [
    "my_np_array = np.zeros(shape=10, dtype=int)\n",
    "array_info(my_np_array)"
   ]
  },
  {
   "cell_type": "code",
   "execution_count": 10,
   "metadata": {
    "collapsed": false
   },
   "outputs": [
    {
     "output_type": "stream",
     "name": "stdout",
     "text": [
      "ndim: 2\nshape: (3, 5)\nsize: 15\ndtype: float64\nvalues:\n[[1. 1. 1. 1. 1.]\n [1. 1. 1. 1. 1.]\n [1. 1. 1. 1. 1.]]\n\n"
     ]
    }
   ],
   "source": [
    "my_np_array = np.ones(shape=(3, 5), dtype=float)\n",
    "array_info(my_np_array)"
   ]
  },
  {
   "cell_type": "code",
   "execution_count": 11,
   "metadata": {
    "collapsed": false
   },
   "outputs": [
    {
     "output_type": "stream",
     "name": "stdout",
     "text": [
      "ndim: 2\nshape: (3, 5)\nsize: 15\ndtype: float64\nvalues:\n[[3.14 3.14 3.14 3.14 3.14]\n [3.14 3.14 3.14 3.14 3.14]\n [3.14 3.14 3.14 3.14 3.14]]\n\n"
     ]
    }
   ],
   "source": [
    "my_np_array = np.full(shape=(3, 5), fill_value=3.14)\n",
    "array_info(my_np_array)"
   ]
  },
  {
   "cell_type": "code",
   "execution_count": 12,
   "metadata": {
    "collapsed": false
   },
   "outputs": [
    {
     "output_type": "stream",
     "name": "stdout",
     "text": [
      "ndim: 1\nshape: (10,)\nsize: 10\ndtype: int32\nvalues:\n[ 0  2  4  6  8 10 12 14 16 18]\n\n"
     ]
    }
   ],
   "source": [
    "my_np_array = np.arange(start=0, stop=20, step=2)\n",
    "array_info(my_np_array)"
   ]
  },
  {
   "cell_type": "code",
   "execution_count": 13,
   "metadata": {
    "collapsed": false
   },
   "outputs": [
    {
     "output_type": "stream",
     "name": "stdout",
     "text": [
      "ndim: 1\nshape: (5,)\nsize: 5\ndtype: float64\nvalues:\n[0.   0.25 0.5  0.75 1.  ]\n\n"
     ]
    }
   ],
   "source": [
    "my_np_array = np.linspace(start=0, stop=1, num=5)\n",
    "array_info(my_np_array)"
   ]
  },
  {
   "cell_type": "code",
   "execution_count": 14,
   "metadata": {
    "collapsed": false
   },
   "outputs": [
    {
     "output_type": "stream",
     "name": "stdout",
     "text": [
      "ndim: 2\nshape: (3, 3)\nsize: 9\ndtype: float64\nvalues:\n[[1. 0. 0.]\n [0. 1. 0.]\n [0. 0. 1.]]\n\n"
     ]
    }
   ],
   "source": [
    "my_np_array = np.eye(N=3)\n",
    "array_info(my_np_array)"
   ]
  },
  {
   "cell_type": "code",
   "execution_count": 15,
   "metadata": {},
   "outputs": [
    {
     "output_type": "stream",
     "name": "stdout",
     "text": [
      "ndim: 2\nshape: (3, 3)\nsize: 9\ndtype: int32\nvalues:\n[[1 0 0]\n [0 2 0]\n [0 0 3]]\n\n"
     ]
    }
   ],
   "source": [
    "my_np_array = np.diag([1, 2, 3])\n",
    "array_info(my_np_array)"
   ]
  },
  {
   "source": [
    "## Random Functions"
   ],
   "cell_type": "markdown",
   "metadata": {}
  },
  {
   "cell_type": "code",
   "execution_count": 16,
   "metadata": {
    "collapsed": false
   },
   "outputs": [
    {
     "output_type": "stream",
     "name": "stdout",
     "text": [
      "ndim: 2\n",
      "shape: (3, 3)\n",
      "size: 9\n",
      "dtype: int32\n",
      "values:\n",
      "[[5 0 3]\n",
      " [5 8 3]\n",
      " [1 9 9]]\n",
      "\n"
     ]
    }
   ],
   "source": [
    "my_np_array = np.random.randint(low=0, high=10, size=(3, 3))\n",
    "array_info(my_np_array)"
   ]
  },
  {
   "cell_type": "code",
   "execution_count": 17,
   "metadata": {
    "collapsed": false
   },
   "outputs": [
    {
     "output_type": "stream",
     "name": "stdout",
     "text": [
      "ndim: 2\nshape: (3, 3)\nsize: 9\ndtype: float64\nvalues:\n[[0.8280048  0.03870606 0.22825391]\n [0.59127316 0.70352953 0.12353616]\n [0.01149342 0.70143559 0.30879638]]\n\n"
     ]
    }
   ],
   "source": [
    "my_np_array = np.random.random(size=(3, 3))\n",
    "array_info(my_np_array)"
   ]
  }
 ],
 "metadata": {
  "anaconda-cloud": {},
  "kernelspec": {
   "name": "python38164bitpyudemyconda8c705f49a8e643418ce4b1ca64c8ab63",
   "display_name": "Python 3.8.5 64-bit ('pyUdemy': conda)"
  },
  "language_info": {
   "codemirror_mode": {
    "name": "ipython",
    "version": 3
   },
   "file_extension": ".py",
   "mimetype": "text/x-python",
   "name": "python",
   "nbconvert_exporter": "python",
   "pygments_lexer": "ipython3",
   "version": "3.8.5"
  },
  "metadata": {
   "interpreter": {
    "hash": "423c48e3256333a0e0252f1efeec30283ab6ba0213e3a05c32b0541c29f89950"
   }
  }
 },
 "nbformat": 4,
 "nbformat_minor": 0
}