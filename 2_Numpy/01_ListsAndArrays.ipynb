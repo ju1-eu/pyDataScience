{
 "cells": [
  {
   "cell_type": "markdown",
   "source": [
    "# Lists and Arrays in Python"
   ],
   "metadata": {}
  },
  {
   "cell_type": "code",
   "execution_count": 1,
   "source": [
    "import array\n",
    "import numpy as np"
   ],
   "outputs": [],
   "metadata": {}
  },
  {
   "cell_type": "markdown",
   "source": [
    "## Python List"
   ],
   "metadata": {}
  },
  {
   "cell_type": "code",
   "execution_count": 2,
   "source": [
    "# Liste\n",
    "my_list = [True, \"Hello\", 42.0, 420, None]\n",
    "# datentyp\n",
    "print([type(val) for val in my_list])\n",
    "print(my_list)"
   ],
   "outputs": [
    {
     "output_type": "stream",
     "name": "stdout",
     "text": [
      "[<class 'bool'>, <class 'str'>, <class 'float'>, <class 'int'>, <class 'NoneType'>]\n",
      "[True, 'Hello', 42.0, 420, None]\n"
     ]
    }
   ],
   "metadata": {
    "collapsed": false
   }
  },
  {
   "cell_type": "markdown",
   "source": [
    "## Python Array"
   ],
   "metadata": {}
  },
  {
   "cell_type": "code",
   "execution_count": 3,
   "source": [
    "# liste\n",
    "my_array_range = list(range(10))\n",
    "# array\n",
    "# i = integer\n",
    "my_array = array.array('i', my_array_range)\n",
    "print(my_array)"
   ],
   "outputs": [
    {
     "output_type": "stream",
     "name": "stdout",
     "text": [
      "array('i', [0, 1, 2, 3, 4, 5, 6, 7, 8, 9])\n"
     ]
    }
   ],
   "metadata": {
    "collapsed": false
   }
  },
  {
   "cell_type": "markdown",
   "source": [
    "### Array Dtypes\n",
    "\n",
    "1 byte = 8 bit = 2^8 = 256 bit\n",
    "\n",
    "|  |  |  |  |  |\n",
    "|-|-|-|-|-|\n",
    "| Type code | C Type | Python Type | Minimum size in bytes |\n",
    "| 'b' | signed char | int | 1 |\n",
    "| 'B' | unsigned char | int | 1 |\n",
    "| 'u' | wchar_t | Unicode character | 2 |\n",
    "| 'h' | signed short | int | 2 |\n",
    "| 'H' | unsigned short | int | 2 |\n",
    "| 'i' | signed int | int | 2 |\n",
    "| 'I' | unsigned int | int | 2 |\n",
    "| 'l' | signed long | int | 4 |\n",
    "| 'L' | unsigned long | int | 4 |\n",
    "| 'q' | signed long long | int | 8 |\n",
    "| 'Q' | unsigned long long | int | 8 |\n",
    "| 'f' | float | float | 4 |\n",
    "| 'd' | double | float | 8 |"
   ],
   "metadata": {}
  },
  {
   "cell_type": "code",
   "execution_count": 4,
   "source": [
    "my_array_range = list(range(10))\n",
    "my_array = array.array('d', my_array_range)\n",
    "print(my_array)"
   ],
   "outputs": [
    {
     "output_type": "stream",
     "name": "stdout",
     "text": [
      "array('d', [0.0, 1.0, 2.0, 3.0, 4.0, 5.0, 6.0, 7.0, 8.0, 9.0])\n"
     ]
    }
   ],
   "metadata": {}
  },
  {
   "cell_type": "markdown",
   "source": [
    "## Numpy Array"
   ],
   "metadata": {}
  },
  {
   "cell_type": "markdown",
   "source": [
    "NumPy ist das grundlegende Paket für wissenschaftliches Rechnen in Python.\n",
    "Es ist eine Python-Bibliothek, die ein mehrdimensionales Array-Objekt, verschiedene abgeleitete Objekte und eine Reihe von Routinen für schnelle Operationen auf Arrays bereitstellt.\n",
    "\n",
    "Den Kern des NumPy-Pakets bildet das ndarray-Objekt.\n",
    "Dies kapselt n-dimensionale Arrays homogener Datentypen, wobei viele Operationen aus Leistungsgründen in kompiliertem Code ausgeführt werden."
   ],
   "metadata": {}
  },
  {
   "cell_type": "code",
   "execution_count": 5,
   "source": [
    "# Hilfsfunktion array\n",
    "def array_info(array: np.ndarray) -> None:\n",
    "    print(f\"ndim   = dimension:       {array.ndim}\")\n",
    "    print(f\"shape  = größe:           {array.shape}\")\n",
    "    print(f\"size   = anzahl Elemente: {array.size}\")\n",
    "    print(f\"dtype  = datentyp:        {array.dtype}\")\n",
    "    print(f\"values = wert:            \\n{array}\\n\")"
   ],
   "outputs": [],
   "metadata": {}
  },
  {
   "cell_type": "code",
   "execution_count": 6,
   "source": [
    "my_np_array = np.array([1, 4, 2, 5, 3])\n",
    "array_info(my_np_array)"
   ],
   "outputs": [
    {
     "output_type": "stream",
     "name": "stdout",
     "text": [
      "ndim   = dimension:       1\n",
      "shape  = größe:           (5,)\n",
      "size   = anzahl Elemente: 5\n",
      "dtype  = datentyp:        int64\n",
      "values = wert:            \n",
      "[1 4 2 5 3]\n",
      "\n"
     ]
    }
   ],
   "metadata": {
    "collapsed": false
   }
  },
  {
   "cell_type": "code",
   "execution_count": 7,
   "source": [
    "my_np_array = np.array([3.14, 4, 2, 3])\n",
    "array_info(my_np_array)"
   ],
   "outputs": [
    {
     "output_type": "stream",
     "name": "stdout",
     "text": [
      "ndim   = dimension:       1\n",
      "shape  = größe:           (4,)\n",
      "size   = anzahl Elemente: 4\n",
      "dtype  = datentyp:        float64\n",
      "values = wert:            \n",
      "[3.14 4.   2.   3.  ]\n",
      "\n"
     ]
    }
   ],
   "metadata": {
    "collapsed": false
   }
  },
  {
   "cell_type": "code",
   "execution_count": 8,
   "source": [
    "my_np_array = np.array([1, 2, 3, 4], dtype='float32')\n",
    "array_info(my_np_array)"
   ],
   "outputs": [
    {
     "output_type": "stream",
     "name": "stdout",
     "text": [
      "ndim   = dimension:       1\n",
      "shape  = größe:           (4,)\n",
      "size   = anzahl Elemente: 4\n",
      "dtype  = datentyp:        float32\n",
      "values = wert:            \n",
      "[1. 2. 3. 4.]\n",
      "\n"
     ]
    }
   ],
   "metadata": {
    "collapsed": false
   }
  },
  {
   "cell_type": "markdown",
   "source": [
    "## Intrinsic Arrays "
   ],
   "metadata": {}
  },
  {
   "cell_type": "code",
   "execution_count": 9,
   "source": [
    "# initialisieren mit 0\n",
    "my_np_array = np.zeros(shape=10, dtype=int)\n",
    "array_info(my_np_array)"
   ],
   "outputs": [
    {
     "output_type": "stream",
     "name": "stdout",
     "text": [
      "ndim   = dimension:       1\n",
      "shape  = größe:           (10,)\n",
      "size   = anzahl Elemente: 10\n",
      "dtype  = datentyp:        int64\n",
      "values = wert:            \n",
      "[0 0 0 0 0 0 0 0 0 0]\n",
      "\n"
     ]
    }
   ],
   "metadata": {
    "collapsed": false
   }
  },
  {
   "cell_type": "code",
   "execution_count": 10,
   "source": [
    "# initialisieren mit 1\n",
    "my_np_array = np.ones(shape=(3, 5), dtype=float)\n",
    "array_info(my_np_array)"
   ],
   "outputs": [
    {
     "output_type": "stream",
     "name": "stdout",
     "text": [
      "ndim   = dimension:       2\n",
      "shape  = größe:           (3, 5)\n",
      "size   = anzahl Elemente: 15\n",
      "dtype  = datentyp:        float64\n",
      "values = wert:            \n",
      "[[1. 1. 1. 1. 1.]\n",
      " [1. 1. 1. 1. 1.]\n",
      " [1. 1. 1. 1. 1.]]\n",
      "\n"
     ]
    }
   ],
   "metadata": {
    "collapsed": false
   }
  },
  {
   "cell_type": "code",
   "execution_count": 11,
   "source": [
    "# initialisieren mit 3.14\n",
    "my_np_array = np.full(shape=(3, 5), fill_value=3.14)\n",
    "array_info(my_np_array)"
   ],
   "outputs": [
    {
     "output_type": "stream",
     "name": "stdout",
     "text": [
      "ndim   = dimension:       2\n",
      "shape  = größe:           (3, 5)\n",
      "size   = anzahl Elemente: 15\n",
      "dtype  = datentyp:        float64\n",
      "values = wert:            \n",
      "[[3.14 3.14 3.14 3.14 3.14]\n",
      " [3.14 3.14 3.14 3.14 3.14]\n",
      " [3.14 3.14 3.14 3.14 3.14]]\n",
      "\n"
     ]
    }
   ],
   "metadata": {
    "collapsed": false
   }
  },
  {
   "cell_type": "code",
   "execution_count": 12,
   "source": [
    "# initialisieren mit 0 bis 20\n",
    "my_np_array = np.arange(start=0, stop=22, step=2)\n",
    "array_info(my_np_array)"
   ],
   "outputs": [
    {
     "output_type": "stream",
     "name": "stdout",
     "text": [
      "ndim   = dimension:       1\n",
      "shape  = größe:           (11,)\n",
      "size   = anzahl Elemente: 11\n",
      "dtype  = datentyp:        int64\n",
      "values = wert:            \n",
      "[ 0  2  4  6  8 10 12 14 16 18 20]\n",
      "\n"
     ]
    }
   ],
   "metadata": {
    "collapsed": false
   }
  },
  {
   "cell_type": "code",
   "execution_count": 13,
   "source": [
    "my_np_array = np.linspace(start=0, stop=1, num=5)\n",
    "array_info(my_np_array)"
   ],
   "outputs": [
    {
     "output_type": "stream",
     "name": "stdout",
     "text": [
      "ndim   = dimension:       1\n",
      "shape  = größe:           (5,)\n",
      "size   = anzahl Elemente: 5\n",
      "dtype  = datentyp:        float64\n",
      "values = wert:            \n",
      "[0.   0.25 0.5  0.75 1.  ]\n",
      "\n"
     ]
    }
   ],
   "metadata": {
    "collapsed": false
   }
  },
  {
   "cell_type": "code",
   "execution_count": 14,
   "source": [
    "# Einheitsmatrix\n",
    "my_np_array = np.eye(N=3)\n",
    "array_info(my_np_array)"
   ],
   "outputs": [
    {
     "output_type": "stream",
     "name": "stdout",
     "text": [
      "ndim   = dimension:       2\n",
      "shape  = größe:           (3, 3)\n",
      "size   = anzahl Elemente: 9\n",
      "dtype  = datentyp:        float64\n",
      "values = wert:            \n",
      "[[1. 0. 0.]\n",
      " [0. 1. 0.]\n",
      " [0. 0. 1.]]\n",
      "\n"
     ]
    }
   ],
   "metadata": {
    "collapsed": false
   }
  },
  {
   "cell_type": "code",
   "execution_count": 15,
   "source": [
    "# Hauptdiagonale \n",
    "my_np_array = np.diag([1, 2, 3])\n",
    "array_info(my_np_array)"
   ],
   "outputs": [
    {
     "output_type": "stream",
     "name": "stdout",
     "text": [
      "ndim   = dimension:       2\n",
      "shape  = größe:           (3, 3)\n",
      "size   = anzahl Elemente: 9\n",
      "dtype  = datentyp:        int64\n",
      "values = wert:            \n",
      "[[1 0 0]\n",
      " [0 2 0]\n",
      " [0 0 3]]\n",
      "\n"
     ]
    }
   ],
   "metadata": {}
  },
  {
   "cell_type": "markdown",
   "source": [
    "## Random Functions"
   ],
   "metadata": {}
  },
  {
   "cell_type": "code",
   "execution_count": 16,
   "source": [
    "# Zufall von 0 bis 9\n",
    "my_np_array = np.random.randint(low=0, high=10, size=(3, 3))\n",
    "array_info(my_np_array)"
   ],
   "outputs": [
    {
     "output_type": "stream",
     "name": "stdout",
     "text": [
      "ndim   = dimension:       2\n",
      "shape  = größe:           (3, 3)\n",
      "size   = anzahl Elemente: 9\n",
      "dtype  = datentyp:        int64\n",
      "values = wert:            \n",
      "[[1 2 3]\n",
      " [5 3 7]\n",
      " [7 3 8]]\n",
      "\n"
     ]
    }
   ],
   "metadata": {
    "collapsed": false
   }
  },
  {
   "cell_type": "code",
   "execution_count": 17,
   "source": [
    "my_np_array = np.random.random(size=(3, 3))\n",
    "array_info(my_np_array)"
   ],
   "outputs": [
    {
     "output_type": "stream",
     "name": "stdout",
     "text": [
      "ndim   = dimension:       2\n",
      "shape  = größe:           (3, 3)\n",
      "size   = anzahl Elemente: 9\n",
      "dtype  = datentyp:        float64\n",
      "values = wert:            \n",
      "[[0.41516008 0.1746346  0.23598043]\n",
      " [0.39312202 0.97883348 0.96946356]\n",
      " [0.63155491 0.3717253  0.76949921]]\n",
      "\n"
     ]
    }
   ],
   "metadata": {
    "collapsed": false
   }
  }
 ],
 "metadata": {
  "anaconda-cloud": {},
  "kernelspec": {
   "name": "python3",
   "display_name": "Python 3.8.10 64-bit ('pyData': conda)"
  },
  "language_info": {
   "codemirror_mode": {
    "name": "ipython",
    "version": 3
   },
   "file_extension": ".py",
   "mimetype": "text/x-python",
   "name": "python",
   "nbconvert_exporter": "python",
   "pygments_lexer": "ipython3",
   "version": "3.8.10"
  },
  "metadata": {
   "interpreter": {
    "hash": "423c48e3256333a0e0252f1efeec30283ab6ba0213e3a05c32b0541c29f89950"
   }
  },
  "interpreter": {
   "hash": "e52d0a9233fe182dd4e14c7296091c8adab06812a76515c5f44878dd050c8e80"
  }
 },
 "nbformat": 4,
 "nbformat_minor": 2
}