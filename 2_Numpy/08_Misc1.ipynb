{
 "metadata": {
  "language_info": {
   "codemirror_mode": {
    "name": "ipython",
    "version": 3
   },
   "file_extension": ".py",
   "mimetype": "text/x-python",
   "name": "python",
   "nbconvert_exporter": "python",
   "pygments_lexer": "ipython3",
   "version": "3.8.5"
  },
  "orig_nbformat": 2,
  "kernelspec": {
   "name": "python385jvsc74a57bd0423c48e3256333a0e0252f1efeec30283ab6ba0213e3a05c32b0541c29f89950",
   "display_name": "Python 3.8.5 64-bit ('pyUdemy': conda)"
  },
  "metadata": {
   "interpreter": {
    "hash": "423c48e3256333a0e0252f1efeec30283ab6ba0213e3a05c32b0541c29f89950"
   }
  }
 },
 "nbformat": 4,
 "nbformat_minor": 2,
 "cells": [
  {
   "source": [
    "# Several Important Numpy Functions"
   ],
   "cell_type": "markdown",
   "metadata": {}
  },
  {
   "cell_type": "code",
   "execution_count": 1,
   "metadata": {},
   "outputs": [],
   "source": [
    "import numpy as np\n",
    "np.random.seed(0)"
   ]
  },
  {
   "cell_type": "code",
   "execution_count": 2,
   "metadata": {},
   "outputs": [],
   "source": [
    "def array_info(array: np.ndarray) -> None:\n",
    "    print(f\"ndim: {array.ndim}\")\n",
    "    print(f\"shape: {array.shape}\")\n",
    "    print(f\"size: {array.size}\")\n",
    "    print(f\"dtype: {array.dtype}\")\n",
    "    print(f\"values:\\n{array}\\n\")"
   ]
  },
  {
   "cell_type": "code",
   "execution_count": 3,
   "metadata": {},
   "outputs": [],
   "source": [
    "def compare_arrays(a1: np.ndarray, a2: np.ndarray) -> None:\n",
    "    print(a1)\n",
    "    print(a2)"
   ]
  },
  {
   "cell_type": "code",
   "execution_count": 4,
   "metadata": {},
   "outputs": [
    {
     "output_type": "stream",
     "name": "stdout",
     "text": [
      "ndim: 2\nshape: (2, 2)\nsize: 4\ndtype: int32\nvalues:\n[[0 1]\n [2 3]]\n\n"
     ]
    }
   ],
   "source": [
    "x = np.arange(4).reshape((2, 2))\n",
    "\n",
    "array_info(x)"
   ]
  },
  {
   "source": [
    "## Axis Related Functions"
   ],
   "cell_type": "markdown",
   "metadata": {}
  },
  {
   "source": [
    "np.moveaxis(a, sources, destinations):\n",
    "\n",
    "This function can be used to rearrange specific dimensions of an array."
   ],
   "cell_type": "markdown",
   "metadata": {}
  },
  {
   "cell_type": "code",
   "execution_count": 5,
   "metadata": {},
   "outputs": [
    {
     "output_type": "stream",
     "name": "stdout",
     "text": [
      "[[0 1]\n [2 3]]\n[[0 2]\n [1 3]]\n"
     ]
    }
   ],
   "source": [
    "x_moved = np.moveaxis(x, source=0, destination=1)\n",
    "\n",
    "compare_arrays(x, x_moved)"
   ]
  },
  {
   "source": [
    "np.transpose(a, axes=None):\n",
    "\n",
    "This function can be used to rearrange all dimensions of an array at once."
   ],
   "cell_type": "markdown",
   "metadata": {}
  },
  {
   "cell_type": "code",
   "execution_count": 6,
   "metadata": {},
   "outputs": [
    {
     "output_type": "stream",
     "name": "stdout",
     "text": [
      "[[0 1]\n [2 3]]\n[[0 2]\n [1 3]]\n"
     ]
    }
   ],
   "source": [
    "x_transposed = np.transpose(x)\n",
    "\n",
    "compare_arrays(x, x_transposed)"
   ]
  },
  {
   "cell_type": "code",
   "execution_count": 7,
   "metadata": {},
   "outputs": [
    {
     "output_type": "stream",
     "name": "stdout",
     "text": [
      "[[0 1]\n [2 3]]\n[[0 2]\n [1 3]]\n"
     ]
    }
   ],
   "source": [
    "x_transposed = x.T\n",
    "\n",
    "compare_arrays(x, x_transposed)"
   ]
  },
  {
   "cell_type": "code",
   "execution_count": 8,
   "metadata": {},
   "outputs": [
    {
     "output_type": "stream",
     "name": "stdout",
     "text": [
      "[[0 1]\n [2 3]]\n[[2 3]\n [0 1]]\n"
     ]
    }
   ],
   "source": [
    "x_rolled = np.roll(x, axis=0, shift=-1)\n",
    "\n",
    "compare_arrays(x, x_rolled)"
   ]
  },
  {
   "cell_type": "code",
   "execution_count": 9,
   "metadata": {},
   "outputs": [
    {
     "output_type": "stream",
     "name": "stdout",
     "text": [
      "[[0 1]\n [2 3]]\n[[1 0]\n [3 2]]\n"
     ]
    }
   ],
   "source": [
    "x_rolled = np.roll(x, axis=1, shift=-1)\n",
    "\n",
    "compare_arrays(x, x_rolled)"
   ]
  },
  {
   "source": [
    "## Indexing"
   ],
   "cell_type": "markdown",
   "metadata": {}
  },
  {
   "cell_type": "code",
   "execution_count": 10,
   "metadata": {},
   "outputs": [
    {
     "output_type": "stream",
     "name": "stdout",
     "text": [
      "[[[0 0]\n  [1 1]]\n\n [[0 1]\n  [0 1]]]\n"
     ]
    }
   ],
   "source": [
    "idxs = np.indices((2, 2))\n",
    "\n",
    "print(idxs)"
   ]
  },
  {
   "cell_type": "code",
   "execution_count": 11,
   "metadata": {},
   "outputs": [
    {
     "output_type": "stream",
     "name": "stdout",
     "text": [
      "(array([0, 1]), array([0, 1]))\n"
     ]
    }
   ],
   "source": [
    "idxs = np.diag_indices(2)\n",
    "\n",
    "print(idxs)"
   ]
  },
  {
   "cell_type": "code",
   "execution_count": 12,
   "metadata": {},
   "outputs": [
    {
     "output_type": "stream",
     "name": "stdout",
     "text": [
      "(array([0, 1, 1], dtype=int64), array([0, 0, 1], dtype=int64))\n"
     ]
    }
   ],
   "source": [
    "idxs = np.tril_indices(2)\n",
    "\n",
    "print(idxs)"
   ]
  },
  {
   "cell_type": "code",
   "execution_count": 13,
   "metadata": {},
   "outputs": [
    {
     "output_type": "stream",
     "name": "stdout",
     "text": [
      "(array([0, 0, 1], dtype=int64), array([0, 1, 1], dtype=int64))\n"
     ]
    }
   ],
   "source": [
    "idxs = np.triu_indices(2)\n",
    "\n",
    "print(idxs)"
   ]
  },
  {
   "cell_type": "code",
   "execution_count": 14,
   "metadata": {},
   "outputs": [
    {
     "output_type": "stream",
     "name": "stdout",
     "text": [
      "[[False False]\n [ True  True]]\n[[0 1]\n [2 3]]\n(array([1, 1], dtype=int64), array([0, 1], dtype=int64))\n[2 3]\n"
     ]
    }
   ],
   "source": [
    "c = (x >= 2)\n",
    "w = np.where(c)\n",
    "\n",
    "print(c)\n",
    "print(x)\n",
    "print(w)\n",
    "print(x[w])"
   ]
  },
  {
   "source": [
    "## Sorting"
   ],
   "cell_type": "markdown",
   "metadata": {}
  },
  {
   "cell_type": "code",
   "execution_count": 15,
   "metadata": {},
   "outputs": [
    {
     "output_type": "stream",
     "name": "stdout",
     "text": [
      "ndim: 1\nshape: (10,)\nsize: 10\ndtype: int32\nvalues:\n[  2   5 -10  -7  -7  -3  -1   9   8  -6]\n\n"
     ]
    }
   ],
   "source": [
    "y = np.random.randint(low=-10, high=10, size=10)\n",
    "\n",
    "array_info(y)"
   ]
  },
  {
   "cell_type": "code",
   "execution_count": 16,
   "metadata": {},
   "outputs": [
    {
     "output_type": "stream",
     "name": "stdout",
     "text": [
      "[  2   5 -10  -7  -7  -3  -1   9   8  -6]\n[-10  -7  -7  -6  -3  -1   2   5   8   9]\n"
     ]
    }
   ],
   "source": [
    "y_sorted = np.sort(y)\n",
    "\n",
    "compare_arrays(y, y_sorted)"
   ]
  },
  {
   "cell_type": "code",
   "execution_count": 17,
   "metadata": {},
   "outputs": [
    {
     "output_type": "stream",
     "name": "stdout",
     "text": [
      "[  2   5 -10  -7  -7  -3  -1   9   8  -6]\n[2 3 4 9 5 6 0 1 8 7]\n"
     ]
    }
   ],
   "source": [
    "y_sorted = np.argsort(y)\n",
    "\n",
    "compare_arrays(y, y_sorted)"
   ]
  },
  {
   "cell_type": "code",
   "execution_count": 18,
   "metadata": {},
   "outputs": [
    {
     "output_type": "stream",
     "name": "stdout",
     "text": [
      "7\n"
     ]
    }
   ],
   "source": [
    "y_argmax = np.argmax(y)\n",
    "\n",
    "print(y_argmax)"
   ]
  },
  {
   "cell_type": "code",
   "execution_count": 19,
   "metadata": {},
   "outputs": [
    {
     "output_type": "stream",
     "name": "stdout",
     "text": [
      "2\n"
     ]
    }
   ],
   "source": [
    "y_argmin = np.argmin(y)\n",
    "\n",
    "print(y_argmin)"
   ]
  }
 ]
}