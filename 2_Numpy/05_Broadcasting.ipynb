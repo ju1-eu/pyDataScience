{
 "cells": [
  {
   "cell_type": "markdown",
   "metadata": {},
   "source": [
    "# Numpy Broadcasting"
   ]
  },
  {
   "cell_type": "code",
   "execution_count": 1,
   "metadata": {
    "collapsed": false
   },
   "outputs": [],
   "source": [
    "import numpy as np\n",
    "np.random.seed(0)"
   ]
  },
  {
   "source": [
    "The term broadcasting describes how numpy treats arrays with different shapes during arithmetic operations.  \n",
    "Subject to certain constraints, the smaller array is “broadcast” across the larger array so that they have compatible shapes.   \n",
    "Broadcasting provides a means of vectorizing array operations so that looping occurs in C instead of Python.  \n",
    "If the dimensions are not compatible, you will get a ValueError\n",
    "\n",
    "![broadcast](../media/np_multiply_broadcasting.png)\n",
    "\n",
    "In the simplest example of broadcasting, the scalar ``b`` is stretched to become an array of with the same shape as ``a`` so the shapes are compatible for element-by-element multiplication."
   ],
   "cell_type": "markdown",
   "metadata": {}
  },
  {
   "cell_type": "code",
   "execution_count": 2,
   "metadata": {
    "collapsed": false
   },
   "outputs": [
    {
     "output_type": "stream",
     "name": "stdout",
     "text": [
      "[1.6 3.2]\n"
     ]
    }
   ],
   "source": [
    "a = np.array([1, 2])\n",
    "b = 1.6\n",
    "\n",
    "print(a * b)"
   ]
  },
  {
   "cell_type": "code",
   "execution_count": 3,
   "metadata": {
    "collapsed": false
   },
   "outputs": [
    {
     "output_type": "stream",
     "name": "stdout",
     "text": [
      "[6 7]\n"
     ]
    }
   ],
   "source": [
    "print(a + 5)"
   ]
  },
  {
   "cell_type": "code",
   "execution_count": 4,
   "metadata": {
    "collapsed": false
   },
   "outputs": [
    {
     "output_type": "stream",
     "name": "stdout",
     "text": [
      "[[1. 1.]\n [1. 1.]]\n"
     ]
    }
   ],
   "source": [
    "M = np.ones(shape=(2, 2))\n",
    "\n",
    "print(M)"
   ]
  },
  {
   "cell_type": "code",
   "execution_count": 5,
   "metadata": {
    "collapsed": false
   },
   "outputs": [
    {
     "output_type": "stream",
     "name": "stdout",
     "text": [
      "[[2. 3.]\n [2. 3.]]\n"
     ]
    }
   ],
   "source": [
    "print(M + a)"
   ]
  },
  {
   "cell_type": "code",
   "execution_count": 6,
   "metadata": {
    "collapsed": false
   },
   "outputs": [
    {
     "output_type": "stream",
     "name": "stdout",
     "text": [
      "[0 1 2]\n[[0]\n [1]\n [2]]\n"
     ]
    }
   ],
   "source": [
    "a = np.arange(start=0, stop=3)\n",
    "b = np.arange(start=0, stop=3)[:, np.newaxis]\n",
    "\n",
    "print(a)\n",
    "print(b)"
   ]
  },
  {
   "cell_type": "code",
   "execution_count": 7,
   "metadata": {
    "collapsed": false
   },
   "outputs": [
    {
     "output_type": "stream",
     "name": "stdout",
     "text": [
      "[[0 1 2]\n [1 2 3]\n [2 3 4]]\n"
     ]
    }
   ],
   "source": [
    "print(a + b)"
   ]
  },
  {
   "cell_type": "code",
   "execution_count": 8,
   "metadata": {
    "collapsed": false
   },
   "outputs": [
    {
     "output_type": "stream",
     "name": "stdout",
     "text": [
      "[[1. 1. 1.]\n [1. 1. 1.]]\n[0 1 2]\n"
     ]
    }
   ],
   "source": [
    "M = np.ones(shape=(2, 3))\n",
    "a = np.arange(start=0, stop=3, step=1)\n",
    "\n",
    "print(M)\n",
    "print(a)"
   ]
  },
  {
   "cell_type": "code",
   "execution_count": 9,
   "metadata": {
    "collapsed": false
   },
   "outputs": [
    {
     "output_type": "stream",
     "name": "stdout",
     "text": [
      "[[1. 2. 3.]\n [1. 2. 3.]]\n"
     ]
    }
   ],
   "source": [
    "print(M + a)"
   ]
  },
  {
   "cell_type": "code",
   "execution_count": 10,
   "metadata": {
    "collapsed": false
   },
   "outputs": [],
   "source": [
    "a = np.arange(start=0, stop=9, step=1).reshape((3, 3))\n",
    "b = np.arange(start=0, stop=3, step=1)"
   ]
  },
  {
   "cell_type": "code",
   "execution_count": 11,
   "metadata": {
    "collapsed": false
   },
   "outputs": [
    {
     "output_type": "stream",
     "name": "stdout",
     "text": [
      "[[0 1 2]\n [3 4 5]\n [6 7 8]]\n[0 1 2]\n[[ 0  2  4]\n [ 3  5  7]\n [ 6  8 10]]\n"
     ]
    }
   ],
   "source": [
    "print(a)\n",
    "print(b)\n",
    "\n",
    "print(a + b)"
   ]
  },
  {
   "cell_type": "markdown",
   "metadata": {},
   "source": [
    "### Standardization"
   ]
  },
  {
   "cell_type": "code",
   "execution_count": 12,
   "metadata": {
    "collapsed": false
   },
   "outputs": [],
   "source": [
    "x = np.random.normal(\n",
    "    loc=5.0,\n",
    "    scale=2.0,\n",
    "    size=(100_000, 2)\n",
    ")"
   ]
  },
  {
   "cell_type": "code",
   "execution_count": 13,
   "metadata": {
    "collapsed": false
   },
   "outputs": [
    {
     "output_type": "stream",
     "name": "stdout",
     "text": [
      "[5.0001525  5.01318739]\n"
     ]
    }
   ],
   "source": [
    "x_mean = np.mean(x, axis=0)\n",
    "\n",
    "print(x_mean)"
   ]
  },
  {
   "cell_type": "code",
   "execution_count": 14,
   "metadata": {},
   "outputs": [
    {
     "output_type": "stream",
     "name": "stdout",
     "text": [
      "[3.98573966 3.98244747]\n"
     ]
    }
   ],
   "source": [
    "x_var = np.var(x, axis=0)\n",
    "\n",
    "print(x_var)"
   ]
  },
  {
   "cell_type": "code",
   "execution_count": 15,
   "metadata": {
    "collapsed": false
   },
   "outputs": [],
   "source": [
    "x_centered = x - x_mean"
   ]
  },
  {
   "cell_type": "code",
   "execution_count": 16,
   "metadata": {
    "collapsed": false
   },
   "outputs": [
    {
     "output_type": "stream",
     "name": "stdout",
     "text": [
      "[-4.44956250e-14 -3.04893977e-14]\n[False False]\n[ True  True]\n"
     ]
    }
   ],
   "source": [
    "new_mean = np.mean(x_centered, axis=0)\n",
    "\n",
    "print(new_mean)\n",
    "print(np.equal(new_mean, 0.0))\n",
    "print(np.isclose(new_mean, 0.0))"
   ]
  },
  {
   "cell_type": "code",
   "execution_count": 17,
   "metadata": {},
   "outputs": [],
   "source": [
    "x_standardized = x_centered / (np.sqrt(1e-6 + x_var))"
   ]
  },
  {
   "cell_type": "code",
   "execution_count": 18,
   "metadata": {},
   "outputs": [
    {
     "output_type": "stream",
     "name": "stdout",
     "text": [
      "[0.99999975 0.99999975]\n",
      "[False False]\n",
      "[ True  True]\n"
     ]
    }
   ],
   "source": [
    "new_var = np.var(x_standardized, axis=0)\n",
    "\n",
    "print(new_var)\n",
    "print(np.equal(new_var, 1.0))\n",
    "print(np.isclose(new_var, 1.0))"
   ]
  }
 ],
 "metadata": {
  "anaconda-cloud": {},
  "kernelspec": {
   "name": "python385jvsc74a57bd0423c48e3256333a0e0252f1efeec30283ab6ba0213e3a05c32b0541c29f89950",
   "display_name": "Python 3.8.5 64-bit ('pyUdemy': conda)"
  },
  "language_info": {
   "codemirror_mode": {
    "name": "ipython",
    "version": 3
   },
   "file_extension": ".py",
   "mimetype": "text/x-python",
   "name": "python",
   "nbconvert_exporter": "python",
   "pygments_lexer": "ipython3",
   "version": "3.8.5"
  }
 },
 "nbformat": 4,
 "nbformat_minor": 0
}