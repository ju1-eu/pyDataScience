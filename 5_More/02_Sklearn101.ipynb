{
 "cells": [
  {
   "cell_type": "code",
   "execution_count": 1,
   "metadata": {},
   "outputs": [],
   "source": [
    "import numpy as np\n",
    "np.random.seed(42)\n",
    "import pandas as pd\n",
    "import matplotlib.pyplot as plt\n",
    "from sklearn.preprocessing import LabelEncoder"
   ]
  },
  {
   "cell_type": "markdown",
   "metadata": {},
   "source": [
    "### Dataset preparation"
   ]
  },
  {
   "cell_type": "code",
   "execution_count": 2,
   "metadata": {},
   "outputs": [
    {
     "output_type": "stream",
     "name": "stdout",
     "text": [
      "   Survived  Pclass     Sex   Age  SibSp  Parch     Fare Embarked Cabin_Cat\n0         1       1  female  38.0      1      0  71.2833        C         C\n1         1       1  female  35.0      1      0  53.1000        S         C\n2         0       1    male  54.0      0      0  51.8625        S         E\n3         1       3  female   4.0      1      1  16.7000        S         G\n4         1       1  female  58.0      0      0  26.5500        S         C\n(183, 9)\n"
     ]
    }
   ],
   "source": [
    "data = pd.read_csv(\"../data/titanic/sklearn_dataset.csv\")\n",
    "\n",
    "print(data.head())\n",
    "print(data.shape)"
   ]
  },
  {
   "cell_type": "code",
   "execution_count": 3,
   "metadata": {},
   "outputs": [],
   "source": [
    "data_y = data.Survived\n",
    "data_x = data.drop([\"Survived\"], axis=1)"
   ]
  },
  {
   "cell_type": "code",
   "execution_count": 4,
   "metadata": {},
   "outputs": [
    {
     "output_type": "stream",
     "name": "stdout",
     "text": [
      "     Pclass     Sex   Age  SibSp  Parch     Fare Embarked Cabin_Cat\n0         1  female  38.0      1      0  71.2833        C         C\n1         1  female  35.0      1      0  53.1000        S         C\n2         1    male  54.0      0      0  51.8625        S         E\n3         3  female   4.0      1      1  16.7000        S         G\n4         1  female  58.0      0      0  26.5500        S         C\n..      ...     ...   ...    ...    ...      ...      ...       ...\n178       1  female  47.0      1      1  52.5542        S         D\n179       1    male  33.0      0      0   5.0000        S         B\n180       1  female  56.0      0      1  83.1583        C         C\n181       1  female  19.0      0      0  30.0000        S         B\n182       1    male  26.0      0      0  30.0000        C         C\n\n[183 rows x 8 columns]\n0      1\n1      1\n2      0\n3      1\n4      1\n      ..\n178    1\n179    0\n180    1\n181    1\n182    1\nName: Survived, Length: 183, dtype: int64\n"
     ]
    }
   ],
   "source": [
    "print(data_x)\n",
    "print(data_y)"
   ]
  },
  {
   "cell_type": "code",
   "execution_count": 5,
   "metadata": {},
   "outputs": [],
   "source": [
    "encder_cls = LabelEncoder"
   ]
  },
  {
   "cell_type": "code",
   "execution_count": 6,
   "metadata": {},
   "outputs": [],
   "source": [
    "data_sex = data_x[\"Sex\"]\n",
    "encoder = encder_cls()\n",
    "encoder.fit(data_sex)\n",
    "data_x[\"Sex\"] = encoder.transform(data_sex)\n",
    "\n",
    "data_emb = data_x[\"Embarked\"]\n",
    "encoder = encder_cls()\n",
    "encoder.fit(data_emb)\n",
    "data_x[\"Embarked\"] = encoder.transform(data_emb)\n",
    "\n",
    "data_cab = data_x[\"Cabin_Cat\"]\n",
    "encoder = encder_cls()\n",
    "encoder.fit(data_cab)\n",
    "data_x[\"Cabin_Cat\"] = encoder.transform(data_cab)"
   ]
  },
  {
   "cell_type": "code",
   "execution_count": 7,
   "metadata": {
    "tags": []
   },
   "outputs": [
    {
     "output_type": "stream",
     "name": "stdout",
     "text": [
      "x shape:\n(183, 8)\ny shape:\n(183,)\nx:\n   Pclass  Sex   Age  SibSp  Parch     Fare  Embarked  Cabin_Cat\n0       1    0  38.0      1      0  71.2833         0          2\n1       1    0  35.0      1      0  53.1000         2          2\n2       1    1  54.0      0      0  51.8625         2          4\n3       3    0   4.0      1      1  16.7000         2          6\n4       1    0  58.0      0      0  26.5500         2          2\ny:\n   Pclass  Sex   Age  SibSp  Parch     Fare  Embarked  Cabin_Cat\n0       1    0  38.0      1      0  71.2833         0          2\n1       1    0  35.0      1      0  53.1000         2          2\n2       1    1  54.0      0      0  51.8625         2          4\n3       3    0   4.0      1      1  16.7000         2          6\n4       1    0  58.0      0      0  26.5500         2          2\n"
     ]
    }
   ],
   "source": [
    "print(f\"x shape:\\n{data_x.shape}\")\n",
    "print(f\"y shape:\\n{data_y.shape}\")\n",
    "\n",
    "print(f\"x:\\n{data_x.iloc[:5]}\")\n",
    "print(f\"y:\\n{data_x.iloc[:5]}\")"
   ]
  },
  {
   "cell_type": "code",
   "execution_count": 8,
   "metadata": {},
   "outputs": [],
   "source": [
    "x = data_x.to_numpy()\n",
    "y = data_y.to_numpy()"
   ]
  },
  {
   "cell_type": "markdown",
   "metadata": {},
   "source": [
    "### Dataset Split"
   ]
  },
  {
   "cell_type": "code",
   "execution_count": 9,
   "metadata": {
    "scrolled": true
   },
   "outputs": [
    {
     "output_type": "stream",
     "name": "stdout",
     "text": [
      "Num_samples: 183\nNum_features: 8\nSurvived: 123\nNot survived: 60\nSurvived rate: 0.6721311475409836\nNot survived rate: 0.32786885245901637\n"
     ]
    }
   ],
   "source": [
    "num_samples = x.shape[0]\n",
    "num_features = x.shape[1]\n",
    "num_classes = y.shape[0]\n",
    "num_survived = np.count_nonzero(y == 1)\n",
    "num_not_survived = np.count_nonzero(y == 0)\n",
    "\n",
    "print(f\"Num_samples: {num_samples}\")\n",
    "print(f\"Num_features: {num_features}\")\n",
    "print(f\"Survived: {num_survived}\")\n",
    "print(f\"Not survived: {num_not_survived}\")\n",
    "print(f\"Survived rate: {num_survived / num_samples}\")\n",
    "print(f\"Not survived rate: {num_not_survived / num_samples}\")"
   ]
  },
  {
   "cell_type": "code",
   "execution_count": 10,
   "metadata": {},
   "outputs": [],
   "source": [
    "test_size = num_samples // 3\n",
    "\n",
    "random_idxs = np.random.permutation(num_samples)\n",
    "\n",
    "x_train = x[random_idxs[:-test_size]]\n",
    "y_train = y[random_idxs[:-test_size]]\n",
    "\n",
    "x_test = x[random_idxs[-test_size:]]\n",
    "y_test = y[random_idxs[-test_size:]]"
   ]
  },
  {
   "cell_type": "code",
   "execution_count": 11,
   "metadata": {
    "scrolled": true
   },
   "outputs": [
    {
     "output_type": "stream",
     "name": "stdout",
     "text": [
      "x_train shape:\n(122, 8)\ny_train shape:\n(122,)\nx_test shape:\n(61, 8)\ny_test shape:\n(61,)\n"
     ]
    }
   ],
   "source": [
    "print(f\"x_train shape:\\n{x_train.shape}\")\n",
    "print(f\"y_train shape:\\n{y_train.shape}\")\n",
    "\n",
    "print(f\"x_test shape:\\n{x_test.shape}\")\n",
    "print(f\"y_test shape:\\n{y_test.shape}\")"
   ]
  },
  {
   "cell_type": "markdown",
   "metadata": {},
   "source": [
    "### KNN Model"
   ]
  },
  {
   "cell_type": "code",
   "execution_count": 12,
   "metadata": {},
   "outputs": [
    {
     "output_type": "stream",
     "name": "stdout",
     "text": [
      "accuracy: 68.85%\ny_pred:\n[1 1 1 1 0 0 1 0 0 0 1 0 1 0 1 1 1 1 1 0 1 1 1 1 0 1 0 1 1 1 1 1 1 1 0 0 1\n 0 0 1 1 0 1 1 1 1 1 1 1 1 0 1 0 1 1 0 1 0 1 0 1]\n"
     ]
    }
   ],
   "source": [
    "from sklearn.tree import DecisionTreeClassifier\n",
    "\n",
    "clf = DecisionTreeClassifier()\n",
    "clf.fit(x_train, y_train)\n",
    "\n",
    "accuracy = clf.score(x_test, y_test)\n",
    "print(f\"accuracy: {accuracy*100.0:.4}%\")\n",
    "\n",
    "y_pred = clf.predict(x_test)\n",
    "print(f\"y_pred:\\n{y_pred}\")"
   ]
  }
 ],
 "metadata": {
  "kernelspec": {
   "name": "python385jvsc74a57bd0423c48e3256333a0e0252f1efeec30283ab6ba0213e3a05c32b0541c29f89950",
   "display_name": "Python 3.8.5 64-bit ('pyUdemy': conda)"
  },
  "language_info": {
   "codemirror_mode": {
    "name": "ipython",
    "version": 3
   },
   "file_extension": ".py",
   "mimetype": "text/x-python",
   "name": "python",
   "nbconvert_exporter": "python",
   "pygments_lexer": "ipython3",
   "version": "3.8.5"
  }
 },
 "nbformat": 4,
 "nbformat_minor": 4
}