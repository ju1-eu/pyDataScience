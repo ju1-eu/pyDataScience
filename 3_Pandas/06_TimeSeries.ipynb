{
 "metadata": {
  "language_info": {
   "codemirror_mode": {
    "name": "ipython",
    "version": 3
   },
   "file_extension": ".py",
   "mimetype": "text/x-python",
   "name": "python",
   "nbconvert_exporter": "python",
   "pygments_lexer": "ipython3",
   "version": "3.8.5"
  },
  "orig_nbformat": 2,
  "kernelspec": {
   "name": "python385jvsc74a57bd0423c48e3256333a0e0252f1efeec30283ab6ba0213e3a05c32b0541c29f89950",
   "display_name": "Python 3.8.5 64-bit ('pyUdemy': conda)"
  },
  "metadata": {
   "interpreter": {
    "hash": "522fdde40ba75a445b4c7d16655156023622a06d0cbc06ae1181d92925378299"
   }
  }
 },
 "nbformat": 4,
 "nbformat_minor": 2,
 "cells": [
  {
   "source": [
    "# Time Series in Pandas"
   ],
   "cell_type": "markdown",
   "metadata": {}
  },
  {
   "cell_type": "code",
   "execution_count": 84,
   "metadata": {},
   "outputs": [],
   "source": [
    "import datetime\n",
    "\n",
    "import numpy as np\n",
    "np.random.seed(0)\n",
    "import pandas as pd"
   ]
  },
  {
   "cell_type": "code",
   "execution_count": 85,
   "metadata": {},
   "outputs": [],
   "source": [
    "def series_info(series: pd.Series) -> None:\n",
    "    print(f\"ndim: {series.ndim}\")\n",
    "    print(f\"shape: {series.shape}\")\n",
    "    print(f\"size: {series.size}\")\n",
    "    print(f\"dtype: {series.dtype}\")\n",
    "    print(f\"values:\\n{series}\\n\")"
   ]
  },
  {
   "cell_type": "code",
   "execution_count": 86,
   "metadata": {},
   "outputs": [],
   "source": [
    "def df_info(df: pd.DataFrame) -> None:\n",
    "    print(f\"ndim: {df.ndim}\")\n",
    "    print(f\"shape: {df.shape}\")\n",
    "    print(f\"size: {df.size}\")\n",
    "    print(f\"dtype: {df.dtypes}\")\n",
    "    print(f\"values:\\n{df}\\n\")"
   ]
  },
  {
   "source": [
    "| Concept \t| Scalar Class \t| pandas Data Type \t| Primary Creation Method \t|\n",
    "|-\t|-\t|-\t|-\t|-\t|\n",
    "| Date times \t| Timestamp \t| datetime64\\[ns\\]\t| to_datetime or date_range \t|\n",
    "| Time deltas \t| Timedelta \t| timedelta64\\[ns\\] \t| to_timedelta or timedelta_range \t|\n",
    "| Time spans \t| Period \t| period\\[freq\\] \t| Period or period_range \t|"
   ],
   "cell_type": "markdown",
   "metadata": {}
  },
  {
   "cell_type": "code",
   "execution_count": 87,
   "metadata": {},
   "outputs": [],
   "source": [
    "ds = pd.date_range(\n",
    "    \"21/4/2021\",\n",
    "    periods=3,\n",
    "    freq=\"H\"\n",
    ")"
   ]
  },
  {
   "cell_type": "code",
   "execution_count": 88,
   "metadata": {},
   "outputs": [
    {
     "output_type": "stream",
     "name": "stdout",
     "text": [
      "ndim: 1\nshape: (3,)\nsize: 3\ndtype: datetime64[ns]\nvalues:\nDatetimeIndex(['2021-04-21 00:00:00', '2021-04-21 01:00:00',\n               '2021-04-21 02:00:00'],\n              dtype='datetime64[ns]', freq='H')\n\n"
     ]
    }
   ],
   "source": [
    "series_info(ds)"
   ]
  },
  {
   "cell_type": "code",
   "execution_count": 89,
   "metadata": {},
   "outputs": [
    {
     "output_type": "stream",
     "name": "stdout",
     "text": [
      "ndim: 1\nshape: (3,)\nsize: 3\ndtype: datetime64[ns, UTC]\nvalues:\nDatetimeIndex(['2021-04-21 00:00:00+00:00', '2021-04-21 01:00:00+00:00',\n               '2021-04-21 02:00:00+00:00'],\n              dtype='datetime64[ns, UTC]', freq='H')\n\n"
     ]
    }
   ],
   "source": [
    "series_info(ds.tz_localize(\"UTC\"))"
   ]
  },
  {
   "cell_type": "code",
   "execution_count": 90,
   "metadata": {},
   "outputs": [
    {
     "output_type": "stream",
     "name": "stdout",
     "text": [
      "2018-01-05 12:00:00+01:00\n"
     ]
    }
   ],
   "source": [
    "friday = pd.Timestamp(\"2018-01-05 12:00:00\").tz_localize(\"Europe/Berlin\")\n",
    "\n",
    "print(friday)"
   ]
  },
  {
   "cell_type": "code",
   "execution_count": 91,
   "metadata": {},
   "outputs": [
    {
     "output_type": "stream",
     "name": "stdout",
     "text": [
      "2018-01-06 12:00:00+01:00\n"
     ]
    }
   ],
   "source": [
    "saturday = friday + pd.Timedelta(\"1 day\")\n",
    "\n",
    "print(saturday)"
   ]
  },
  {
   "cell_type": "code",
   "execution_count": 92,
   "metadata": {},
   "outputs": [],
   "source": [
    "num_samples = 100\n",
    "\n",
    "dates = pd.date_range(\n",
    "    \"21/4/2021\",\n",
    "    periods=num_samples\n",
    ")\n",
    "\n",
    "df = pd.DataFrame(\n",
    "    {\n",
    "        \"Date\": dates,\n",
    "        \"Value\": np.random.randn(num_samples)\n",
    "    }\n",
    ")"
   ]
  },
  {
   "cell_type": "code",
   "execution_count": 93,
   "metadata": {},
   "outputs": [
    {
     "output_type": "stream",
     "name": "stdout",
     "text": [
      "ndim: 2\nshape: (100, 2)\nsize: 200\ndtype: Date     datetime64[ns]\nValue           float64\ndtype: object\nvalues:\n         Date     Value\n0  2021-04-21  1.764052\n1  2021-04-22  0.400157\n2  2021-04-23  0.978738\n3  2021-04-24  2.240893\n4  2021-04-25  1.867558\n..        ...       ...\n95 2021-07-25  0.706573\n96 2021-07-26  0.010500\n97 2021-07-27  1.785870\n98 2021-07-28  0.126912\n99 2021-07-29  0.401989\n\n[100 rows x 2 columns]\n\n"
     ]
    }
   ],
   "source": [
    "df_info(df)"
   ]
  },
  {
   "cell_type": "code",
   "execution_count": 94,
   "metadata": {},
   "outputs": [
    {
     "output_type": "execute_result",
     "data": {
      "text/plain": [
       "Period('2021-05', 'M')"
      ]
     },
     "metadata": {},
     "execution_count": 94
    }
   ],
   "source": [
    "pd.Period(\"2021-05\")"
   ]
  },
  {
   "cell_type": "code",
   "execution_count": 95,
   "metadata": {},
   "outputs": [
    {
     "output_type": "execute_result",
     "data": {
      "text/plain": [
       "Period('2021-05-01', 'D')"
      ]
     },
     "metadata": {},
     "execution_count": 95
    }
   ],
   "source": [
    "pd.Period(\"2021-05\", freq=\"D\")"
   ]
  },
  {
   "cell_type": "code",
   "execution_count": 96,
   "metadata": {},
   "outputs": [],
   "source": [
    "dates = [\n",
    "    pd.Timestamp(\"2021-05-01\"),\n",
    "    pd.Timestamp(\"2021-05-02\"),\n",
    "    pd.Timestamp(\"2021-05-04\"),\n",
    "]\n",
    "\n",
    "ts = pd.Series(np.random.randn(3), dates)"
   ]
  },
  {
   "cell_type": "code",
   "execution_count": 97,
   "metadata": {},
   "outputs": [
    {
     "output_type": "stream",
     "name": "stdout",
     "text": [
      "ndim: 1\nshape: (3,)\nsize: 3\ndtype: float64\nvalues:\n2021-05-01    1.883151\n2021-05-02   -1.347759\n2021-05-04   -1.270485\ndtype: float64\n\n"
     ]
    }
   ],
   "source": [
    "series_info(ts)"
   ]
  },
  {
   "cell_type": "code",
   "execution_count": 98,
   "metadata": {},
   "outputs": [
    {
     "output_type": "stream",
     "name": "stdout",
     "text": [
      "ndim: 1\nshape: (31,)\nsize: 31\ndtype: datetime64[ns]\nvalues:\nDatetimeIndex(['2021-05-01', '2021-05-02', '2021-05-03', '2021-05-04',\n               '2021-05-05', '2021-05-06', '2021-05-07', '2021-05-08',\n               '2021-05-09', '2021-05-10', '2021-05-11', '2021-05-12',\n               '2021-05-13', '2021-05-14', '2021-05-15', '2021-05-16',\n               '2021-05-17', '2021-05-18', '2021-05-19', '2021-05-20',\n               '2021-05-21', '2021-05-22', '2021-05-23', '2021-05-24',\n               '2021-05-25', '2021-05-26', '2021-05-27', '2021-05-28',\n               '2021-05-29', '2021-05-30', '2021-05-31'],\n              dtype='datetime64[ns]', freq='D')\n\n"
     ]
    }
   ],
   "source": [
    "start = datetime.datetime(2021, 5, 1)\n",
    "end = datetime.datetime(2021, 5, 31)\n",
    "\n",
    "index = pd.date_range(start, end)\n",
    "\n",
    "series_info(index)"
   ]
  },
  {
   "cell_type": "code",
   "execution_count": 99,
   "metadata": {},
   "outputs": [
    {
     "output_type": "stream",
     "name": "stdout",
     "text": [
      "ndim: 1\nshape: (31,)\nsize: 31\ndtype: datetime64[ns]\nvalues:\nDatetimeIndex(['2021-05-01', '2021-05-02', '2021-05-03', '2021-05-04',\n               '2021-05-05', '2021-05-06', '2021-05-07', '2021-05-08',\n               '2021-05-09', '2021-05-10', '2021-05-11', '2021-05-12',\n               '2021-05-13', '2021-05-14', '2021-05-15', '2021-05-16',\n               '2021-05-17', '2021-05-18', '2021-05-19', '2021-05-20',\n               '2021-05-21', '2021-05-22', '2021-05-23', '2021-05-24',\n               '2021-05-25', '2021-05-26', '2021-05-27', '2021-05-28',\n               '2021-05-29', '2021-05-30', '2021-05-31'],\n              dtype='datetime64[ns]', freq='D')\n\n"
     ]
    }
   ],
   "source": [
    "series_info(pd.date_range(start, end, freq=\"D\"))"
   ]
  },
  {
   "cell_type": "code",
   "execution_count": 100,
   "metadata": {},
   "outputs": [
    {
     "output_type": "stream",
     "name": "stdout",
     "text": [
      "ndim: 1\nshape: (31,)\nsize: 31\ndtype: datetime64[ns]\nvalues:\nDatetimeIndex(['2021-05-01', '2021-05-02', '2021-05-03', '2021-05-04',\n               '2021-05-05', '2021-05-06', '2021-05-07', '2021-05-08',\n               '2021-05-09', '2021-05-10', '2021-05-11', '2021-05-12',\n               '2021-05-13', '2021-05-14', '2021-05-15', '2021-05-16',\n               '2021-05-17', '2021-05-18', '2021-05-19', '2021-05-20',\n               '2021-05-21', '2021-05-22', '2021-05-23', '2021-05-24',\n               '2021-05-25', '2021-05-26', '2021-05-27', '2021-05-28',\n               '2021-05-29', '2021-05-30', '2021-05-31'],\n              dtype='datetime64[ns]', freq='D')\n\n"
     ]
    }
   ],
   "source": [
    "series_info(pd.date_range('2021-05-01', '2021-05-31', freq=\"D\"))"
   ]
  }
 ]
}