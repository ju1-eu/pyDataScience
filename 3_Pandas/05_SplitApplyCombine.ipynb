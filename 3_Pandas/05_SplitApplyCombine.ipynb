{
 "metadata": {
  "language_info": {
   "codemirror_mode": {
    "name": "ipython",
    "version": 3
   },
   "file_extension": ".py",
   "mimetype": "text/x-python",
   "name": "python",
   "nbconvert_exporter": "python",
   "pygments_lexer": "ipython3",
   "version": "3.8.5"
  },
  "orig_nbformat": 2,
  "kernelspec": {
   "name": "python385jvsc74a57bd0423c48e3256333a0e0252f1efeec30283ab6ba0213e3a05c32b0541c29f89950",
   "display_name": "Python 3.8.5 64-bit ('pyUdemy': conda)"
  }
 },
 "nbformat": 4,
 "nbformat_minor": 2,
 "cells": [
  {
   "source": [
    "# GroupBy: Split, Apply, Combine"
   ],
   "cell_type": "markdown",
   "metadata": {}
  },
  {
   "cell_type": "code",
   "execution_count": 18,
   "metadata": {},
   "outputs": [],
   "source": [
    "import numpy as np\n",
    "np.random.seed(0)\n",
    "import pandas as pd"
   ]
  },
  {
   "source": [
    "## Apply\n",
    "\n",
    "Apply a function along an axis of the DataFrame.\n",
    "\n",
    "Objects passed to the function are Series objects whose index is either the DataFrame’s index (axis=0) or the DataFrame’s columns (axis=1).  \n",
    "By default, the final return type is inferred from the return type of the applied function. Otherwise, it depends on the result_type argument."
   ],
   "cell_type": "markdown",
   "metadata": {}
  },
  {
   "cell_type": "code",
   "execution_count": 19,
   "metadata": {},
   "outputs": [
    {
     "output_type": "stream",
     "name": "stdout",
     "text": [
      "   A  B\n0  4  9\n1  4  9\n2  4  9\n"
     ]
    }
   ],
   "source": [
    "data = [[4, 9], [4, 9], [4, 9]]\n",
    "df = pd.DataFrame(data, columns=['A', 'B'])\n",
    "\n",
    "print(df)"
   ]
  },
  {
   "cell_type": "code",
   "execution_count": 20,
   "metadata": {},
   "outputs": [
    {
     "output_type": "stream",
     "name": "stdout",
     "text": [
      "     A    B\n0  2.0  3.0\n1  2.0  3.0\n2  2.0  3.0\n"
     ]
    }
   ],
   "source": [
    "print(df.apply(np.sqrt))"
   ]
  },
  {
   "cell_type": "code",
   "execution_count": 21,
   "metadata": {},
   "outputs": [
    {
     "output_type": "stream",
     "name": "stdout",
     "text": [
      "A    12\nB    27\ndtype: int64\n"
     ]
    }
   ],
   "source": [
    "print(df.apply(np.sum, axis=0))"
   ]
  },
  {
   "cell_type": "code",
   "execution_count": 22,
   "metadata": {},
   "outputs": [
    {
     "output_type": "stream",
     "name": "stdout",
     "text": [
      "0    13\n1    13\n2    13\ndtype: int64\n"
     ]
    }
   ],
   "source": [
    "print(df.apply(np.sum, axis=1))"
   ]
  },
  {
   "cell_type": "code",
   "execution_count": 23,
   "metadata": {},
   "outputs": [
    {
     "output_type": "execute_result",
     "data": {
      "text/plain": [
       "0    13\n",
       "1    13\n",
       "2    13\n",
       "dtype: int64"
      ]
     },
     "metadata": {},
     "execution_count": 23
    }
   ],
   "source": [
    "np.sum(df, axis=1)"
   ]
  },
  {
   "source": [
    "## GroupBy\n",
    "\n",
    "By “group by” we are referring to a process involving one or more of the following steps:\n",
    "\n",
    "- Splitting the data into groups based on some criteria.\n",
    "- Applying a function to each group independently.\n",
    "- Combining the results into a data structure."
   ],
   "cell_type": "markdown",
   "metadata": {}
  },
  {
   "cell_type": "code",
   "execution_count": 24,
   "metadata": {},
   "outputs": [
    {
     "output_type": "stream",
     "name": "stdout",
     "text": [
      "  key name  data\n0   A   N1    10\n1   B   N1    11\n2   C   N2    12\n3   A   N2    13\n4   B   N3    14\n5   C   N4    15\n"
     ]
    }
   ],
   "source": [
    "keys = ['A', 'B', 'C', 'A', 'B', 'C']\n",
    "names = ['N1', 'N1', 'N2', 'N2', 'N3', 'N4']\n",
    "\n",
    "df = pd.DataFrame(\n",
    "    {\n",
    "        'key': keys,\n",
    "        'name': names,\n",
    "        'data': range(10, 16)\n",
    "    }\n",
    ")\n",
    "\n",
    "print(df)"
   ]
  },
  {
   "cell_type": "code",
   "execution_count": 25,
   "metadata": {},
   "outputs": [
    {
     "output_type": "stream",
     "name": "stdout",
     "text": [
      "23\n25\n27\n"
     ]
    }
   ],
   "source": [
    "for c in ['A', 'B', 'C']:\n",
    "    print(df[df['key'] == c].data.sum())"
   ]
  },
  {
   "cell_type": "code",
   "execution_count": 26,
   "metadata": {},
   "outputs": [],
   "source": [
    "grouped = df.groupby('key')"
   ]
  },
  {
   "cell_type": "code",
   "execution_count": 27,
   "metadata": {},
   "outputs": [
    {
     "output_type": "stream",
     "name": "stdout",
     "text": [
      "('A',   key name  data\n0   A   N1    10\n3   A   N2    13)\n('B',   key name  data\n1   B   N1    11\n4   B   N3    14)\n('C',   key name  data\n2   C   N2    12\n5   C   N4    15)\n"
     ]
    }
   ],
   "source": [
    "for v in grouped:\n",
    "    print(v)"
   ]
  },
  {
   "source": [
    "### Aggregate\n",
    "\n",
    "Once the GroupBy object has been created, several methods are available to perform a computation on the grouped data.\n",
    "\n",
    "An obvious one is aggregation via the aggregate() or equivalently agg() method:"
   ],
   "cell_type": "markdown",
   "metadata": {}
  },
  {
   "cell_type": "code",
   "execution_count": 28,
   "metadata": {},
   "outputs": [
    {
     "output_type": "stream",
     "name": "stdout",
     "text": [
      "     data\nkey      \nA      23\nB      25\nC      27\n"
     ]
    }
   ],
   "source": [
    "print(df.groupby('key').aggregate(np.sum))"
   ]
  },
  {
   "cell_type": "code",
   "execution_count": 29,
   "metadata": {},
   "outputs": [
    {
     "output_type": "stream",
     "name": "stdout",
     "text": [
      "    data                        \n     min max  mean      std  var\nkey                             \nA     10  13  11.5  2.12132  4.5\nB     11  14  12.5  2.12132  4.5\nC     12  15  13.5  2.12132  4.5\n"
     ]
    }
   ],
   "source": [
    "print(df.groupby('key').agg(['min', 'max', 'mean', 'std', 'var']))"
   ]
  },
  {
   "cell_type": "code",
   "execution_count": 30,
   "metadata": {},
   "outputs": [
    {
     "output_type": "stream",
     "name": "stdout",
     "text": [
      "    name  data\nkey           \nA     N1    10\nB     N1    11\nC     N2    12\n"
     ]
    }
   ],
   "source": [
    "print(df.groupby('key').aggregate(np.min))"
   ]
  },
  {
   "cell_type": "code",
   "execution_count": 31,
   "metadata": {},
   "outputs": [
    {
     "output_type": "stream",
     "name": "stdout",
     "text": [
      "          data\nkey name      \nA   N1      10\n    N2      13\nB   N1      11\n    N3      14\nC   N2      12\n    N4      15\n"
     ]
    }
   ],
   "source": [
    "grouped = df.groupby(['key', 'name'])\n",
    "\n",
    "print(grouped.aggregate(np.min))"
   ]
  },
  {
   "source": [
    "### Transform\n",
    "\n",
    "The transform method returns an object that is indexed the same (same size) as the one being grouped."
   ],
   "cell_type": "markdown",
   "metadata": {}
  },
  {
   "cell_type": "code",
   "execution_count": 32,
   "metadata": {},
   "outputs": [
    {
     "output_type": "stream",
     "name": "stdout",
     "text": [
      "   data\n0   100\n1   121\n2   144\n3   169\n4   196\n5   225\n"
     ]
    }
   ],
   "source": [
    "print(grouped.transform(lambda x: x**2))"
   ]
  },
  {
   "source": [
    "### Filter\n",
    "\n",
    "The filter method returns a subset of the original object. Suppose we want to take only elements that belong to groups with a group sum greater than 2."
   ],
   "cell_type": "markdown",
   "metadata": {}
  },
  {
   "cell_type": "code",
   "execution_count": 33,
   "metadata": {},
   "outputs": [
    {
     "output_type": "stream",
     "name": "stdout",
     "text": [
      "  key name  data\n3   A   N2    13\n4   B   N3    14\n5   C   N4    15\n"
     ]
    }
   ],
   "source": [
    "print(grouped.filter(lambda x: x.data > 12))"
   ]
  },
  {
   "cell_type": "code",
   "execution_count": 34,
   "metadata": {},
   "outputs": [
    {
     "output_type": "stream",
     "name": "stdout",
     "text": [
      "   key name  data\n0  NaN  NaN   NaN\n1  NaN  NaN   NaN\n2  NaN  NaN   NaN\n3    A   N2  13.0\n4    B   N3  14.0\n5    C   N4  15.0\n"
     ]
    }
   ],
   "source": [
    "print(grouped.filter(lambda x: x.data > 12, dropna=False))"
   ]
  }
 ]
}