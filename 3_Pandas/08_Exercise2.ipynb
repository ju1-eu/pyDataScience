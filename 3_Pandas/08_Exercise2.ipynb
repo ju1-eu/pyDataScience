{
 "metadata": {
  "language_info": {
   "codemirror_mode": {
    "name": "ipython",
    "version": 3
   },
   "file_extension": ".py",
   "mimetype": "text/x-python",
   "name": "python",
   "nbconvert_exporter": "python",
   "pygments_lexer": "ipython3",
   "version": "3.8.5"
  },
  "orig_nbformat": 2,
  "kernelspec": {
   "name": "python385jvsc74a57bd0423c48e3256333a0e0252f1efeec30283ab6ba0213e3a05c32b0541c29f89950",
   "display_name": "Python 3.8.5 64-bit ('pyUdemy': conda)"
  }
 },
 "nbformat": 4,
 "nbformat_minor": 2,
 "cells": [
  {
   "source": [
    "# Pandas Exercise"
   ],
   "cell_type": "markdown",
   "metadata": {}
  },
  {
   "cell_type": "code",
   "execution_count": 9,
   "metadata": {},
   "outputs": [],
   "source": [
    "import matplotlib.pyplot as plt\n",
    "import numpy as np\n",
    "np.random.seed(0)\n",
    "import pandas as pd"
   ]
  },
  {
   "cell_type": "code",
   "execution_count": 10,
   "metadata": {},
   "outputs": [],
   "source": [
    "def df_info(df: pd.DataFrame) -> None:\n",
    "    return df.head(n=20).style"
   ]
  },
  {
   "source": [
    "## Cars Auction Dataset\n",
    "\n",
    "| Feature      | Type    | Description                                                                                                                                                                                                             |\n",
    "|--------------|---------|-----------------------------------------------------------------------------------------------------------------------------------------------------------------------------------------------------------------------------|\n",
    "| Price        | Integer | The sale price of the vehicle in the ad                                                                                                                                                                                     |\n",
    "| Years        | Integer | The vehicle registration year                                                                                                                                                                                               |\n",
    "| Brand        | String  | The brand of car                                                                                                                                                                                                            |\n",
    "| Model        | String  | model of the vehicle                                                                                                                                                                                                        |\n",
    "| Color        | String  | Color of the vehicle                                                                                                                                                                                                        |\n",
    "| State/City   | String  | The location in which the car is being available for purchase                                                                                                                                                               |\n",
    "| Mileage      | Float   | miles traveled by vehicle                                                                                                                                                                                                   |\n",
    "| Title Status | String  | This feature included binary classification, which are clean title vehicles and salvage insurance                                                                                                                           |\n",
    "| Condition    | String  | Time                                                                                                                                                                                                                        |"
   ],
   "cell_type": "markdown",
   "metadata": {}
  },
  {
   "cell_type": "code",
   "execution_count": 11,
   "metadata": {},
   "outputs": [
    {
     "output_type": "stream",
     "name": "stdout",
     "text": [
      "Index(['price', 'brand', 'model', 'year', 'title_status', 'mileage', 'color',\n       'state', 'country', 'condition'],\n      dtype='object')\n"
     ]
    }
   ],
   "source": [
    "df = pd.read_csv(\"../data/USA_cars_datasets.csv\")\n",
    "\n",
    "print(df.columns)"
   ]
  },
  {
   "cell_type": "code",
   "execution_count": 12,
   "metadata": {},
   "outputs": [
    {
     "output_type": "execute_result",
     "data": {
      "text/plain": [
       "   price      brand    model  year   title_status   mileage   color  \\\n",
       "0   6300     toyota  cruiser  2008  clean vehicle  274117.0   black   \n",
       "1   2899       ford       se  2011  clean vehicle  190552.0  silver   \n",
       "2   5350      dodge      mpv  2018  clean vehicle   39590.0  silver   \n",
       "3  25000       ford     door  2014  clean vehicle   64146.0    blue   \n",
       "4  27700  chevrolet     1500  2018  clean vehicle    6654.0     red   \n",
       "\n",
       "        state country      condition  \n",
       "0  new jersey     usa   10 days left  \n",
       "1   tennessee     usa    6 days left  \n",
       "2     georgia     usa    2 days left  \n",
       "3    virginia     usa  22 hours left  \n",
       "4     florida     usa  22 hours left  "
      ],
      "text/html": "<div>\n<style scoped>\n    .dataframe tbody tr th:only-of-type {\n        vertical-align: middle;\n    }\n\n    .dataframe tbody tr th {\n        vertical-align: top;\n    }\n\n    .dataframe thead th {\n        text-align: right;\n    }\n</style>\n<table border=\"1\" class=\"dataframe\">\n  <thead>\n    <tr style=\"text-align: right;\">\n      <th></th>\n      <th>price</th>\n      <th>brand</th>\n      <th>model</th>\n      <th>year</th>\n      <th>title_status</th>\n      <th>mileage</th>\n      <th>color</th>\n      <th>state</th>\n      <th>country</th>\n      <th>condition</th>\n    </tr>\n  </thead>\n  <tbody>\n    <tr>\n      <th>0</th>\n      <td>6300</td>\n      <td>toyota</td>\n      <td>cruiser</td>\n      <td>2008</td>\n      <td>clean vehicle</td>\n      <td>274117.0</td>\n      <td>black</td>\n      <td>new jersey</td>\n      <td>usa</td>\n      <td>10 days left</td>\n    </tr>\n    <tr>\n      <th>1</th>\n      <td>2899</td>\n      <td>ford</td>\n      <td>se</td>\n      <td>2011</td>\n      <td>clean vehicle</td>\n      <td>190552.0</td>\n      <td>silver</td>\n      <td>tennessee</td>\n      <td>usa</td>\n      <td>6 days left</td>\n    </tr>\n    <tr>\n      <th>2</th>\n      <td>5350</td>\n      <td>dodge</td>\n      <td>mpv</td>\n      <td>2018</td>\n      <td>clean vehicle</td>\n      <td>39590.0</td>\n      <td>silver</td>\n      <td>georgia</td>\n      <td>usa</td>\n      <td>2 days left</td>\n    </tr>\n    <tr>\n      <th>3</th>\n      <td>25000</td>\n      <td>ford</td>\n      <td>door</td>\n      <td>2014</td>\n      <td>clean vehicle</td>\n      <td>64146.0</td>\n      <td>blue</td>\n      <td>virginia</td>\n      <td>usa</td>\n      <td>22 hours left</td>\n    </tr>\n    <tr>\n      <th>4</th>\n      <td>27700</td>\n      <td>chevrolet</td>\n      <td>1500</td>\n      <td>2018</td>\n      <td>clean vehicle</td>\n      <td>6654.0</td>\n      <td>red</td>\n      <td>florida</td>\n      <td>usa</td>\n      <td>22 hours left</td>\n    </tr>\n  </tbody>\n</table>\n</div>"
     },
     "metadata": {},
     "execution_count": 12
    }
   ],
   "source": [
    "df.head()"
   ]
  },
  {
   "source": [
    "## Exercise 1\n",
    "\n",
    "- Get the counts for the us states"
   ],
   "cell_type": "markdown",
   "metadata": {}
  },
  {
   "source": [
    "## Exercise 2\n",
    "\n",
    "- Get all cars from the state of new mexico"
   ],
   "cell_type": "markdown",
   "metadata": {}
  },
  {
   "source": [
    "## Exercise 3\n",
    "\n",
    "- Compute the mean mileage of all cars from new york"
   ],
   "cell_type": "markdown",
   "metadata": {}
  },
  {
   "source": [
    "## Exercise 4\n",
    "\n",
    "- Remove all entries where the year is below 2019"
   ],
   "cell_type": "markdown",
   "metadata": {}
  },
  {
   "source": [
    "## Exercise 5\n",
    "\n",
    "- Replace all color values by the first character of the color name\n",
    "E.g.: 'blue' => 'b'"
   ],
   "cell_type": "markdown",
   "metadata": {}
  }
 ]
}