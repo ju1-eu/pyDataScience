{
 "cells": [
  {
   "cell_type": "markdown",
   "metadata": {},
   "source": [
    "# Concat, Merge and Join\n",
    "\n",
    "- merge is used to combine dataframes on the basis of values of common columns (indices can also be used, use left_index=True and/or right_index=True)\n",
    "- concat is used to append dataframes one below the other (or sideways, depending on whether the axis option is set to 0 or 1)\n",
    "- join is used to merge dataframes on the basis of the index; instead of using merge with the option left_index=True we can use join"
   ]
  },
  {
   "cell_type": "code",
   "execution_count": 48,
   "metadata": {
    "collapsed": true
   },
   "outputs": [],
   "source": [
    "import numpy as np\n",
    "np.random.seed(0)\n",
    "import pandas as pd"
   ]
  },
  {
   "cell_type": "markdown",
   "metadata": {},
   "source": [
    "## Recap: Concatenation of np.ndarrays"
   ]
  },
  {
   "cell_type": "code",
   "execution_count": 49,
   "metadata": {
    "collapsed": false
   },
   "outputs": [
    {
     "output_type": "stream",
     "name": "stdout",
     "text": [
      "[[1 2]\n [3 4]\n [1 2]\n [3 4]]\n"
     ]
    }
   ],
   "source": [
    "x = [[1, 2],\n",
    "     [3, 4]]\n",
    "\n",
    "print(np.concatenate([x, x], axis=0))"
   ]
  },
  {
   "cell_type": "code",
   "execution_count": 50,
   "metadata": {
    "collapsed": false
   },
   "outputs": [
    {
     "output_type": "stream",
     "name": "stdout",
     "text": [
      "[[1 2 1 2]\n [3 4 3 4]]\n"
     ]
    }
   ],
   "source": [
    "x = [[1, 2],\n",
    "     [3, 4]]\n",
    "\n",
    "print(np.concatenate([x, x], axis=1))"
   ]
  },
  {
   "source": [
    "## DataFrames for the Examples"
   ],
   "cell_type": "markdown",
   "metadata": {}
  },
  {
   "cell_type": "code",
   "execution_count": 51,
   "metadata": {},
   "outputs": [],
   "source": [
    "df1 = pd.DataFrame(\n",
    "    {\n",
    "        \"A\": [\"A0\", \"A1\", \"A2\", \"A3\"],\n",
    "        \"B\": [\"B0\", \"B1\", \"B2\", \"B3\"],\n",
    "    },\n",
    "    index=[0, 1, 2, 3]\n",
    ")\n",
    "\n",
    "df2 = pd.DataFrame(\n",
    "    {\n",
    "        \"A\": [\"A4\", \"A5\", \"A6\", \"A7\"],\n",
    "        \"B\": [\"B4\", \"B5\", \"B6\", \"B7\"],\n",
    "    },\n",
    "    index=[0, 1, 2, 5]\n",
    ")"
   ]
  },
  {
   "cell_type": "markdown",
   "metadata": {},
   "source": [
    "## Append with Pandas\n",
    "\n",
    "A useful shortcut to concat() are the append() instance methods on Series and DataFrame. They concatenate along axis=0, namely the index.\n",
    "\n",
    "```python\n",
    "DataFrame.append(\n",
    "    other,\n",
    "    ...\n",
    ")\n",
    "```\n",
    "\n",
    "- otherDataFrame or Series/dict-like object, or list of these: The data to append."
   ]
  },
  {
   "cell_type": "code",
   "execution_count": 52,
   "metadata": {},
   "outputs": [
    {
     "output_type": "stream",
     "name": "stdout",
     "text": [
      "    A   B\n0  A0  B0\n1  A1  B1\n2  A2  B2\n3  A3  B3\n    A   B\n0  A4  B4\n1  A5  B5\n2  A6  B6\n5  A7  B7\n"
     ]
    }
   ],
   "source": [
    "print(df1)\n",
    "print(df2)"
   ]
  },
  {
   "cell_type": "code",
   "execution_count": 53,
   "metadata": {},
   "outputs": [
    {
     "output_type": "stream",
     "name": "stdout",
     "text": [
      "    A   B\n0  A0  B0\n1  A1  B1\n2  A2  B2\n3  A3  B3\n0  A4  B4\n1  A5  B5\n2  A6  B6\n5  A7  B7\n"
     ]
    }
   ],
   "source": [
    "df12_append = df1.append(df2)\n",
    "\n",
    "print(df12_append)"
   ]
  },
  {
   "cell_type": "markdown",
   "metadata": {},
   "source": [
    "## Concatenation with Pandas\n",
    "\n",
    "Like its sibling function on ndarrays, numpy.concatenate, pandas.concat takes a list or dict of homogeneously-typed objects and concatenates them with some configurable handling of “what to do with the other axes\".\n",
    "\n",
    "```python\n",
    "pd.concat(\n",
    "    objs,\n",
    "    axis=0,\n",
    "    join=\"outer\",\n",
    "    ...\n",
    ")\n",
    "```\n",
    "\n",
    "- objs : a sequence or mapping of Series or DataFrame objects.\n",
    "- axis : {0, 1, …}, default 0. The axis to concatenate along.\n",
    "- join : {‘inner’, ‘outer’}, default ‘outer’. How to handle indexes on other axis(es). Outer for union and inner for intersection."
   ]
  },
  {
   "cell_type": "code",
   "execution_count": 54,
   "metadata": {},
   "outputs": [
    {
     "output_type": "stream",
     "name": "stdout",
     "text": [
      "    A   B\n0  A0  B0\n1  A1  B1\n2  A2  B2\n3  A3  B3\n    A   B\n0  A4  B4\n1  A5  B5\n2  A6  B6\n5  A7  B7\n"
     ]
    }
   ],
   "source": [
    "print(df1)\n",
    "print(df2)"
   ]
  },
  {
   "cell_type": "code",
   "execution_count": 55,
   "metadata": {},
   "outputs": [
    {
     "output_type": "stream",
     "name": "stdout",
     "text": [
      "    A   B\n0  A0  B0\n1  A1  B1\n2  A2  B2\n3  A3  B3\n0  A4  B4\n1  A5  B5\n2  A6  B6\n5  A7  B7\n"
     ]
    }
   ],
   "source": [
    "df_concat = pd.concat(\n",
    "    [df1, df2]\n",
    ")\n",
    "\n",
    "print(df_concat)"
   ]
  },
  {
   "cell_type": "code",
   "execution_count": 56,
   "metadata": {},
   "outputs": [
    {
     "output_type": "stream",
     "name": "stdout",
     "text": [
      "    A   B\n0  A0  B0\n1  A1  B1\n2  A2  B2\n3  A3  B3\n0  A4  B4\n1  A5  B5\n2  A6  B6\n5  A7  B7\n"
     ]
    }
   ],
   "source": [
    "df_concat = pd.concat(\n",
    "    [df1, df2],\n",
    "    join=\"inner\"\n",
    ")\n",
    "\n",
    "print(df_concat)"
   ]
  },
  {
   "cell_type": "code",
   "execution_count": 57,
   "metadata": {},
   "outputs": [
    {
     "output_type": "stream",
     "name": "stdout",
     "text": [
      "    A   B   A   B\n0  A0  B0  A4  B4\n1  A1  B1  A5  B5\n2  A2  B2  A6  B6\n"
     ]
    }
   ],
   "source": [
    "df_concat = pd.concat(\n",
    "    [df1, df2],\n",
    "    join=\"inner\",\n",
    "    axis=1\n",
    ")\n",
    "\n",
    "print(df_concat)"
   ]
  },
  {
   "cell_type": "code",
   "execution_count": 58,
   "metadata": {},
   "outputs": [
    {
     "output_type": "stream",
     "name": "stdout",
     "text": [
      "None\n"
     ]
    }
   ],
   "source": [
    "try:\n",
    "    df_concat = pd.concat(\n",
    "        [df1, df2],\n",
    "        join=\"inner\",\n",
    "        verify_integrity=True\n",
    "    )\n",
    "except:\n",
    "    df_concat = None\n",
    "\n",
    "print(df_concat)"
   ]
  },
  {
   "cell_type": "code",
   "execution_count": 59,
   "metadata": {},
   "outputs": [
    {
     "output_type": "stream",
     "name": "stdout",
     "text": [
      "    A   B\n",
      "0  A0  B0\n",
      "1  A1  B1\n",
      "2  A2  B2\n",
      "3  A3  B3\n",
      "4  A4  B4\n",
      "5  A5  B5\n",
      "6  A6  B6\n",
      "7  A7  B7\n"
     ]
    }
   ],
   "source": [
    "df_concat = pd.concat(\n",
    "    [df1, df2],\n",
    "    join=\"inner\",\n",
    "    ignore_index=True\n",
    ")\n",
    "\n",
    "print(df_concat)"
   ]
  },
  {
   "source": [
    "## Merge\n",
    "\n",
    "Pandas provides a single function, merge(), as the entry point for all standard database join operations between DataFrame or named Series objects.\n",
    "\n",
    "```python\n",
    "pd.merge(\n",
    "    left,\n",
    "    right,\n",
    "    how=\"inner\",\n",
    "    on=None,\n",
    "    ...\n",
    ")\n",
    "````\n",
    "\n",
    "- left: A DataFrame or named Series object.\n",
    "- right: Another DataFrame or named Series object.\n",
    "- how{‘left’, ‘right’, ‘outer’, ‘inner’, ‘cross’}\n",
    "    - left: use only keys from left frame\n",
    "    - right: use only keys from right frame\n",
    "    - outer: use union of keys from both frames\n",
    "    - inner: use intersection of keys from both frames\n",
    "    - cross: creates the cartesian product from both frames\n",
    "- on: Column or index level names to join on. Must be found in both the left and right DataFrame and/or Series objects."
   ],
   "cell_type": "markdown",
   "metadata": {}
  },
  {
   "cell_type": "code",
   "execution_count": 60,
   "metadata": {},
   "outputs": [],
   "source": [
    "left = pd.DataFrame(\n",
    "    {\n",
    "        \"key\": [\"K0\", \"K1\", \"K2\"],\n",
    "        \"A\": [\"A0\", \"A1\", \"A2\"]\n",
    "    }\n",
    ")\n",
    "\n",
    "\n",
    "right = pd.DataFrame(\n",
    "    {\n",
    "        \"key\": [\"K0\", \"K1\", \"K2\"],\n",
    "        \"B\": [\"B0\", \"B1\", \"B2\"]\n",
    "    }\n",
    ")"
   ]
  },
  {
   "cell_type": "code",
   "execution_count": 61,
   "metadata": {},
   "outputs": [
    {
     "output_type": "stream",
     "name": "stdout",
     "text": [
      "  key   A\n0  K0  A0\n1  K1  A1\n2  K2  A2\n  key   B\n0  K0  B0\n1  K1  B1\n2  K2  B2\n"
     ]
    }
   ],
   "source": [
    "print(left)\n",
    "print(right)"
   ]
  },
  {
   "cell_type": "code",
   "execution_count": 62,
   "metadata": {},
   "outputs": [
    {
     "output_type": "stream",
     "name": "stdout",
     "text": [
      "  key   A   B\n0  K0  A0  B0\n1  K1  A1  B1\n2  K2  A2  B2\n"
     ]
    }
   ],
   "source": [
    "print(pd.merge(left, right, on=\"key\"))"
   ]
  },
  {
   "cell_type": "code",
   "execution_count": 63,
   "metadata": {},
   "outputs": [],
   "source": [
    "left2 = pd.DataFrame(\n",
    "    {\n",
    "        \"key\": [\"K0\", \"K1\", \"K2\"],\n",
    "        \"A\": [\"A0\", \"A1\", \"A2\"]\n",
    "    }\n",
    ")\n",
    "\n",
    "\n",
    "right2 = pd.DataFrame(\n",
    "    {\n",
    "        \"key\": [\"K0\", \"K1\", \"K3\"],\n",
    "        \"B\": [\"B0\", \"B1\", \"B2\"]\n",
    "    }\n",
    ")"
   ]
  },
  {
   "cell_type": "code",
   "execution_count": 64,
   "metadata": {},
   "outputs": [
    {
     "output_type": "stream",
     "name": "stdout",
     "text": [
      "  key   A\n0  K0  A0\n1  K1  A1\n2  K2  A2\n  key   B\n0  K0  B0\n1  K1  B1\n2  K3  B2\n"
     ]
    }
   ],
   "source": [
    "print(left2)\n",
    "print(right2)"
   ]
  },
  {
   "cell_type": "code",
   "execution_count": 65,
   "metadata": {},
   "outputs": [
    {
     "output_type": "stream",
     "name": "stdout",
     "text": [
      "  key   A   B\n0  K0  A0  B0\n1  K1  A1  B1\n"
     ]
    }
   ],
   "source": [
    "print(pd.merge(left2, right2, on=\"key\"))"
   ]
  },
  {
   "cell_type": "code",
   "execution_count": 66,
   "metadata": {},
   "outputs": [
    {
     "output_type": "stream",
     "name": "stdout",
     "text": [
      "  key    A    B\n0  K0   A0   B0\n1  K1   A1   B1\n2  K2   A2  NaN\n3  K3  NaN   B2\n"
     ]
    }
   ],
   "source": [
    "print(pd.merge(left2, right2, on=\"key\", how=\"outer\"))"
   ]
  },
  {
   "source": [
    "## Join\n",
    "\n",
    "DataFrame.join() is a convenient method for combining the columns of two potentially differently-indexed DataFrames into a single result DataFrame.\n",
    "\n",
    "```python\n",
    "DataFrame.join(\n",
    "    other,\n",
    "    on=None,\n",
    "    how='left',\n",
    "    ...\n",
    ")\n",
    "```\n",
    "\n",
    "- otherDataFrame: Index should be similar to one of the columns in this one.\n",
    "- on: Column or index level name(s)\n",
    "- how{‘left’, ‘right’, ‘outer’, ‘inner’}, default ‘left’\n",
    "    - left: use calling frame’s index\n",
    "    - right: use other’s index.\n",
    "    - outer: form union of calling frame’s index with other’s index\n",
    "    - inner: form intersection of calling frame’s index with other’s index\n",
    "\n",
    "![join](../media/join.png)"
   ],
   "cell_type": "markdown",
   "metadata": {}
  },
  {
   "cell_type": "code",
   "execution_count": 67,
   "metadata": {},
   "outputs": [],
   "source": [
    "left = pd.DataFrame(\n",
    "    {\n",
    "        \"A\": [\"A0\", \"A1\", \"A2\"],\n",
    "    },\n",
    "    index=[\"K0\", \"K1\", \"K2\"]\n",
    ")\n",
    "\n",
    "\n",
    "right = pd.DataFrame(\n",
    "    {\n",
    "        \"B\": [\"B0\", \"B1\", \"B2\"],\n",
    "    },\n",
    "    index=[\"K0\", \"K1\", \"K3\"]\n",
    ")"
   ]
  },
  {
   "cell_type": "code",
   "execution_count": 68,
   "metadata": {},
   "outputs": [
    {
     "output_type": "stream",
     "name": "stdout",
     "text": [
      "     A\nK0  A0\nK1  A1\nK2  A2\n     B\nK0  B0\nK1  B1\nK3  B2\n"
     ]
    }
   ],
   "source": [
    "print(left)\n",
    "print(right)"
   ]
  },
  {
   "cell_type": "code",
   "execution_count": 69,
   "metadata": {},
   "outputs": [
    {
     "output_type": "stream",
     "name": "stdout",
     "text": [
      "      A    B\nK0   A0   B0\nK1   A1   B1\nK2   A2  NaN\nK3  NaN   B2\n"
     ]
    }
   ],
   "source": [
    "print(left.join(right, how=\"outer\"))"
   ]
  },
  {
   "cell_type": "code",
   "execution_count": 70,
   "metadata": {},
   "outputs": [
    {
     "output_type": "stream",
     "name": "stdout",
     "text": [
      "     A   B\nK0  A0  B0\nK1  A1  B1\n"
     ]
    }
   ],
   "source": [
    "print(left.join(right, how=\"inner\"))"
   ]
  },
  {
   "cell_type": "code",
   "execution_count": 71,
   "metadata": {},
   "outputs": [
    {
     "output_type": "stream",
     "name": "stdout",
     "text": [
      "     A    B\nK0  A0   B0\nK1  A1   B1\nK2  A2  NaN\n"
     ]
    }
   ],
   "source": [
    "print(left.join(right, how=\"left\"))"
   ]
  },
  {
   "cell_type": "code",
   "execution_count": 72,
   "metadata": {},
   "outputs": [
    {
     "output_type": "stream",
     "name": "stdout",
     "text": [
      "      A   B\n",
      "K0   A0  B0\n",
      "K1   A1  B1\n",
      "K3  NaN  B2\n"
     ]
    }
   ],
   "source": [
    "print(left.join(right, how=\"right\"))"
   ]
  }
 ],
 "metadata": {
  "anaconda-cloud": {},
  "kernelspec": {
   "name": "python385jvsc74a57bd0423c48e3256333a0e0252f1efeec30283ab6ba0213e3a05c32b0541c29f89950",
   "display_name": "Python 3.8.5 64-bit ('pyUdemy': conda)"
  },
  "language_info": {
   "codemirror_mode": {
    "name": "ipython",
    "version": 3
   },
   "file_extension": ".py",
   "mimetype": "text/x-python",
   "name": "python",
   "nbconvert_exporter": "python",
   "pygments_lexer": "ipython3",
   "version": "3.8.5"
  }
 },
 "nbformat": 4,
 "nbformat_minor": 0
}