{
 "cells": [
  {
   "cell_type": "markdown",
   "metadata": {},
   "source": [
    "# Missing Data\n",
    "\n",
    "NaN is the default missing value marker for reasons of computational speed and convenience.  \n",
    "Pandas will be able to easily detect a NaN value with data of different types: floating point, integer, boolean, and general object."
   ]
  },
  {
   "cell_type": "code",
   "execution_count": 56,
   "metadata": {
    "collapsed": true
   },
   "outputs": [],
   "source": [
    "import numpy as np\n",
    "np.random.seed(0)\n",
    "import pandas as pd"
   ]
  },
  {
   "cell_type": "code",
   "execution_count": 57,
   "metadata": {
    "collapsed": false
   },
   "outputs": [
    {
     "output_type": "stream",
     "name": "stdout",
     "text": [
      "nan\n"
     ]
    }
   ],
   "source": [
    "print(1 + np.nan)"
   ]
  },
  {
   "cell_type": "code",
   "execution_count": 58,
   "metadata": {
    "collapsed": false
   },
   "outputs": [
    {
     "output_type": "stream",
     "name": "stdout",
     "text": [
      "nan\n"
     ]
    }
   ],
   "source": [
    "print(0 *  np.nan)"
   ]
  },
  {
   "cell_type": "code",
   "execution_count": 59,
   "metadata": {},
   "outputs": [
    {
     "output_type": "stream",
     "name": "stdout",
     "text": [
      "True\n"
     ]
    }
   ],
   "source": [
    "print(np.nan != np.nan)"
   ]
  },
  {
   "cell_type": "code",
   "execution_count": 60,
   "metadata": {},
   "outputs": [
    {
     "output_type": "stream",
     "name": "stdout",
     "text": [
      "False\n"
     ]
    }
   ],
   "source": [
    "print(np.nan == np.nan)"
   ]
  },
  {
   "cell_type": "code",
   "execution_count": 61,
   "metadata": {
    "collapsed": false
   },
   "outputs": [
    {
     "output_type": "stream",
     "name": "stdout",
     "text": [
      "[1 None 3 4]\n"
     ]
    }
   ],
   "source": [
    "data = np.array([1, None, 3, 4])\n",
    "\n",
    "print(data)"
   ]
  },
  {
   "cell_type": "code",
   "execution_count": 62,
   "metadata": {},
   "outputs": [
    {
     "output_type": "stream",
     "name": "stdout",
     "text": [
      "[ 1. nan  3.  4.]\n"
     ]
    }
   ],
   "source": [
    "data = np.array([1, np.nan, 3, 4]) \n",
    "\n",
    "print(data)"
   ]
  },
  {
   "cell_type": "code",
   "execution_count": 63,
   "metadata": {
    "collapsed": false
   },
   "outputs": [
    {
     "output_type": "stream",
     "name": "stdout",
     "text": [
      "nan\n"
     ]
    }
   ],
   "source": [
    "print(np.sum(data))"
   ]
  },
  {
   "cell_type": "code",
   "execution_count": 64,
   "metadata": {
    "collapsed": false
   },
   "outputs": [
    {
     "output_type": "stream",
     "name": "stdout",
     "text": [
      "8.0\n"
     ]
    }
   ],
   "source": [
    "print(np.nansum(data))"
   ]
  },
  {
   "cell_type": "code",
   "execution_count": 65,
   "metadata": {
    "collapsed": false
   },
   "outputs": [
    {
     "output_type": "execute_result",
     "data": {
      "text/plain": [
       "0    1.0\n",
       "1    NaN\n",
       "2    2.0\n",
       "3    NaN\n",
       "dtype: float64"
      ]
     },
     "metadata": {},
     "execution_count": 65
    }
   ],
   "source": [
    "pd.Series([1, np.nan, 2, None])"
   ]
  },
  {
   "source": [
    "## Pandas NaN Examples"
   ],
   "cell_type": "markdown",
   "metadata": {}
  },
  {
   "cell_type": "code",
   "execution_count": 66,
   "metadata": {},
   "outputs": [],
   "source": [
    "def highlight_nan(data: pd.DataFrame, color: str) -> pd.DataFrame:\n",
    "    attr = f'background-color: {color}'\n",
    "    is_nan = pd.isna(data)\n",
    "    return pd.DataFrame(\n",
    "        np.where(is_nan, attr, ''),\n",
    "        index=data.index,\n",
    "        columns=data.columns\n",
    "    )\n",
    "\n",
    "def df_info(df: pd.DataFrame) -> None:\n",
    "    return df.style.apply(\n",
    "        highlight_nan,\n",
    "        color='darkorange',\n",
    "        axis=None\n",
    "    )"
   ]
  },
  {
   "cell_type": "code",
   "execution_count": 67,
   "metadata": {
    "collapsed": false
   },
   "outputs": [
    {
     "output_type": "execute_result",
     "data": {
      "text/plain": [
       "<pandas.io.formats.style.Styler at 0x2888a30c430>"
      ],
      "text/html": "<style  type=\"text/css\" >\n</style><table id=\"T_baad3_\" ><thead>    <tr>        <th class=\"blank level0\" ></th>        <th class=\"col_heading level0 col0\" >one</th>        <th class=\"col_heading level0 col1\" >two</th>        <th class=\"col_heading level0 col2\" >three</th>    </tr></thead><tbody>\n                <tr>\n                        <th id=\"T_baad3_level0_row0\" class=\"row_heading level0 row0\" >a</th>\n                        <td id=\"T_baad3_row0_col0\" class=\"data row0 col0\" >1.764052</td>\n                        <td id=\"T_baad3_row0_col1\" class=\"data row0 col1\" >0.400157</td>\n                        <td id=\"T_baad3_row0_col2\" class=\"data row0 col2\" >0.978738</td>\n            </tr>\n            <tr>\n                        <th id=\"T_baad3_level0_row1\" class=\"row_heading level0 row1\" >c</th>\n                        <td id=\"T_baad3_row1_col0\" class=\"data row1 col0\" >2.240893</td>\n                        <td id=\"T_baad3_row1_col1\" class=\"data row1 col1\" >1.867558</td>\n                        <td id=\"T_baad3_row1_col2\" class=\"data row1 col2\" >-0.977278</td>\n            </tr>\n            <tr>\n                        <th id=\"T_baad3_level0_row2\" class=\"row_heading level0 row2\" >e</th>\n                        <td id=\"T_baad3_row2_col0\" class=\"data row2 col0\" >0.950088</td>\n                        <td id=\"T_baad3_row2_col1\" class=\"data row2 col1\" >-0.151357</td>\n                        <td id=\"T_baad3_row2_col2\" class=\"data row2 col2\" >-0.103219</td>\n            </tr>\n            <tr>\n                        <th id=\"T_baad3_level0_row3\" class=\"row_heading level0 row3\" >f</th>\n                        <td id=\"T_baad3_row3_col0\" class=\"data row3 col0\" >0.410599</td>\n                        <td id=\"T_baad3_row3_col1\" class=\"data row3 col1\" >0.144044</td>\n                        <td id=\"T_baad3_row3_col2\" class=\"data row3 col2\" >1.454274</td>\n            </tr>\n            <tr>\n                        <th id=\"T_baad3_level0_row4\" class=\"row_heading level0 row4\" >h</th>\n                        <td id=\"T_baad3_row4_col0\" class=\"data row4 col0\" >0.761038</td>\n                        <td id=\"T_baad3_row4_col1\" class=\"data row4 col1\" >0.121675</td>\n                        <td id=\"T_baad3_row4_col2\" class=\"data row4 col2\" >0.443863</td>\n            </tr>\n    </tbody></table>"
     },
     "metadata": {},
     "execution_count": 67
    }
   ],
   "source": [
    "df = pd.DataFrame(\n",
    "    np.random.randn(5, 3),\n",
    "    index=[\"a\", \"c\", \"e\", \"f\", \"h\"],\n",
    "    columns=[\"one\", \"two\", \"three\"],\n",
    ")\n",
    "\n",
    "df_info(df)"
   ]
  },
  {
   "cell_type": "code",
   "execution_count": 68,
   "metadata": {},
   "outputs": [
    {
     "output_type": "execute_result",
     "data": {
      "text/plain": [
       "<pandas.io.formats.style.Styler at 0x2888a28f3d0>"
      ],
      "text/html": "<style  type=\"text/css\" >\n#T_97f15_row0_col0,#T_97f15_row3_col1{\n            background-color:  darkorange;\n        }</style><table id=\"T_97f15_\" ><thead>    <tr>        <th class=\"blank level0\" ></th>        <th class=\"col_heading level0 col0\" >one</th>        <th class=\"col_heading level0 col1\" >two</th>        <th class=\"col_heading level0 col2\" >three</th>    </tr></thead><tbody>\n                <tr>\n                        <th id=\"T_97f15_level0_row0\" class=\"row_heading level0 row0\" >a</th>\n                        <td id=\"T_97f15_row0_col0\" class=\"data row0 col0\" >nan</td>\n                        <td id=\"T_97f15_row0_col1\" class=\"data row0 col1\" >0.400157</td>\n                        <td id=\"T_97f15_row0_col2\" class=\"data row0 col2\" >0.978738</td>\n            </tr>\n            <tr>\n                        <th id=\"T_97f15_level0_row1\" class=\"row_heading level0 row1\" >c</th>\n                        <td id=\"T_97f15_row1_col0\" class=\"data row1 col0\" >2.240893</td>\n                        <td id=\"T_97f15_row1_col1\" class=\"data row1 col1\" >1.867558</td>\n                        <td id=\"T_97f15_row1_col2\" class=\"data row1 col2\" >-0.977278</td>\n            </tr>\n            <tr>\n                        <th id=\"T_97f15_level0_row2\" class=\"row_heading level0 row2\" >e</th>\n                        <td id=\"T_97f15_row2_col0\" class=\"data row2 col0\" >0.950088</td>\n                        <td id=\"T_97f15_row2_col1\" class=\"data row2 col1\" >-0.151357</td>\n                        <td id=\"T_97f15_row2_col2\" class=\"data row2 col2\" >-0.103219</td>\n            </tr>\n            <tr>\n                        <th id=\"T_97f15_level0_row3\" class=\"row_heading level0 row3\" >f</th>\n                        <td id=\"T_97f15_row3_col0\" class=\"data row3 col0\" >0.410599</td>\n                        <td id=\"T_97f15_row3_col1\" class=\"data row3 col1\" >nan</td>\n                        <td id=\"T_97f15_row3_col2\" class=\"data row3 col2\" >1.454274</td>\n            </tr>\n            <tr>\n                        <th id=\"T_97f15_level0_row4\" class=\"row_heading level0 row4\" >h</th>\n                        <td id=\"T_97f15_row4_col0\" class=\"data row4 col0\" >0.761038</td>\n                        <td id=\"T_97f15_row4_col1\" class=\"data row4 col1\" >0.121675</td>\n                        <td id=\"T_97f15_row4_col2\" class=\"data row4 col2\" >0.443863</td>\n            </tr>\n    </tbody></table>"
     },
     "metadata": {},
     "execution_count": 68
    }
   ],
   "source": [
    "df[\"one\"][\"a\"] = None\n",
    "df[\"two\"][\"f\"] = None\n",
    "\n",
    "df_info(df)"
   ]
  },
  {
   "cell_type": "code",
   "execution_count": 69,
   "metadata": {},
   "outputs": [
    {
     "output_type": "execute_result",
     "data": {
      "text/plain": [
       "<pandas.io.formats.style.Styler at 0x2888a2d1be0>"
      ],
      "text/html": "<style  type=\"text/css\" >\n</style><table id=\"T_edf92_\" ><thead>    <tr>        <th class=\"blank level0\" ></th>        <th class=\"col_heading level0 col0\" >one</th>        <th class=\"col_heading level0 col1\" >two</th>        <th class=\"col_heading level0 col2\" >three</th>    </tr></thead><tbody>\n                <tr>\n                        <th id=\"T_edf92_level0_row0\" class=\"row_heading level0 row0\" >a</th>\n                        <td id=\"T_edf92_row0_col0\" class=\"data row0 col0\" >True</td>\n                        <td id=\"T_edf92_row0_col1\" class=\"data row0 col1\" >False</td>\n                        <td id=\"T_edf92_row0_col2\" class=\"data row0 col2\" >False</td>\n            </tr>\n            <tr>\n                        <th id=\"T_edf92_level0_row1\" class=\"row_heading level0 row1\" >c</th>\n                        <td id=\"T_edf92_row1_col0\" class=\"data row1 col0\" >False</td>\n                        <td id=\"T_edf92_row1_col1\" class=\"data row1 col1\" >False</td>\n                        <td id=\"T_edf92_row1_col2\" class=\"data row1 col2\" >False</td>\n            </tr>\n            <tr>\n                        <th id=\"T_edf92_level0_row2\" class=\"row_heading level0 row2\" >e</th>\n                        <td id=\"T_edf92_row2_col0\" class=\"data row2 col0\" >False</td>\n                        <td id=\"T_edf92_row2_col1\" class=\"data row2 col1\" >False</td>\n                        <td id=\"T_edf92_row2_col2\" class=\"data row2 col2\" >False</td>\n            </tr>\n            <tr>\n                        <th id=\"T_edf92_level0_row3\" class=\"row_heading level0 row3\" >f</th>\n                        <td id=\"T_edf92_row3_col0\" class=\"data row3 col0\" >False</td>\n                        <td id=\"T_edf92_row3_col1\" class=\"data row3 col1\" >True</td>\n                        <td id=\"T_edf92_row3_col2\" class=\"data row3 col2\" >False</td>\n            </tr>\n            <tr>\n                        <th id=\"T_edf92_level0_row4\" class=\"row_heading level0 row4\" >h</th>\n                        <td id=\"T_edf92_row4_col0\" class=\"data row4 col0\" >False</td>\n                        <td id=\"T_edf92_row4_col1\" class=\"data row4 col1\" >False</td>\n                        <td id=\"T_edf92_row4_col2\" class=\"data row4 col2\" >False</td>\n            </tr>\n    </tbody></table>"
     },
     "metadata": {},
     "execution_count": 69
    }
   ],
   "source": [
    "df_info(pd.isna(df))"
   ]
  },
  {
   "cell_type": "code",
   "execution_count": 70,
   "metadata": {},
   "outputs": [
    {
     "output_type": "execute_result",
     "data": {
      "text/plain": [
       "a     True\n",
       "c    False\n",
       "e    False\n",
       "f     True\n",
       "h    False\n",
       "dtype: bool"
      ]
     },
     "metadata": {},
     "execution_count": 70
    }
   ],
   "source": [
    "df_check = pd.isna(df)\n",
    "\n",
    "df_check.any(axis=1)"
   ]
  },
  {
   "source": [
    "#### Remove NaN Values"
   ],
   "cell_type": "markdown",
   "metadata": {}
  },
  {
   "cell_type": "code",
   "execution_count": 71,
   "metadata": {
    "collapsed": false
   },
   "outputs": [
    {
     "output_type": "execute_result",
     "data": {
      "text/plain": [
       "<pandas.io.formats.style.Styler at 0x2888a293ee0>"
      ],
      "text/html": "<style  type=\"text/css\" >\n</style><table id=\"T_9cae4_\" ><thead>    <tr>        <th class=\"blank level0\" ></th>        <th class=\"col_heading level0 col0\" >one</th>        <th class=\"col_heading level0 col1\" >two</th>        <th class=\"col_heading level0 col2\" >three</th>    </tr></thead><tbody>\n                <tr>\n                        <th id=\"T_9cae4_level0_row0\" class=\"row_heading level0 row0\" >c</th>\n                        <td id=\"T_9cae4_row0_col0\" class=\"data row0 col0\" >2.240893</td>\n                        <td id=\"T_9cae4_row0_col1\" class=\"data row0 col1\" >1.867558</td>\n                        <td id=\"T_9cae4_row0_col2\" class=\"data row0 col2\" >-0.977278</td>\n            </tr>\n            <tr>\n                        <th id=\"T_9cae4_level0_row1\" class=\"row_heading level0 row1\" >e</th>\n                        <td id=\"T_9cae4_row1_col0\" class=\"data row1 col0\" >0.950088</td>\n                        <td id=\"T_9cae4_row1_col1\" class=\"data row1 col1\" >-0.151357</td>\n                        <td id=\"T_9cae4_row1_col2\" class=\"data row1 col2\" >-0.103219</td>\n            </tr>\n            <tr>\n                        <th id=\"T_9cae4_level0_row2\" class=\"row_heading level0 row2\" >h</th>\n                        <td id=\"T_9cae4_row2_col0\" class=\"data row2 col0\" >0.761038</td>\n                        <td id=\"T_9cae4_row2_col1\" class=\"data row2 col1\" >0.121675</td>\n                        <td id=\"T_9cae4_row2_col2\" class=\"data row2 col2\" >0.443863</td>\n            </tr>\n    </tbody></table>"
     },
     "metadata": {},
     "execution_count": 71
    }
   ],
   "source": [
    "df_info(df.dropna())"
   ]
  },
  {
   "cell_type": "code",
   "execution_count": 72,
   "metadata": {
    "collapsed": false
   },
   "outputs": [
    {
     "output_type": "execute_result",
     "data": {
      "text/plain": [
       "<pandas.io.formats.style.Styler at 0x2888a31c9a0>"
      ],
      "text/html": "<style  type=\"text/css\" >\n</style><table id=\"T_97430_\" ><thead>    <tr>        <th class=\"blank level0\" ></th>        <th class=\"col_heading level0 col0\" >three</th>    </tr></thead><tbody>\n                <tr>\n                        <th id=\"T_97430_level0_row0\" class=\"row_heading level0 row0\" >a</th>\n                        <td id=\"T_97430_row0_col0\" class=\"data row0 col0\" >0.978738</td>\n            </tr>\n            <tr>\n                        <th id=\"T_97430_level0_row1\" class=\"row_heading level0 row1\" >c</th>\n                        <td id=\"T_97430_row1_col0\" class=\"data row1 col0\" >-0.977278</td>\n            </tr>\n            <tr>\n                        <th id=\"T_97430_level0_row2\" class=\"row_heading level0 row2\" >e</th>\n                        <td id=\"T_97430_row2_col0\" class=\"data row2 col0\" >-0.103219</td>\n            </tr>\n            <tr>\n                        <th id=\"T_97430_level0_row3\" class=\"row_heading level0 row3\" >f</th>\n                        <td id=\"T_97430_row3_col0\" class=\"data row3 col0\" >1.454274</td>\n            </tr>\n            <tr>\n                        <th id=\"T_97430_level0_row4\" class=\"row_heading level0 row4\" >h</th>\n                        <td id=\"T_97430_row4_col0\" class=\"data row4 col0\" >0.443863</td>\n            </tr>\n    </tbody></table>"
     },
     "metadata": {},
     "execution_count": 72
    }
   ],
   "source": [
    "df_info(df.dropna(axis='columns'))"
   ]
  },
  {
   "cell_type": "code",
   "execution_count": 73,
   "metadata": {},
   "outputs": [
    {
     "output_type": "execute_result",
     "data": {
      "text/plain": [
       "<pandas.io.formats.style.Styler at 0x2888a31cfd0>"
      ],
      "text/html": "<style  type=\"text/css\" >\n</style><table id=\"T_89a9a_\" ><thead>    <tr>        <th class=\"blank level0\" ></th>        <th class=\"col_heading level0 col0\" >one</th>        <th class=\"col_heading level0 col1\" >two</th>        <th class=\"col_heading level0 col2\" >three</th>    </tr></thead><tbody>\n                <tr>\n                        <th id=\"T_89a9a_level0_row0\" class=\"row_heading level0 row0\" >c</th>\n                        <td id=\"T_89a9a_row0_col0\" class=\"data row0 col0\" >2.240893</td>\n                        <td id=\"T_89a9a_row0_col1\" class=\"data row0 col1\" >1.867558</td>\n                        <td id=\"T_89a9a_row0_col2\" class=\"data row0 col2\" >-0.977278</td>\n            </tr>\n            <tr>\n                        <th id=\"T_89a9a_level0_row1\" class=\"row_heading level0 row1\" >e</th>\n                        <td id=\"T_89a9a_row1_col0\" class=\"data row1 col0\" >0.950088</td>\n                        <td id=\"T_89a9a_row1_col1\" class=\"data row1 col1\" >-0.151357</td>\n                        <td id=\"T_89a9a_row1_col2\" class=\"data row1 col2\" >-0.103219</td>\n            </tr>\n            <tr>\n                        <th id=\"T_89a9a_level0_row2\" class=\"row_heading level0 row2\" >h</th>\n                        <td id=\"T_89a9a_row2_col0\" class=\"data row2 col0\" >0.761038</td>\n                        <td id=\"T_89a9a_row2_col1\" class=\"data row2 col1\" >0.121675</td>\n                        <td id=\"T_89a9a_row2_col2\" class=\"data row2 col2\" >0.443863</td>\n            </tr>\n    </tbody></table>"
     },
     "metadata": {},
     "execution_count": 73
    }
   ],
   "source": [
    "df_info(df.dropna(axis='rows'))"
   ]
  },
  {
   "source": [
    "Operations with NaN Values\n",
    "\n",
    "- When summing data, NA (missing) values will be treated as zero.\n",
    "- If the data are all NA, the result will be 0.\n",
    "- Cumulative methods like cumsum() and cumprod() ignore NA values by default, but preserve them in the resulting arrays. To override this behaviour and include NA values, use skipna=False."
   ],
   "cell_type": "markdown",
   "metadata": {}
  },
  {
   "cell_type": "code",
   "execution_count": 74,
   "metadata": {},
   "outputs": [
    {
     "output_type": "execute_result",
     "data": {
      "text/plain": [
       "<pandas.io.formats.style.Styler at 0x2888a31cdc0>"
      ],
      "text/html": "<style  type=\"text/css\" >\n#T_96031_row0_col0,#T_96031_row3_col1{\n            background-color:  darkorange;\n        }</style><table id=\"T_96031_\" ><thead>    <tr>        <th class=\"blank level0\" ></th>        <th class=\"col_heading level0 col0\" >one</th>        <th class=\"col_heading level0 col1\" >two</th>        <th class=\"col_heading level0 col2\" >three</th>    </tr></thead><tbody>\n                <tr>\n                        <th id=\"T_96031_level0_row0\" class=\"row_heading level0 row0\" >a</th>\n                        <td id=\"T_96031_row0_col0\" class=\"data row0 col0\" >nan</td>\n                        <td id=\"T_96031_row0_col1\" class=\"data row0 col1\" >0.400157</td>\n                        <td id=\"T_96031_row0_col2\" class=\"data row0 col2\" >0.978738</td>\n            </tr>\n            <tr>\n                        <th id=\"T_96031_level0_row1\" class=\"row_heading level0 row1\" >c</th>\n                        <td id=\"T_96031_row1_col0\" class=\"data row1 col0\" >2.240893</td>\n                        <td id=\"T_96031_row1_col1\" class=\"data row1 col1\" >1.867558</td>\n                        <td id=\"T_96031_row1_col2\" class=\"data row1 col2\" >-0.977278</td>\n            </tr>\n            <tr>\n                        <th id=\"T_96031_level0_row2\" class=\"row_heading level0 row2\" >e</th>\n                        <td id=\"T_96031_row2_col0\" class=\"data row2 col0\" >0.950088</td>\n                        <td id=\"T_96031_row2_col1\" class=\"data row2 col1\" >-0.151357</td>\n                        <td id=\"T_96031_row2_col2\" class=\"data row2 col2\" >-0.103219</td>\n            </tr>\n            <tr>\n                        <th id=\"T_96031_level0_row3\" class=\"row_heading level0 row3\" >f</th>\n                        <td id=\"T_96031_row3_col0\" class=\"data row3 col0\" >0.410599</td>\n                        <td id=\"T_96031_row3_col1\" class=\"data row3 col1\" >nan</td>\n                        <td id=\"T_96031_row3_col2\" class=\"data row3 col2\" >1.454274</td>\n            </tr>\n            <tr>\n                        <th id=\"T_96031_level0_row4\" class=\"row_heading level0 row4\" >h</th>\n                        <td id=\"T_96031_row4_col0\" class=\"data row4 col0\" >0.761038</td>\n                        <td id=\"T_96031_row4_col1\" class=\"data row4 col1\" >0.121675</td>\n                        <td id=\"T_96031_row4_col2\" class=\"data row4 col2\" >0.443863</td>\n            </tr>\n    </tbody></table>"
     },
     "metadata": {},
     "execution_count": 74
    }
   ],
   "source": [
    "df_info(df)"
   ]
  },
  {
   "cell_type": "code",
   "execution_count": 75,
   "metadata": {},
   "outputs": [
    {
     "output_type": "stream",
     "name": "stdout",
     "text": [
      "2.238033006712321\n"
     ]
    }
   ],
   "source": [
    "print(df[\"two\"].sum())"
   ]
  },
  {
   "cell_type": "code",
   "execution_count": 76,
   "metadata": {},
   "outputs": [
    {
     "output_type": "stream",
     "name": "stdout",
     "text": [
      "one      4.362618\ntwo      2.238033\nthree    1.796378\ndtype: float64\n"
     ]
    }
   ],
   "source": [
    "print(df.sum())"
   ]
  },
  {
   "source": [
    "#### Fill NaN values"
   ],
   "cell_type": "markdown",
   "metadata": {}
  },
  {
   "cell_type": "code",
   "execution_count": 77,
   "metadata": {},
   "outputs": [
    {
     "output_type": "execute_result",
     "data": {
      "text/plain": [
       "<pandas.io.formats.style.Styler at 0x2888a31cd00>"
      ],
      "text/html": "<style  type=\"text/css\" >\n</style><table id=\"T_d03f5_\" ><thead>    <tr>        <th class=\"blank level0\" ></th>        <th class=\"col_heading level0 col0\" >one</th>        <th class=\"col_heading level0 col1\" >two</th>        <th class=\"col_heading level0 col2\" >three</th>    </tr></thead><tbody>\n                <tr>\n                        <th id=\"T_d03f5_level0_row0\" class=\"row_heading level0 row0\" >a</th>\n                        <td id=\"T_d03f5_row0_col0\" class=\"data row0 col0\" >0.000000</td>\n                        <td id=\"T_d03f5_row0_col1\" class=\"data row0 col1\" >0.400157</td>\n                        <td id=\"T_d03f5_row0_col2\" class=\"data row0 col2\" >0.978738</td>\n            </tr>\n            <tr>\n                        <th id=\"T_d03f5_level0_row1\" class=\"row_heading level0 row1\" >c</th>\n                        <td id=\"T_d03f5_row1_col0\" class=\"data row1 col0\" >2.240893</td>\n                        <td id=\"T_d03f5_row1_col1\" class=\"data row1 col1\" >1.867558</td>\n                        <td id=\"T_d03f5_row1_col2\" class=\"data row1 col2\" >-0.977278</td>\n            </tr>\n            <tr>\n                        <th id=\"T_d03f5_level0_row2\" class=\"row_heading level0 row2\" >e</th>\n                        <td id=\"T_d03f5_row2_col0\" class=\"data row2 col0\" >0.950088</td>\n                        <td id=\"T_d03f5_row2_col1\" class=\"data row2 col1\" >-0.151357</td>\n                        <td id=\"T_d03f5_row2_col2\" class=\"data row2 col2\" >-0.103219</td>\n            </tr>\n            <tr>\n                        <th id=\"T_d03f5_level0_row3\" class=\"row_heading level0 row3\" >f</th>\n                        <td id=\"T_d03f5_row3_col0\" class=\"data row3 col0\" >0.410599</td>\n                        <td id=\"T_d03f5_row3_col1\" class=\"data row3 col1\" >0.000000</td>\n                        <td id=\"T_d03f5_row3_col2\" class=\"data row3 col2\" >1.454274</td>\n            </tr>\n            <tr>\n                        <th id=\"T_d03f5_level0_row4\" class=\"row_heading level0 row4\" >h</th>\n                        <td id=\"T_d03f5_row4_col0\" class=\"data row4 col0\" >0.761038</td>\n                        <td id=\"T_d03f5_row4_col1\" class=\"data row4 col1\" >0.121675</td>\n                        <td id=\"T_d03f5_row4_col2\" class=\"data row4 col2\" >0.443863</td>\n            </tr>\n    </tbody></table>"
     },
     "metadata": {},
     "execution_count": 77
    }
   ],
   "source": [
    "df_info(df.fillna(value=0.0))"
   ]
  },
  {
   "cell_type": "code",
   "execution_count": 78,
   "metadata": {},
   "outputs": [
    {
     "output_type": "execute_result",
     "data": {
      "text/plain": [
       "<pandas.io.formats.style.Styler at 0x2888a31cc70>"
      ],
      "text/html": "<style  type=\"text/css\" >\n</style><table id=\"T_f9ea8_\" ><thead>    <tr>        <th class=\"blank level0\" ></th>        <th class=\"col_heading level0 col0\" >one</th>        <th class=\"col_heading level0 col1\" >two</th>        <th class=\"col_heading level0 col2\" >three</th>    </tr></thead><tbody>\n                <tr>\n                        <th id=\"T_f9ea8_level0_row0\" class=\"row_heading level0 row0\" >a</th>\n                        <td id=\"T_f9ea8_row0_col0\" class=\"data row0 col0\" >missing</td>\n                        <td id=\"T_f9ea8_row0_col1\" class=\"data row0 col1\" >0.400157</td>\n                        <td id=\"T_f9ea8_row0_col2\" class=\"data row0 col2\" >0.978738</td>\n            </tr>\n            <tr>\n                        <th id=\"T_f9ea8_level0_row1\" class=\"row_heading level0 row1\" >c</th>\n                        <td id=\"T_f9ea8_row1_col0\" class=\"data row1 col0\" >2.240893</td>\n                        <td id=\"T_f9ea8_row1_col1\" class=\"data row1 col1\" >1.867558</td>\n                        <td id=\"T_f9ea8_row1_col2\" class=\"data row1 col2\" >-0.977278</td>\n            </tr>\n            <tr>\n                        <th id=\"T_f9ea8_level0_row2\" class=\"row_heading level0 row2\" >e</th>\n                        <td id=\"T_f9ea8_row2_col0\" class=\"data row2 col0\" >0.950088</td>\n                        <td id=\"T_f9ea8_row2_col1\" class=\"data row2 col1\" >-0.151357</td>\n                        <td id=\"T_f9ea8_row2_col2\" class=\"data row2 col2\" >-0.103219</td>\n            </tr>\n            <tr>\n                        <th id=\"T_f9ea8_level0_row3\" class=\"row_heading level0 row3\" >f</th>\n                        <td id=\"T_f9ea8_row3_col0\" class=\"data row3 col0\" >0.410599</td>\n                        <td id=\"T_f9ea8_row3_col1\" class=\"data row3 col1\" >missing</td>\n                        <td id=\"T_f9ea8_row3_col2\" class=\"data row3 col2\" >1.454274</td>\n            </tr>\n            <tr>\n                        <th id=\"T_f9ea8_level0_row4\" class=\"row_heading level0 row4\" >h</th>\n                        <td id=\"T_f9ea8_row4_col0\" class=\"data row4 col0\" >0.761038</td>\n                        <td id=\"T_f9ea8_row4_col1\" class=\"data row4 col1\" >0.121675</td>\n                        <td id=\"T_f9ea8_row4_col2\" class=\"data row4 col2\" >0.443863</td>\n            </tr>\n    </tbody></table>"
     },
     "metadata": {},
     "execution_count": 78
    }
   ],
   "source": [
    "df_info(df.fillna(\"missing\"))"
   ]
  },
  {
   "source": [
    "#### Interpolate"
   ],
   "cell_type": "markdown",
   "metadata": {}
  },
  {
   "cell_type": "code",
   "execution_count": 79,
   "metadata": {},
   "outputs": [
    {
     "output_type": "execute_result",
     "data": {
      "text/plain": [
       "<pandas.io.formats.style.Styler at 0x2888a30c610>"
      ],
      "text/html": "<style  type=\"text/css\" >\n#T_1a3d9_row2_col0,#T_1a3d9_row6_col0{\n            background-color:  darkorange;\n        }</style><table id=\"T_1a3d9_\" ><thead>    <tr>        <th class=\"blank level0\" ></th>        <th class=\"col_heading level0 col0\" >0</th>    </tr></thead><tbody>\n                <tr>\n                        <th id=\"T_1a3d9_level0_row0\" class=\"row_heading level0 row0\" >2021-04-21 00:00:00</th>\n                        <td id=\"T_1a3d9_row0_col0\" class=\"data row0 col0\" >-4.105980</td>\n            </tr>\n            <tr>\n                        <th id=\"T_1a3d9_level0_row1\" class=\"row_heading level0 row1\" >2021-04-22 00:00:00</th>\n                        <td id=\"T_1a3d9_row1_col0\" class=\"data row1 col0\" >-0.708191</td>\n            </tr>\n            <tr>\n                        <th id=\"T_1a3d9_level0_row2\" class=\"row_heading level0 row2\" >2021-04-23 00:00:00</th>\n                        <td id=\"T_1a3d9_row2_col0\" class=\"data row2 col0\" >nan</td>\n            </tr>\n            <tr>\n                        <th id=\"T_1a3d9_level0_row3\" class=\"row_heading level0 row3\" >2021-04-24 00:00:00</th>\n                        <td id=\"T_1a3d9_row3_col0\" class=\"data row3 col0\" >0.589683</td>\n            </tr>\n            <tr>\n                        <th id=\"T_1a3d9_level0_row4\" class=\"row_heading level0 row4\" >2021-04-25 00:00:00</th>\n                        <td id=\"T_1a3d9_row4_col0\" class=\"data row4 col0\" >1.626135</td>\n            </tr>\n            <tr>\n                        <th id=\"T_1a3d9_level0_row5\" class=\"row_heading level0 row5\" >2021-04-26 00:00:00</th>\n                        <td id=\"T_1a3d9_row5_col0\" class=\"data row5 col0\" >1.667349</td>\n            </tr>\n            <tr>\n                        <th id=\"T_1a3d9_level0_row6\" class=\"row_heading level0 row6\" >2021-04-27 00:00:00</th>\n                        <td id=\"T_1a3d9_row6_col0\" class=\"data row6 col0\" >nan</td>\n            </tr>\n            <tr>\n                        <th id=\"T_1a3d9_level0_row7\" class=\"row_heading level0 row7\" >2021-04-28 00:00:00</th>\n                        <td id=\"T_1a3d9_row7_col0\" class=\"data row7 col0\" >2.728872</td>\n            </tr>\n            <tr>\n                        <th id=\"T_1a3d9_level0_row8\" class=\"row_heading level0 row8\" >2021-04-29 00:00:00</th>\n                        <td id=\"T_1a3d9_row8_col0\" class=\"data row8 col0\" >3.988158</td>\n            </tr>\n            <tr>\n                        <th id=\"T_1a3d9_level0_row9\" class=\"row_heading level0 row9\" >2021-04-30 00:00:00</th>\n                        <td id=\"T_1a3d9_row9_col0\" class=\"data row9 col0\" >5.539509</td>\n            </tr>\n    </tbody></table>"
     },
     "metadata": {},
     "execution_count": 79
    }
   ],
   "source": [
    "num_samples = 10\n",
    "\n",
    "index = pd.date_range(\n",
    "    \"21/4/2021\",\n",
    "    periods=num_samples\n",
    ")\n",
    "\n",
    "values = 2 * np.sort(np.random.randn(num_samples)) + 1\n",
    "df = pd.DataFrame(values, index)\n",
    "df.iloc[2] = None\n",
    "df.iloc[6] = None\n",
    "\n",
    "df_info(df)"
   ]
  },
  {
   "cell_type": "code",
   "execution_count": 80,
   "metadata": {},
   "outputs": [
    {
     "output_type": "display_data",
     "data": {
      "text/plain": "<Figure size 432x288 with 1 Axes>",
      "image/svg+xml": "<?xml version=\"1.0\" encoding=\"utf-8\" standalone=\"no\"?>\r\n<!DOCTYPE svg PUBLIC \"-//W3C//DTD SVG 1.1//EN\"\r\n  \"http://www.w3.org/Graphics/SVG/1.1/DTD/svg11.dtd\">\r\n<svg height=\"274.266538pt\" version=\"1.1\" viewBox=\"0 0 377.304687 274.266538\" width=\"377.304687pt\" xmlns=\"http://www.w3.org/2000/svg\" xmlns:xlink=\"http://www.w3.org/1999/xlink\">\r\n <metadata>\r\n  <rdf:RDF xmlns:cc=\"http://creativecommons.org/ns#\" xmlns:dc=\"http://purl.org/dc/elements/1.1/\" xmlns:rdf=\"http://www.w3.org/1999/02/22-rdf-syntax-ns#\">\r\n   <cc:Work>\r\n    <dc:type rdf:resource=\"http://purl.org/dc/dcmitype/StillImage\"/>\r\n    <dc:date>2021-05-02T10:55:04.359058</dc:date>\r\n    <dc:format>image/svg+xml</dc:format>\r\n    <dc:creator>\r\n     <cc:Agent>\r\n      <dc:title>Matplotlib v3.4.1, https://matplotlib.org/</dc:title>\r\n     </cc:Agent>\r\n    </dc:creator>\r\n   </cc:Work>\r\n  </rdf:RDF>\r\n </metadata>\r\n <defs>\r\n  <style type=\"text/css\">*{stroke-linecap:butt;stroke-linejoin:round;}</style>\r\n </defs>\r\n <g id=\"figure_1\">\r\n  <g id=\"patch_1\">\r\n   <path d=\"M 0 274.266538 \r\nL 377.304687 274.266538 \r\nL 377.304687 0 \r\nL 0 0 \r\nz\r\n\" style=\"fill:none;\"/>\r\n  </g>\r\n  <g id=\"axes_1\">\r\n   <g id=\"patch_2\">\r\n    <path d=\"M 28.942188 227.992788 \r\nL 363.742188 227.992788 \r\nL 363.742188 10.552788 \r\nL 28.942188 10.552788 \r\nz\r\n\" style=\"fill:#ffffff;\"/>\r\n   </g>\r\n   <g id=\"matplotlib.axis_1\">\r\n    <g id=\"xtick_1\">\r\n     <g id=\"line2d_1\">\r\n      <defs>\r\n       <path d=\"M 0 0 \r\nL 0 3.5 \r\n\" id=\"mdbffa253ca\" style=\"stroke:#000000;stroke-width:0.8;\"/>\r\n      </defs>\r\n      <g>\r\n       <use style=\"stroke:#000000;stroke-width:0.8;\" x=\"28.942187\" xlink:href=\"#mdbffa253ca\" y=\"227.992788\"/>\r\n      </g>\r\n     </g>\r\n     <g id=\"text_1\">\r\n      <!-- 21 -->\r\n      <g transform=\"translate(22.579687 242.591226)scale(0.1 -0.1)\">\r\n       <defs>\r\n        <path d=\"M 1228 531 \r\nL 3431 531 \r\nL 3431 0 \r\nL 469 0 \r\nL 469 531 \r\nQ 828 903 1448 1529 \r\nQ 2069 2156 2228 2338 \r\nQ 2531 2678 2651 2914 \r\nQ 2772 3150 2772 3378 \r\nQ 2772 3750 2511 3984 \r\nQ 2250 4219 1831 4219 \r\nQ 1534 4219 1204 4116 \r\nQ 875 4013 500 3803 \r\nL 500 4441 \r\nQ 881 4594 1212 4672 \r\nQ 1544 4750 1819 4750 \r\nQ 2544 4750 2975 4387 \r\nQ 3406 4025 3406 3419 \r\nQ 3406 3131 3298 2873 \r\nQ 3191 2616 2906 2266 \r\nQ 2828 2175 2409 1742 \r\nQ 1991 1309 1228 531 \r\nz\r\n\" id=\"DejaVuSans-32\" transform=\"scale(0.015625)\"/>\r\n        <path d=\"M 794 531 \r\nL 1825 531 \r\nL 1825 4091 \r\nL 703 3866 \r\nL 703 4441 \r\nL 1819 4666 \r\nL 2450 4666 \r\nL 2450 531 \r\nL 3481 531 \r\nL 3481 0 \r\nL 794 0 \r\nL 794 531 \r\nz\r\n\" id=\"DejaVuSans-31\" transform=\"scale(0.015625)\"/>\r\n       </defs>\r\n       <use xlink:href=\"#DejaVuSans-32\"/>\r\n       <use x=\"63.623047\" xlink:href=\"#DejaVuSans-31\"/>\r\n      </g>\r\n      <!-- Apr -->\r\n      <g transform=\"translate(20.292187 253.789038)scale(0.1 -0.1)\">\r\n       <defs>\r\n        <path d=\"M 2188 4044 \r\nL 1331 1722 \r\nL 3047 1722 \r\nL 2188 4044 \r\nz\r\nM 1831 4666 \r\nL 2547 4666 \r\nL 4325 0 \r\nL 3669 0 \r\nL 3244 1197 \r\nL 1141 1197 \r\nL 716 0 \r\nL 50 0 \r\nL 1831 4666 \r\nz\r\n\" id=\"DejaVuSans-41\" transform=\"scale(0.015625)\"/>\r\n        <path d=\"M 1159 525 \r\nL 1159 -1331 \r\nL 581 -1331 \r\nL 581 3500 \r\nL 1159 3500 \r\nL 1159 2969 \r\nQ 1341 3281 1617 3432 \r\nQ 1894 3584 2278 3584 \r\nQ 2916 3584 3314 3078 \r\nQ 3713 2572 3713 1747 \r\nQ 3713 922 3314 415 \r\nQ 2916 -91 2278 -91 \r\nQ 1894 -91 1617 61 \r\nQ 1341 213 1159 525 \r\nz\r\nM 3116 1747 \r\nQ 3116 2381 2855 2742 \r\nQ 2594 3103 2138 3103 \r\nQ 1681 3103 1420 2742 \r\nQ 1159 2381 1159 1747 \r\nQ 1159 1113 1420 752 \r\nQ 1681 391 2138 391 \r\nQ 2594 391 2855 752 \r\nQ 3116 1113 3116 1747 \r\nz\r\n\" id=\"DejaVuSans-70\" transform=\"scale(0.015625)\"/>\r\n        <path d=\"M 2631 2963 \r\nQ 2534 3019 2420 3045 \r\nQ 2306 3072 2169 3072 \r\nQ 1681 3072 1420 2755 \r\nQ 1159 2438 1159 1844 \r\nL 1159 0 \r\nL 581 0 \r\nL 581 3500 \r\nL 1159 3500 \r\nL 1159 2956 \r\nQ 1341 3275 1631 3429 \r\nQ 1922 3584 2338 3584 \r\nQ 2397 3584 2469 3576 \r\nQ 2541 3569 2628 3553 \r\nL 2631 2963 \r\nz\r\n\" id=\"DejaVuSans-72\" transform=\"scale(0.015625)\"/>\r\n       </defs>\r\n       <use xlink:href=\"#DejaVuSans-41\"/>\r\n       <use x=\"68.408203\" xlink:href=\"#DejaVuSans-70\"/>\r\n       <use x=\"131.884766\" xlink:href=\"#DejaVuSans-72\"/>\r\n      </g>\r\n      <!-- 2021 -->\r\n      <g transform=\"translate(16.217187 264.986851)scale(0.1 -0.1)\">\r\n       <defs>\r\n        <path d=\"M 2034 4250 \r\nQ 1547 4250 1301 3770 \r\nQ 1056 3291 1056 2328 \r\nQ 1056 1369 1301 889 \r\nQ 1547 409 2034 409 \r\nQ 2525 409 2770 889 \r\nQ 3016 1369 3016 2328 \r\nQ 3016 3291 2770 3770 \r\nQ 2525 4250 2034 4250 \r\nz\r\nM 2034 4750 \r\nQ 2819 4750 3233 4129 \r\nQ 3647 3509 3647 2328 \r\nQ 3647 1150 3233 529 \r\nQ 2819 -91 2034 -91 \r\nQ 1250 -91 836 529 \r\nQ 422 1150 422 2328 \r\nQ 422 3509 836 4129 \r\nQ 1250 4750 2034 4750 \r\nz\r\n\" id=\"DejaVuSans-30\" transform=\"scale(0.015625)\"/>\r\n       </defs>\r\n       <use xlink:href=\"#DejaVuSans-32\"/>\r\n       <use x=\"63.623047\" xlink:href=\"#DejaVuSans-30\"/>\r\n       <use x=\"127.246094\" xlink:href=\"#DejaVuSans-32\"/>\r\n       <use x=\"190.869141\" xlink:href=\"#DejaVuSans-31\"/>\r\n      </g>\r\n     </g>\r\n    </g>\r\n    <g id=\"xtick_2\">\r\n     <g id=\"line2d_2\">\r\n      <g>\r\n       <use style=\"stroke:#000000;stroke-width:0.8;\" x=\"363.742187\" xlink:href=\"#mdbffa253ca\" y=\"227.992788\"/>\r\n      </g>\r\n     </g>\r\n     <g id=\"text_2\">\r\n      <!-- 30 -->\r\n      <g transform=\"translate(357.379687 242.591226)scale(0.1 -0.1)\">\r\n       <defs>\r\n        <path d=\"M 2597 2516 \r\nQ 3050 2419 3304 2112 \r\nQ 3559 1806 3559 1356 \r\nQ 3559 666 3084 287 \r\nQ 2609 -91 1734 -91 \r\nQ 1441 -91 1130 -33 \r\nQ 819 25 488 141 \r\nL 488 750 \r\nQ 750 597 1062 519 \r\nQ 1375 441 1716 441 \r\nQ 2309 441 2620 675 \r\nQ 2931 909 2931 1356 \r\nQ 2931 1769 2642 2001 \r\nQ 2353 2234 1838 2234 \r\nL 1294 2234 \r\nL 1294 2753 \r\nL 1863 2753 \r\nQ 2328 2753 2575 2939 \r\nQ 2822 3125 2822 3475 \r\nQ 2822 3834 2567 4026 \r\nQ 2313 4219 1838 4219 \r\nQ 1578 4219 1281 4162 \r\nQ 984 4106 628 3988 \r\nL 628 4550 \r\nQ 988 4650 1302 4700 \r\nQ 1616 4750 1894 4750 \r\nQ 2613 4750 3031 4423 \r\nQ 3450 4097 3450 3541 \r\nQ 3450 3153 3228 2886 \r\nQ 3006 2619 2597 2516 \r\nz\r\n\" id=\"DejaVuSans-33\" transform=\"scale(0.015625)\"/>\r\n       </defs>\r\n       <use xlink:href=\"#DejaVuSans-33\"/>\r\n       <use x=\"63.623047\" xlink:href=\"#DejaVuSans-30\"/>\r\n      </g>\r\n     </g>\r\n    </g>\r\n    <g id=\"xtick_3\">\r\n     <g id=\"line2d_3\">\r\n      <defs>\r\n       <path d=\"M 0 0 \r\nL 0 2 \r\n\" id=\"maf1e0658ad\" style=\"stroke:#000000;stroke-width:0.6;\"/>\r\n      </defs>\r\n      <g>\r\n       <use style=\"stroke:#000000;stroke-width:0.6;\" x=\"66.142187\" xlink:href=\"#maf1e0658ad\" y=\"227.992788\"/>\r\n      </g>\r\n     </g>\r\n     <g id=\"text_3\">\r\n      <!-- 22 -->\r\n      <g transform=\"translate(59.779687 240.991226)scale(0.1 -0.1)\">\r\n       <use xlink:href=\"#DejaVuSans-32\"/>\r\n       <use x=\"63.623047\" xlink:href=\"#DejaVuSans-32\"/>\r\n      </g>\r\n     </g>\r\n    </g>\r\n    <g id=\"xtick_4\">\r\n     <g id=\"line2d_4\">\r\n      <g>\r\n       <use style=\"stroke:#000000;stroke-width:0.6;\" x=\"103.342187\" xlink:href=\"#maf1e0658ad\" y=\"227.992788\"/>\r\n      </g>\r\n     </g>\r\n     <g id=\"text_4\">\r\n      <!-- 23 -->\r\n      <g transform=\"translate(96.979687 240.991226)scale(0.1 -0.1)\">\r\n       <use xlink:href=\"#DejaVuSans-32\"/>\r\n       <use x=\"63.623047\" xlink:href=\"#DejaVuSans-33\"/>\r\n      </g>\r\n     </g>\r\n    </g>\r\n    <g id=\"xtick_5\">\r\n     <g id=\"line2d_5\">\r\n      <g>\r\n       <use style=\"stroke:#000000;stroke-width:0.6;\" x=\"140.542187\" xlink:href=\"#maf1e0658ad\" y=\"227.992788\"/>\r\n      </g>\r\n     </g>\r\n     <g id=\"text_5\">\r\n      <!-- 24 -->\r\n      <g transform=\"translate(134.179687 240.991226)scale(0.1 -0.1)\">\r\n       <defs>\r\n        <path d=\"M 2419 4116 \r\nL 825 1625 \r\nL 2419 1625 \r\nL 2419 4116 \r\nz\r\nM 2253 4666 \r\nL 3047 4666 \r\nL 3047 1625 \r\nL 3713 1625 \r\nL 3713 1100 \r\nL 3047 1100 \r\nL 3047 0 \r\nL 2419 0 \r\nL 2419 1100 \r\nL 313 1100 \r\nL 313 1709 \r\nL 2253 4666 \r\nz\r\n\" id=\"DejaVuSans-34\" transform=\"scale(0.015625)\"/>\r\n       </defs>\r\n       <use xlink:href=\"#DejaVuSans-32\"/>\r\n       <use x=\"63.623047\" xlink:href=\"#DejaVuSans-34\"/>\r\n      </g>\r\n     </g>\r\n    </g>\r\n    <g id=\"xtick_6\">\r\n     <g id=\"line2d_6\">\r\n      <g>\r\n       <use style=\"stroke:#000000;stroke-width:0.6;\" x=\"177.742187\" xlink:href=\"#maf1e0658ad\" y=\"227.992788\"/>\r\n      </g>\r\n     </g>\r\n     <g id=\"text_6\">\r\n      <!-- 25 -->\r\n      <g transform=\"translate(171.379687 240.991226)scale(0.1 -0.1)\">\r\n       <defs>\r\n        <path d=\"M 691 4666 \r\nL 3169 4666 \r\nL 3169 4134 \r\nL 1269 4134 \r\nL 1269 2991 \r\nQ 1406 3038 1543 3061 \r\nQ 1681 3084 1819 3084 \r\nQ 2600 3084 3056 2656 \r\nQ 3513 2228 3513 1497 \r\nQ 3513 744 3044 326 \r\nQ 2575 -91 1722 -91 \r\nQ 1428 -91 1123 -41 \r\nQ 819 9 494 109 \r\nL 494 744 \r\nQ 775 591 1075 516 \r\nQ 1375 441 1709 441 \r\nQ 2250 441 2565 725 \r\nQ 2881 1009 2881 1497 \r\nQ 2881 1984 2565 2268 \r\nQ 2250 2553 1709 2553 \r\nQ 1456 2553 1204 2497 \r\nQ 953 2441 691 2322 \r\nL 691 4666 \r\nz\r\n\" id=\"DejaVuSans-35\" transform=\"scale(0.015625)\"/>\r\n       </defs>\r\n       <use xlink:href=\"#DejaVuSans-32\"/>\r\n       <use x=\"63.623047\" xlink:href=\"#DejaVuSans-35\"/>\r\n      </g>\r\n     </g>\r\n    </g>\r\n    <g id=\"xtick_7\">\r\n     <g id=\"line2d_7\">\r\n      <g>\r\n       <use style=\"stroke:#000000;stroke-width:0.6;\" x=\"214.942187\" xlink:href=\"#maf1e0658ad\" y=\"227.992788\"/>\r\n      </g>\r\n     </g>\r\n     <g id=\"text_7\">\r\n      <!-- 26 -->\r\n      <g transform=\"translate(208.579687 240.991226)scale(0.1 -0.1)\">\r\n       <defs>\r\n        <path d=\"M 2113 2584 \r\nQ 1688 2584 1439 2293 \r\nQ 1191 2003 1191 1497 \r\nQ 1191 994 1439 701 \r\nQ 1688 409 2113 409 \r\nQ 2538 409 2786 701 \r\nQ 3034 994 3034 1497 \r\nQ 3034 2003 2786 2293 \r\nQ 2538 2584 2113 2584 \r\nz\r\nM 3366 4563 \r\nL 3366 3988 \r\nQ 3128 4100 2886 4159 \r\nQ 2644 4219 2406 4219 \r\nQ 1781 4219 1451 3797 \r\nQ 1122 3375 1075 2522 \r\nQ 1259 2794 1537 2939 \r\nQ 1816 3084 2150 3084 \r\nQ 2853 3084 3261 2657 \r\nQ 3669 2231 3669 1497 \r\nQ 3669 778 3244 343 \r\nQ 2819 -91 2113 -91 \r\nQ 1303 -91 875 529 \r\nQ 447 1150 447 2328 \r\nQ 447 3434 972 4092 \r\nQ 1497 4750 2381 4750 \r\nQ 2619 4750 2861 4703 \r\nQ 3103 4656 3366 4563 \r\nz\r\n\" id=\"DejaVuSans-36\" transform=\"scale(0.015625)\"/>\r\n       </defs>\r\n       <use xlink:href=\"#DejaVuSans-32\"/>\r\n       <use x=\"63.623047\" xlink:href=\"#DejaVuSans-36\"/>\r\n      </g>\r\n     </g>\r\n    </g>\r\n    <g id=\"xtick_8\">\r\n     <g id=\"line2d_8\">\r\n      <g>\r\n       <use style=\"stroke:#000000;stroke-width:0.6;\" x=\"252.142187\" xlink:href=\"#maf1e0658ad\" y=\"227.992788\"/>\r\n      </g>\r\n     </g>\r\n     <g id=\"text_8\">\r\n      <!-- 27 -->\r\n      <g transform=\"translate(245.779687 240.991226)scale(0.1 -0.1)\">\r\n       <defs>\r\n        <path d=\"M 525 4666 \r\nL 3525 4666 \r\nL 3525 4397 \r\nL 1831 0 \r\nL 1172 0 \r\nL 2766 4134 \r\nL 525 4134 \r\nL 525 4666 \r\nz\r\n\" id=\"DejaVuSans-37\" transform=\"scale(0.015625)\"/>\r\n       </defs>\r\n       <use xlink:href=\"#DejaVuSans-32\"/>\r\n       <use x=\"63.623047\" xlink:href=\"#DejaVuSans-37\"/>\r\n      </g>\r\n     </g>\r\n    </g>\r\n    <g id=\"xtick_9\">\r\n     <g id=\"line2d_9\">\r\n      <g>\r\n       <use style=\"stroke:#000000;stroke-width:0.6;\" x=\"289.342187\" xlink:href=\"#maf1e0658ad\" y=\"227.992788\"/>\r\n      </g>\r\n     </g>\r\n     <g id=\"text_9\">\r\n      <!-- 28 -->\r\n      <g transform=\"translate(282.979687 240.991226)scale(0.1 -0.1)\">\r\n       <defs>\r\n        <path d=\"M 2034 2216 \r\nQ 1584 2216 1326 1975 \r\nQ 1069 1734 1069 1313 \r\nQ 1069 891 1326 650 \r\nQ 1584 409 2034 409 \r\nQ 2484 409 2743 651 \r\nQ 3003 894 3003 1313 \r\nQ 3003 1734 2745 1975 \r\nQ 2488 2216 2034 2216 \r\nz\r\nM 1403 2484 \r\nQ 997 2584 770 2862 \r\nQ 544 3141 544 3541 \r\nQ 544 4100 942 4425 \r\nQ 1341 4750 2034 4750 \r\nQ 2731 4750 3128 4425 \r\nQ 3525 4100 3525 3541 \r\nQ 3525 3141 3298 2862 \r\nQ 3072 2584 2669 2484 \r\nQ 3125 2378 3379 2068 \r\nQ 3634 1759 3634 1313 \r\nQ 3634 634 3220 271 \r\nQ 2806 -91 2034 -91 \r\nQ 1263 -91 848 271 \r\nQ 434 634 434 1313 \r\nQ 434 1759 690 2068 \r\nQ 947 2378 1403 2484 \r\nz\r\nM 1172 3481 \r\nQ 1172 3119 1398 2916 \r\nQ 1625 2713 2034 2713 \r\nQ 2441 2713 2670 2916 \r\nQ 2900 3119 2900 3481 \r\nQ 2900 3844 2670 4047 \r\nQ 2441 4250 2034 4250 \r\nQ 1625 4250 1398 4047 \r\nQ 1172 3844 1172 3481 \r\nz\r\n\" id=\"DejaVuSans-38\" transform=\"scale(0.015625)\"/>\r\n       </defs>\r\n       <use xlink:href=\"#DejaVuSans-32\"/>\r\n       <use x=\"63.623047\" xlink:href=\"#DejaVuSans-38\"/>\r\n      </g>\r\n     </g>\r\n    </g>\r\n    <g id=\"xtick_10\">\r\n     <g id=\"line2d_10\">\r\n      <g>\r\n       <use style=\"stroke:#000000;stroke-width:0.6;\" x=\"326.542187\" xlink:href=\"#maf1e0658ad\" y=\"227.992788\"/>\r\n      </g>\r\n     </g>\r\n     <g id=\"text_10\">\r\n      <!-- 29 -->\r\n      <g transform=\"translate(320.179687 240.991226)scale(0.1 -0.1)\">\r\n       <defs>\r\n        <path d=\"M 703 97 \r\nL 703 672 \r\nQ 941 559 1184 500 \r\nQ 1428 441 1663 441 \r\nQ 2288 441 2617 861 \r\nQ 2947 1281 2994 2138 \r\nQ 2813 1869 2534 1725 \r\nQ 2256 1581 1919 1581 \r\nQ 1219 1581 811 2004 \r\nQ 403 2428 403 3163 \r\nQ 403 3881 828 4315 \r\nQ 1253 4750 1959 4750 \r\nQ 2769 4750 3195 4129 \r\nQ 3622 3509 3622 2328 \r\nQ 3622 1225 3098 567 \r\nQ 2575 -91 1691 -91 \r\nQ 1453 -91 1209 -44 \r\nQ 966 3 703 97 \r\nz\r\nM 1959 2075 \r\nQ 2384 2075 2632 2365 \r\nQ 2881 2656 2881 3163 \r\nQ 2881 3666 2632 3958 \r\nQ 2384 4250 1959 4250 \r\nQ 1534 4250 1286 3958 \r\nQ 1038 3666 1038 3163 \r\nQ 1038 2656 1286 2365 \r\nQ 1534 2075 1959 2075 \r\nz\r\n\" id=\"DejaVuSans-39\" transform=\"scale(0.015625)\"/>\r\n       </defs>\r\n       <use xlink:href=\"#DejaVuSans-32\"/>\r\n       <use x=\"63.623047\" xlink:href=\"#DejaVuSans-39\"/>\r\n      </g>\r\n     </g>\r\n    </g>\r\n   </g>\r\n   <g id=\"matplotlib.axis_2\">\r\n    <g id=\"ytick_1\">\r\n     <g id=\"line2d_11\">\r\n      <defs>\r\n       <path d=\"M 0 0 \r\nL -3.5 0 \r\n\" id=\"m678c770c3f\" style=\"stroke:#000000;stroke-width:0.8;\"/>\r\n      </defs>\r\n      <g>\r\n       <use style=\"stroke:#000000;stroke-width:0.8;\" x=\"28.942188\" xlink:href=\"#m678c770c3f\" y=\"215.937226\"/>\r\n      </g>\r\n     </g>\r\n     <g id=\"text_11\">\r\n      <!-- −4 -->\r\n      <g transform=\"translate(7.2 219.736445)scale(0.1 -0.1)\">\r\n       <defs>\r\n        <path d=\"M 678 2272 \r\nL 4684 2272 \r\nL 4684 1741 \r\nL 678 1741 \r\nL 678 2272 \r\nz\r\n\" id=\"DejaVuSans-2212\" transform=\"scale(0.015625)\"/>\r\n       </defs>\r\n       <use xlink:href=\"#DejaVuSans-2212\"/>\r\n       <use x=\"83.789062\" xlink:href=\"#DejaVuSans-34\"/>\r\n      </g>\r\n     </g>\r\n    </g>\r\n    <g id=\"ytick_2\">\r\n     <g id=\"line2d_12\">\r\n      <g>\r\n       <use style=\"stroke:#000000;stroke-width:0.8;\" x=\"28.942188\" xlink:href=\"#m678c770c3f\" y=\"174.949625\"/>\r\n      </g>\r\n     </g>\r\n     <g id=\"text_12\">\r\n      <!-- −2 -->\r\n      <g transform=\"translate(7.2 178.748844)scale(0.1 -0.1)\">\r\n       <use xlink:href=\"#DejaVuSans-2212\"/>\r\n       <use x=\"83.789062\" xlink:href=\"#DejaVuSans-32\"/>\r\n      </g>\r\n     </g>\r\n    </g>\r\n    <g id=\"ytick_3\">\r\n     <g id=\"line2d_13\">\r\n      <g>\r\n       <use style=\"stroke:#000000;stroke-width:0.8;\" x=\"28.942188\" xlink:href=\"#m678c770c3f\" y=\"133.962023\"/>\r\n      </g>\r\n     </g>\r\n     <g id=\"text_13\">\r\n      <!-- 0 -->\r\n      <g transform=\"translate(15.579688 137.761242)scale(0.1 -0.1)\">\r\n       <use xlink:href=\"#DejaVuSans-30\"/>\r\n      </g>\r\n     </g>\r\n    </g>\r\n    <g id=\"ytick_4\">\r\n     <g id=\"line2d_14\">\r\n      <g>\r\n       <use style=\"stroke:#000000;stroke-width:0.8;\" x=\"28.942188\" xlink:href=\"#m678c770c3f\" y=\"92.974422\"/>\r\n      </g>\r\n     </g>\r\n     <g id=\"text_14\">\r\n      <!-- 2 -->\r\n      <g transform=\"translate(15.579688 96.773641)scale(0.1 -0.1)\">\r\n       <use xlink:href=\"#DejaVuSans-32\"/>\r\n      </g>\r\n     </g>\r\n    </g>\r\n    <g id=\"ytick_5\">\r\n     <g id=\"line2d_15\">\r\n      <g>\r\n       <use style=\"stroke:#000000;stroke-width:0.8;\" x=\"28.942188\" xlink:href=\"#m678c770c3f\" y=\"51.98682\"/>\r\n      </g>\r\n     </g>\r\n     <g id=\"text_15\">\r\n      <!-- 4 -->\r\n      <g transform=\"translate(15.579688 55.786039)scale(0.1 -0.1)\">\r\n       <use xlink:href=\"#DejaVuSans-34\"/>\r\n      </g>\r\n     </g>\r\n    </g>\r\n    <g id=\"ytick_6\">\r\n     <g id=\"line2d_16\">\r\n      <g>\r\n       <use style=\"stroke:#000000;stroke-width:0.8;\" x=\"28.942188\" xlink:href=\"#m678c770c3f\" y=\"10.999219\"/>\r\n      </g>\r\n     </g>\r\n     <g id=\"text_16\">\r\n      <!-- 6 -->\r\n      <g transform=\"translate(15.579688 14.798438)scale(0.1 -0.1)\">\r\n       <use xlink:href=\"#DejaVuSans-36\"/>\r\n      </g>\r\n     </g>\r\n    </g>\r\n   </g>\r\n   <g id=\"line2d_17\">\r\n    <path clip-path=\"url(#p5365ac6796)\" d=\"M 28.942187 218.109152 \r\nL 66.142187 148.475558 \r\nM 140.542187 121.877168 \r\nL 177.742187 100.636328 \r\nL 214.942187 99.791712 \r\nM 289.342187 78.037056 \r\nL 326.542187 52.229505 \r\nL 363.742187 20.436424 \r\n\" style=\"fill:none;stroke:#1f77b4;stroke-linecap:square;stroke-width:1.5;\"/>\r\n   </g>\r\n   <g id=\"patch_3\">\r\n    <path d=\"M 28.942188 227.992788 \r\nL 28.942188 10.552788 \r\n\" style=\"fill:none;stroke:#000000;stroke-linecap:square;stroke-linejoin:miter;stroke-width:0.8;\"/>\r\n   </g>\r\n   <g id=\"patch_4\">\r\n    <path d=\"M 363.742188 227.992788 \r\nL 363.742188 10.552788 \r\n\" style=\"fill:none;stroke:#000000;stroke-linecap:square;stroke-linejoin:miter;stroke-width:0.8;\"/>\r\n   </g>\r\n   <g id=\"patch_5\">\r\n    <path d=\"M 28.942187 227.992788 \r\nL 363.742187 227.992788 \r\n\" style=\"fill:none;stroke:#000000;stroke-linecap:square;stroke-linejoin:miter;stroke-width:0.8;\"/>\r\n   </g>\r\n   <g id=\"patch_6\">\r\n    <path d=\"M 28.942187 10.552788 \r\nL 363.742187 10.552788 \r\n\" style=\"fill:none;stroke:#000000;stroke-linecap:square;stroke-linejoin:miter;stroke-width:0.8;\"/>\r\n   </g>\r\n   <g id=\"legend_1\">\r\n    <g id=\"patch_7\">\r\n     <path d=\"M 35.942188 33.230913 \r\nL 74.304688 33.230913 \r\nQ 76.304688 33.230913 76.304688 31.230913 \r\nL 76.304688 17.552788 \r\nQ 76.304688 15.552788 74.304688 15.552788 \r\nL 35.942188 15.552788 \r\nQ 33.942188 15.552788 33.942188 17.552788 \r\nL 33.942188 31.230913 \r\nQ 33.942188 33.230913 35.942188 33.230913 \r\nz\r\n\" style=\"fill:#ffffff;opacity:0.8;stroke:#cccccc;stroke-linejoin:miter;\"/>\r\n    </g>\r\n    <g id=\"line2d_18\">\r\n     <path d=\"M 37.942188 23.651226 \r\nL 57.942188 23.651226 \r\n\" style=\"fill:none;stroke:#1f77b4;stroke-linecap:square;stroke-width:1.5;\"/>\r\n    </g>\r\n    <g id=\"line2d_19\"/>\r\n    <g id=\"text_17\">\r\n     <!-- 0 -->\r\n     <g transform=\"translate(65.942188 27.151226)scale(0.1 -0.1)\">\r\n      <use xlink:href=\"#DejaVuSans-30\"/>\r\n     </g>\r\n    </g>\r\n   </g>\r\n  </g>\r\n </g>\r\n <defs>\r\n  <clipPath id=\"p5365ac6796\">\r\n   <rect height=\"217.44\" width=\"334.8\" x=\"28.942188\" y=\"10.552788\"/>\r\n  </clipPath>\r\n </defs>\r\n</svg>\r\n",
      "image/png": "[encoded data removed]"
     },
     "metadata": {
      "needs_background": "light"
     }
    }
   ],
   "source": [
    "df.plot();"
   ]
  },
  {
   "cell_type": "code",
   "execution_count": 81,
   "metadata": {},
   "outputs": [
    {
     "output_type": "execute_result",
     "data": {
      "text/plain": [
       "<pandas.io.formats.style.Styler at 0x2888a357400>"
      ],
      "text/html": "<style  type=\"text/css\" >\n</style><table id=\"T_a822d_\" ><thead>    <tr>        <th class=\"blank level0\" ></th>        <th class=\"col_heading level0 col0\" >0</th>    </tr></thead><tbody>\n                <tr>\n                        <th id=\"T_a822d_level0_row0\" class=\"row_heading level0 row0\" >2021-04-21 00:00:00</th>\n                        <td id=\"T_a822d_row0_col0\" class=\"data row0 col0\" >-4.105980</td>\n            </tr>\n            <tr>\n                        <th id=\"T_a822d_level0_row1\" class=\"row_heading level0 row1\" >2021-04-22 00:00:00</th>\n                        <td id=\"T_a822d_row1_col0\" class=\"data row1 col0\" >-0.708191</td>\n            </tr>\n            <tr>\n                        <th id=\"T_a822d_level0_row2\" class=\"row_heading level0 row2\" >2021-04-23 00:00:00</th>\n                        <td id=\"T_a822d_row2_col0\" class=\"data row2 col0\" >-0.059254</td>\n            </tr>\n            <tr>\n                        <th id=\"T_a822d_level0_row3\" class=\"row_heading level0 row3\" >2021-04-24 00:00:00</th>\n                        <td id=\"T_a822d_row3_col0\" class=\"data row3 col0\" >0.589683</td>\n            </tr>\n            <tr>\n                        <th id=\"T_a822d_level0_row4\" class=\"row_heading level0 row4\" >2021-04-25 00:00:00</th>\n                        <td id=\"T_a822d_row4_col0\" class=\"data row4 col0\" >1.626135</td>\n            </tr>\n            <tr>\n                        <th id=\"T_a822d_level0_row5\" class=\"row_heading level0 row5\" >2021-04-26 00:00:00</th>\n                        <td id=\"T_a822d_row5_col0\" class=\"data row5 col0\" >1.667349</td>\n            </tr>\n            <tr>\n                        <th id=\"T_a822d_level0_row6\" class=\"row_heading level0 row6\" >2021-04-27 00:00:00</th>\n                        <td id=\"T_a822d_row6_col0\" class=\"data row6 col0\" >2.198111</td>\n            </tr>\n            <tr>\n                        <th id=\"T_a822d_level0_row7\" class=\"row_heading level0 row7\" >2021-04-28 00:00:00</th>\n                        <td id=\"T_a822d_row7_col0\" class=\"data row7 col0\" >2.728872</td>\n            </tr>\n            <tr>\n                        <th id=\"T_a822d_level0_row8\" class=\"row_heading level0 row8\" >2021-04-29 00:00:00</th>\n                        <td id=\"T_a822d_row8_col0\" class=\"data row8 col0\" >3.988158</td>\n            </tr>\n            <tr>\n                        <th id=\"T_a822d_level0_row9\" class=\"row_heading level0 row9\" >2021-04-30 00:00:00</th>\n                        <td id=\"T_a822d_row9_col0\" class=\"data row9 col0\" >5.539509</td>\n            </tr>\n    </tbody></table>"
     },
     "metadata": {},
     "execution_count": 81
    }
   ],
   "source": [
    "df_info(df.interpolate())"
   ]
  },
  {
   "cell_type": "code",
   "execution_count": 82,
   "metadata": {},
   "outputs": [
    {
     "output_type": "display_data",
     "data": {
      "text/plain": "<Figure size 432x288 with 1 Axes>",
      "image/svg+xml": "<?xml version=\"1.0\" encoding=\"utf-8\" standalone=\"no\"?>\r\n<!DOCTYPE svg PUBLIC \"-//W3C//DTD SVG 1.1//EN\"\r\n  \"http://www.w3.org/Graphics/SVG/1.1/DTD/svg11.dtd\">\r\n<svg height=\"274.266538pt\" version=\"1.1\" viewBox=\"0 0 377.304687 274.266538\" width=\"377.304687pt\" xmlns=\"http://www.w3.org/2000/svg\" xmlns:xlink=\"http://www.w3.org/1999/xlink\">\r\n <metadata>\r\n  <rdf:RDF xmlns:cc=\"http://creativecommons.org/ns#\" xmlns:dc=\"http://purl.org/dc/elements/1.1/\" xmlns:rdf=\"http://www.w3.org/1999/02/22-rdf-syntax-ns#\">\r\n   <cc:Work>\r\n    <dc:type rdf:resource=\"http://purl.org/dc/dcmitype/StillImage\"/>\r\n    <dc:date>2021-05-02T10:55:04.592560</dc:date>\r\n    <dc:format>image/svg+xml</dc:format>\r\n    <dc:creator>\r\n     <cc:Agent>\r\n      <dc:title>Matplotlib v3.4.1, https://matplotlib.org/</dc:title>\r\n     </cc:Agent>\r\n    </dc:creator>\r\n   </cc:Work>\r\n  </rdf:RDF>\r\n </metadata>\r\n <defs>\r\n  <style type=\"text/css\">*{stroke-linecap:butt;stroke-linejoin:round;}</style>\r\n </defs>\r\n <g id=\"figure_1\">\r\n  <g id=\"patch_1\">\r\n   <path d=\"M 0 274.266538 \r\nL 377.304687 274.266538 \r\nL 377.304687 0 \r\nL 0 0 \r\nz\r\n\" style=\"fill:none;\"/>\r\n  </g>\r\n  <g id=\"axes_1\">\r\n   <g id=\"patch_2\">\r\n    <path d=\"M 28.942188 227.992788 \r\nL 363.742188 227.992788 \r\nL 363.742188 10.552788 \r\nL 28.942188 10.552788 \r\nz\r\n\" style=\"fill:#ffffff;\"/>\r\n   </g>\r\n   <g id=\"matplotlib.axis_1\">\r\n    <g id=\"xtick_1\">\r\n     <g id=\"line2d_1\">\r\n      <defs>\r\n       <path d=\"M 0 0 \r\nL 0 3.5 \r\n\" id=\"mabf88f2aa8\" style=\"stroke:#000000;stroke-width:0.8;\"/>\r\n      </defs>\r\n      <g>\r\n       <use style=\"stroke:#000000;stroke-width:0.8;\" x=\"28.942187\" xlink:href=\"#mabf88f2aa8\" y=\"227.992788\"/>\r\n      </g>\r\n     </g>\r\n     <g id=\"text_1\">\r\n      <!-- 21 -->\r\n      <g transform=\"translate(22.579687 242.591226)scale(0.1 -0.1)\">\r\n       <defs>\r\n        <path d=\"M 1228 531 \r\nL 3431 531 \r\nL 3431 0 \r\nL 469 0 \r\nL 469 531 \r\nQ 828 903 1448 1529 \r\nQ 2069 2156 2228 2338 \r\nQ 2531 2678 2651 2914 \r\nQ 2772 3150 2772 3378 \r\nQ 2772 3750 2511 3984 \r\nQ 2250 4219 1831 4219 \r\nQ 1534 4219 1204 4116 \r\nQ 875 4013 500 3803 \r\nL 500 4441 \r\nQ 881 4594 1212 4672 \r\nQ 1544 4750 1819 4750 \r\nQ 2544 4750 2975 4387 \r\nQ 3406 4025 3406 3419 \r\nQ 3406 3131 3298 2873 \r\nQ 3191 2616 2906 2266 \r\nQ 2828 2175 2409 1742 \r\nQ 1991 1309 1228 531 \r\nz\r\n\" id=\"DejaVuSans-32\" transform=\"scale(0.015625)\"/>\r\n        <path d=\"M 794 531 \r\nL 1825 531 \r\nL 1825 4091 \r\nL 703 3866 \r\nL 703 4441 \r\nL 1819 4666 \r\nL 2450 4666 \r\nL 2450 531 \r\nL 3481 531 \r\nL 3481 0 \r\nL 794 0 \r\nL 794 531 \r\nz\r\n\" id=\"DejaVuSans-31\" transform=\"scale(0.015625)\"/>\r\n       </defs>\r\n       <use xlink:href=\"#DejaVuSans-32\"/>\r\n       <use x=\"63.623047\" xlink:href=\"#DejaVuSans-31\"/>\r\n      </g>\r\n      <!-- Apr -->\r\n      <g transform=\"translate(20.292187 253.789038)scale(0.1 -0.1)\">\r\n       <defs>\r\n        <path d=\"M 2188 4044 \r\nL 1331 1722 \r\nL 3047 1722 \r\nL 2188 4044 \r\nz\r\nM 1831 4666 \r\nL 2547 4666 \r\nL 4325 0 \r\nL 3669 0 \r\nL 3244 1197 \r\nL 1141 1197 \r\nL 716 0 \r\nL 50 0 \r\nL 1831 4666 \r\nz\r\n\" id=\"DejaVuSans-41\" transform=\"scale(0.015625)\"/>\r\n        <path d=\"M 1159 525 \r\nL 1159 -1331 \r\nL 581 -1331 \r\nL 581 3500 \r\nL 1159 3500 \r\nL 1159 2969 \r\nQ 1341 3281 1617 3432 \r\nQ 1894 3584 2278 3584 \r\nQ 2916 3584 3314 3078 \r\nQ 3713 2572 3713 1747 \r\nQ 3713 922 3314 415 \r\nQ 2916 -91 2278 -91 \r\nQ 1894 -91 1617 61 \r\nQ 1341 213 1159 525 \r\nz\r\nM 3116 1747 \r\nQ 3116 2381 2855 2742 \r\nQ 2594 3103 2138 3103 \r\nQ 1681 3103 1420 2742 \r\nQ 1159 2381 1159 1747 \r\nQ 1159 1113 1420 752 \r\nQ 1681 391 2138 391 \r\nQ 2594 391 2855 752 \r\nQ 3116 1113 3116 1747 \r\nz\r\n\" id=\"DejaVuSans-70\" transform=\"scale(0.015625)\"/>\r\n        <path d=\"M 2631 2963 \r\nQ 2534 3019 2420 3045 \r\nQ 2306 3072 2169 3072 \r\nQ 1681 3072 1420 2755 \r\nQ 1159 2438 1159 1844 \r\nL 1159 0 \r\nL 581 0 \r\nL 581 3500 \r\nL 1159 3500 \r\nL 1159 2956 \r\nQ 1341 3275 1631 3429 \r\nQ 1922 3584 2338 3584 \r\nQ 2397 3584 2469 3576 \r\nQ 2541 3569 2628 3553 \r\nL 2631 2963 \r\nz\r\n\" id=\"DejaVuSans-72\" transform=\"scale(0.015625)\"/>\r\n       </defs>\r\n       <use xlink:href=\"#DejaVuSans-41\"/>\r\n       <use x=\"68.408203\" xlink:href=\"#DejaVuSans-70\"/>\r\n       <use x=\"131.884766\" xlink:href=\"#DejaVuSans-72\"/>\r\n      </g>\r\n      <!-- 2021 -->\r\n      <g transform=\"translate(16.217187 264.986851)scale(0.1 -0.1)\">\r\n       <defs>\r\n        <path d=\"M 2034 4250 \r\nQ 1547 4250 1301 3770 \r\nQ 1056 3291 1056 2328 \r\nQ 1056 1369 1301 889 \r\nQ 1547 409 2034 409 \r\nQ 2525 409 2770 889 \r\nQ 3016 1369 3016 2328 \r\nQ 3016 3291 2770 3770 \r\nQ 2525 4250 2034 4250 \r\nz\r\nM 2034 4750 \r\nQ 2819 4750 3233 4129 \r\nQ 3647 3509 3647 2328 \r\nQ 3647 1150 3233 529 \r\nQ 2819 -91 2034 -91 \r\nQ 1250 -91 836 529 \r\nQ 422 1150 422 2328 \r\nQ 422 3509 836 4129 \r\nQ 1250 4750 2034 4750 \r\nz\r\n\" id=\"DejaVuSans-30\" transform=\"scale(0.015625)\"/>\r\n       </defs>\r\n       <use xlink:href=\"#DejaVuSans-32\"/>\r\n       <use x=\"63.623047\" xlink:href=\"#DejaVuSans-30\"/>\r\n       <use x=\"127.246094\" xlink:href=\"#DejaVuSans-32\"/>\r\n       <use x=\"190.869141\" xlink:href=\"#DejaVuSans-31\"/>\r\n      </g>\r\n     </g>\r\n    </g>\r\n    <g id=\"xtick_2\">\r\n     <g id=\"line2d_2\">\r\n      <g>\r\n       <use style=\"stroke:#000000;stroke-width:0.8;\" x=\"363.742187\" xlink:href=\"#mabf88f2aa8\" y=\"227.992788\"/>\r\n      </g>\r\n     </g>\r\n     <g id=\"text_2\">\r\n      <!-- 30 -->\r\n      <g transform=\"translate(357.379687 242.591226)scale(0.1 -0.1)\">\r\n       <defs>\r\n        <path d=\"M 2597 2516 \r\nQ 3050 2419 3304 2112 \r\nQ 3559 1806 3559 1356 \r\nQ 3559 666 3084 287 \r\nQ 2609 -91 1734 -91 \r\nQ 1441 -91 1130 -33 \r\nQ 819 25 488 141 \r\nL 488 750 \r\nQ 750 597 1062 519 \r\nQ 1375 441 1716 441 \r\nQ 2309 441 2620 675 \r\nQ 2931 909 2931 1356 \r\nQ 2931 1769 2642 2001 \r\nQ 2353 2234 1838 2234 \r\nL 1294 2234 \r\nL 1294 2753 \r\nL 1863 2753 \r\nQ 2328 2753 2575 2939 \r\nQ 2822 3125 2822 3475 \r\nQ 2822 3834 2567 4026 \r\nQ 2313 4219 1838 4219 \r\nQ 1578 4219 1281 4162 \r\nQ 984 4106 628 3988 \r\nL 628 4550 \r\nQ 988 4650 1302 4700 \r\nQ 1616 4750 1894 4750 \r\nQ 2613 4750 3031 4423 \r\nQ 3450 4097 3450 3541 \r\nQ 3450 3153 3228 2886 \r\nQ 3006 2619 2597 2516 \r\nz\r\n\" id=\"DejaVuSans-33\" transform=\"scale(0.015625)\"/>\r\n       </defs>\r\n       <use xlink:href=\"#DejaVuSans-33\"/>\r\n       <use x=\"63.623047\" xlink:href=\"#DejaVuSans-30\"/>\r\n      </g>\r\n     </g>\r\n    </g>\r\n    <g id=\"xtick_3\">\r\n     <g id=\"line2d_3\">\r\n      <defs>\r\n       <path d=\"M 0 0 \r\nL 0 2 \r\n\" id=\"m4ddc737dda\" style=\"stroke:#000000;stroke-width:0.6;\"/>\r\n      </defs>\r\n      <g>\r\n       <use style=\"stroke:#000000;stroke-width:0.6;\" x=\"66.142187\" xlink:href=\"#m4ddc737dda\" y=\"227.992788\"/>\r\n      </g>\r\n     </g>\r\n     <g id=\"text_3\">\r\n      <!-- 22 -->\r\n      <g transform=\"translate(59.779687 240.991226)scale(0.1 -0.1)\">\r\n       <use xlink:href=\"#DejaVuSans-32\"/>\r\n       <use x=\"63.623047\" xlink:href=\"#DejaVuSans-32\"/>\r\n      </g>\r\n     </g>\r\n    </g>\r\n    <g id=\"xtick_4\">\r\n     <g id=\"line2d_4\">\r\n      <g>\r\n       <use style=\"stroke:#000000;stroke-width:0.6;\" x=\"103.342187\" xlink:href=\"#m4ddc737dda\" y=\"227.992788\"/>\r\n      </g>\r\n     </g>\r\n     <g id=\"text_4\">\r\n      <!-- 23 -->\r\n      <g transform=\"translate(96.979687 240.991226)scale(0.1 -0.1)\">\r\n       <use xlink:href=\"#DejaVuSans-32\"/>\r\n       <use x=\"63.623047\" xlink:href=\"#DejaVuSans-33\"/>\r\n      </g>\r\n     </g>\r\n    </g>\r\n    <g id=\"xtick_5\">\r\n     <g id=\"line2d_5\">\r\n      <g>\r\n       <use style=\"stroke:#000000;stroke-width:0.6;\" x=\"140.542187\" xlink:href=\"#m4ddc737dda\" y=\"227.992788\"/>\r\n      </g>\r\n     </g>\r\n     <g id=\"text_5\">\r\n      <!-- 24 -->\r\n      <g transform=\"translate(134.179687 240.991226)scale(0.1 -0.1)\">\r\n       <defs>\r\n        <path d=\"M 2419 4116 \r\nL 825 1625 \r\nL 2419 1625 \r\nL 2419 4116 \r\nz\r\nM 2253 4666 \r\nL 3047 4666 \r\nL 3047 1625 \r\nL 3713 1625 \r\nL 3713 1100 \r\nL 3047 1100 \r\nL 3047 0 \r\nL 2419 0 \r\nL 2419 1100 \r\nL 313 1100 \r\nL 313 1709 \r\nL 2253 4666 \r\nz\r\n\" id=\"DejaVuSans-34\" transform=\"scale(0.015625)\"/>\r\n       </defs>\r\n       <use xlink:href=\"#DejaVuSans-32\"/>\r\n       <use x=\"63.623047\" xlink:href=\"#DejaVuSans-34\"/>\r\n      </g>\r\n     </g>\r\n    </g>\r\n    <g id=\"xtick_6\">\r\n     <g id=\"line2d_6\">\r\n      <g>\r\n       <use style=\"stroke:#000000;stroke-width:0.6;\" x=\"177.742187\" xlink:href=\"#m4ddc737dda\" y=\"227.992788\"/>\r\n      </g>\r\n     </g>\r\n     <g id=\"text_6\">\r\n      <!-- 25 -->\r\n      <g transform=\"translate(171.379687 240.991226)scale(0.1 -0.1)\">\r\n       <defs>\r\n        <path d=\"M 691 4666 \r\nL 3169 4666 \r\nL 3169 4134 \r\nL 1269 4134 \r\nL 1269 2991 \r\nQ 1406 3038 1543 3061 \r\nQ 1681 3084 1819 3084 \r\nQ 2600 3084 3056 2656 \r\nQ 3513 2228 3513 1497 \r\nQ 3513 744 3044 326 \r\nQ 2575 -91 1722 -91 \r\nQ 1428 -91 1123 -41 \r\nQ 819 9 494 109 \r\nL 494 744 \r\nQ 775 591 1075 516 \r\nQ 1375 441 1709 441 \r\nQ 2250 441 2565 725 \r\nQ 2881 1009 2881 1497 \r\nQ 2881 1984 2565 2268 \r\nQ 2250 2553 1709 2553 \r\nQ 1456 2553 1204 2497 \r\nQ 953 2441 691 2322 \r\nL 691 4666 \r\nz\r\n\" id=\"DejaVuSans-35\" transform=\"scale(0.015625)\"/>\r\n       </defs>\r\n       <use xlink:href=\"#DejaVuSans-32\"/>\r\n       <use x=\"63.623047\" xlink:href=\"#DejaVuSans-35\"/>\r\n      </g>\r\n     </g>\r\n    </g>\r\n    <g id=\"xtick_7\">\r\n     <g id=\"line2d_7\">\r\n      <g>\r\n       <use style=\"stroke:#000000;stroke-width:0.6;\" x=\"214.942187\" xlink:href=\"#m4ddc737dda\" y=\"227.992788\"/>\r\n      </g>\r\n     </g>\r\n     <g id=\"text_7\">\r\n      <!-- 26 -->\r\n      <g transform=\"translate(208.579687 240.991226)scale(0.1 -0.1)\">\r\n       <defs>\r\n        <path d=\"M 2113 2584 \r\nQ 1688 2584 1439 2293 \r\nQ 1191 2003 1191 1497 \r\nQ 1191 994 1439 701 \r\nQ 1688 409 2113 409 \r\nQ 2538 409 2786 701 \r\nQ 3034 994 3034 1497 \r\nQ 3034 2003 2786 2293 \r\nQ 2538 2584 2113 2584 \r\nz\r\nM 3366 4563 \r\nL 3366 3988 \r\nQ 3128 4100 2886 4159 \r\nQ 2644 4219 2406 4219 \r\nQ 1781 4219 1451 3797 \r\nQ 1122 3375 1075 2522 \r\nQ 1259 2794 1537 2939 \r\nQ 1816 3084 2150 3084 \r\nQ 2853 3084 3261 2657 \r\nQ 3669 2231 3669 1497 \r\nQ 3669 778 3244 343 \r\nQ 2819 -91 2113 -91 \r\nQ 1303 -91 875 529 \r\nQ 447 1150 447 2328 \r\nQ 447 3434 972 4092 \r\nQ 1497 4750 2381 4750 \r\nQ 2619 4750 2861 4703 \r\nQ 3103 4656 3366 4563 \r\nz\r\n\" id=\"DejaVuSans-36\" transform=\"scale(0.015625)\"/>\r\n       </defs>\r\n       <use xlink:href=\"#DejaVuSans-32\"/>\r\n       <use x=\"63.623047\" xlink:href=\"#DejaVuSans-36\"/>\r\n      </g>\r\n     </g>\r\n    </g>\r\n    <g id=\"xtick_8\">\r\n     <g id=\"line2d_8\">\r\n      <g>\r\n       <use style=\"stroke:#000000;stroke-width:0.6;\" x=\"252.142187\" xlink:href=\"#m4ddc737dda\" y=\"227.992788\"/>\r\n      </g>\r\n     </g>\r\n     <g id=\"text_8\">\r\n      <!-- 27 -->\r\n      <g transform=\"translate(245.779687 240.991226)scale(0.1 -0.1)\">\r\n       <defs>\r\n        <path d=\"M 525 4666 \r\nL 3525 4666 \r\nL 3525 4397 \r\nL 1831 0 \r\nL 1172 0 \r\nL 2766 4134 \r\nL 525 4134 \r\nL 525 4666 \r\nz\r\n\" id=\"DejaVuSans-37\" transform=\"scale(0.015625)\"/>\r\n       </defs>\r\n       <use xlink:href=\"#DejaVuSans-32\"/>\r\n       <use x=\"63.623047\" xlink:href=\"#DejaVuSans-37\"/>\r\n      </g>\r\n     </g>\r\n    </g>\r\n    <g id=\"xtick_9\">\r\n     <g id=\"line2d_9\">\r\n      <g>\r\n       <use style=\"stroke:#000000;stroke-width:0.6;\" x=\"289.342187\" xlink:href=\"#m4ddc737dda\" y=\"227.992788\"/>\r\n      </g>\r\n     </g>\r\n     <g id=\"text_9\">\r\n      <!-- 28 -->\r\n      <g transform=\"translate(282.979687 240.991226)scale(0.1 -0.1)\">\r\n       <defs>\r\n        <path d=\"M 2034 2216 \r\nQ 1584 2216 1326 1975 \r\nQ 1069 1734 1069 1313 \r\nQ 1069 891 1326 650 \r\nQ 1584 409 2034 409 \r\nQ 2484 409 2743 651 \r\nQ 3003 894 3003 1313 \r\nQ 3003 1734 2745 1975 \r\nQ 2488 2216 2034 2216 \r\nz\r\nM 1403 2484 \r\nQ 997 2584 770 2862 \r\nQ 544 3141 544 3541 \r\nQ 544 4100 942 4425 \r\nQ 1341 4750 2034 4750 \r\nQ 2731 4750 3128 4425 \r\nQ 3525 4100 3525 3541 \r\nQ 3525 3141 3298 2862 \r\nQ 3072 2584 2669 2484 \r\nQ 3125 2378 3379 2068 \r\nQ 3634 1759 3634 1313 \r\nQ 3634 634 3220 271 \r\nQ 2806 -91 2034 -91 \r\nQ 1263 -91 848 271 \r\nQ 434 634 434 1313 \r\nQ 434 1759 690 2068 \r\nQ 947 2378 1403 2484 \r\nz\r\nM 1172 3481 \r\nQ 1172 3119 1398 2916 \r\nQ 1625 2713 2034 2713 \r\nQ 2441 2713 2670 2916 \r\nQ 2900 3119 2900 3481 \r\nQ 2900 3844 2670 4047 \r\nQ 2441 4250 2034 4250 \r\nQ 1625 4250 1398 4047 \r\nQ 1172 3844 1172 3481 \r\nz\r\n\" id=\"DejaVuSans-38\" transform=\"scale(0.015625)\"/>\r\n       </defs>\r\n       <use xlink:href=\"#DejaVuSans-32\"/>\r\n       <use x=\"63.623047\" xlink:href=\"#DejaVuSans-38\"/>\r\n      </g>\r\n     </g>\r\n    </g>\r\n    <g id=\"xtick_10\">\r\n     <g id=\"line2d_10\">\r\n      <g>\r\n       <use style=\"stroke:#000000;stroke-width:0.6;\" x=\"326.542187\" xlink:href=\"#m4ddc737dda\" y=\"227.992788\"/>\r\n      </g>\r\n     </g>\r\n     <g id=\"text_10\">\r\n      <!-- 29 -->\r\n      <g transform=\"translate(320.179687 240.991226)scale(0.1 -0.1)\">\r\n       <defs>\r\n        <path d=\"M 703 97 \r\nL 703 672 \r\nQ 941 559 1184 500 \r\nQ 1428 441 1663 441 \r\nQ 2288 441 2617 861 \r\nQ 2947 1281 2994 2138 \r\nQ 2813 1869 2534 1725 \r\nQ 2256 1581 1919 1581 \r\nQ 1219 1581 811 2004 \r\nQ 403 2428 403 3163 \r\nQ 403 3881 828 4315 \r\nQ 1253 4750 1959 4750 \r\nQ 2769 4750 3195 4129 \r\nQ 3622 3509 3622 2328 \r\nQ 3622 1225 3098 567 \r\nQ 2575 -91 1691 -91 \r\nQ 1453 -91 1209 -44 \r\nQ 966 3 703 97 \r\nz\r\nM 1959 2075 \r\nQ 2384 2075 2632 2365 \r\nQ 2881 2656 2881 3163 \r\nQ 2881 3666 2632 3958 \r\nQ 2384 4250 1959 4250 \r\nQ 1534 4250 1286 3958 \r\nQ 1038 3666 1038 3163 \r\nQ 1038 2656 1286 2365 \r\nQ 1534 2075 1959 2075 \r\nz\r\n\" id=\"DejaVuSans-39\" transform=\"scale(0.015625)\"/>\r\n       </defs>\r\n       <use xlink:href=\"#DejaVuSans-32\"/>\r\n       <use x=\"63.623047\" xlink:href=\"#DejaVuSans-39\"/>\r\n      </g>\r\n     </g>\r\n    </g>\r\n   </g>\r\n   <g id=\"matplotlib.axis_2\">\r\n    <g id=\"ytick_1\">\r\n     <g id=\"line2d_11\">\r\n      <defs>\r\n       <path d=\"M 0 0 \r\nL -3.5 0 \r\n\" id=\"m2b6586c794\" style=\"stroke:#000000;stroke-width:0.8;\"/>\r\n      </defs>\r\n      <g>\r\n       <use style=\"stroke:#000000;stroke-width:0.8;\" x=\"28.942188\" xlink:href=\"#m2b6586c794\" y=\"215.937226\"/>\r\n      </g>\r\n     </g>\r\n     <g id=\"text_11\">\r\n      <!-- −4 -->\r\n      <g transform=\"translate(7.2 219.736445)scale(0.1 -0.1)\">\r\n       <defs>\r\n        <path d=\"M 678 2272 \r\nL 4684 2272 \r\nL 4684 1741 \r\nL 678 1741 \r\nL 678 2272 \r\nz\r\n\" id=\"DejaVuSans-2212\" transform=\"scale(0.015625)\"/>\r\n       </defs>\r\n       <use xlink:href=\"#DejaVuSans-2212\"/>\r\n       <use x=\"83.789062\" xlink:href=\"#DejaVuSans-34\"/>\r\n      </g>\r\n     </g>\r\n    </g>\r\n    <g id=\"ytick_2\">\r\n     <g id=\"line2d_12\">\r\n      <g>\r\n       <use style=\"stroke:#000000;stroke-width:0.8;\" x=\"28.942188\" xlink:href=\"#m2b6586c794\" y=\"174.949625\"/>\r\n      </g>\r\n     </g>\r\n     <g id=\"text_12\">\r\n      <!-- −2 -->\r\n      <g transform=\"translate(7.2 178.748844)scale(0.1 -0.1)\">\r\n       <use xlink:href=\"#DejaVuSans-2212\"/>\r\n       <use x=\"83.789062\" xlink:href=\"#DejaVuSans-32\"/>\r\n      </g>\r\n     </g>\r\n    </g>\r\n    <g id=\"ytick_3\">\r\n     <g id=\"line2d_13\">\r\n      <g>\r\n       <use style=\"stroke:#000000;stroke-width:0.8;\" x=\"28.942188\" xlink:href=\"#m2b6586c794\" y=\"133.962023\"/>\r\n      </g>\r\n     </g>\r\n     <g id=\"text_13\">\r\n      <!-- 0 -->\r\n      <g transform=\"translate(15.579688 137.761242)scale(0.1 -0.1)\">\r\n       <use xlink:href=\"#DejaVuSans-30\"/>\r\n      </g>\r\n     </g>\r\n    </g>\r\n    <g id=\"ytick_4\">\r\n     <g id=\"line2d_14\">\r\n      <g>\r\n       <use style=\"stroke:#000000;stroke-width:0.8;\" x=\"28.942188\" xlink:href=\"#m2b6586c794\" y=\"92.974422\"/>\r\n      </g>\r\n     </g>\r\n     <g id=\"text_14\">\r\n      <!-- 2 -->\r\n      <g transform=\"translate(15.579688 96.773641)scale(0.1 -0.1)\">\r\n       <use xlink:href=\"#DejaVuSans-32\"/>\r\n      </g>\r\n     </g>\r\n    </g>\r\n    <g id=\"ytick_5\">\r\n     <g id=\"line2d_15\">\r\n      <g>\r\n       <use style=\"stroke:#000000;stroke-width:0.8;\" x=\"28.942188\" xlink:href=\"#m2b6586c794\" y=\"51.98682\"/>\r\n      </g>\r\n     </g>\r\n     <g id=\"text_15\">\r\n      <!-- 4 -->\r\n      <g transform=\"translate(15.579688 55.786039)scale(0.1 -0.1)\">\r\n       <use xlink:href=\"#DejaVuSans-34\"/>\r\n      </g>\r\n     </g>\r\n    </g>\r\n    <g id=\"ytick_6\">\r\n     <g id=\"line2d_16\">\r\n      <g>\r\n       <use style=\"stroke:#000000;stroke-width:0.8;\" x=\"28.942188\" xlink:href=\"#m2b6586c794\" y=\"10.999219\"/>\r\n      </g>\r\n     </g>\r\n     <g id=\"text_16\">\r\n      <!-- 6 -->\r\n      <g transform=\"translate(15.579688 14.798438)scale(0.1 -0.1)\">\r\n       <use xlink:href=\"#DejaVuSans-36\"/>\r\n      </g>\r\n     </g>\r\n    </g>\r\n   </g>\r\n   <g id=\"line2d_17\">\r\n    <path clip-path=\"url(#p92d931ba3c)\" d=\"M 28.942187 218.109152 \r\nL 66.142187 148.475558 \r\nL 103.342187 135.176363 \r\nL 140.542187 121.877168 \r\nL 177.742187 100.636328 \r\nL 214.942187 99.791712 \r\nL 252.142187 88.914384 \r\nL 289.342187 78.037056 \r\nL 326.542187 52.229505 \r\nL 363.742187 20.436424 \r\n\" style=\"fill:none;stroke:#1f77b4;stroke-linecap:square;stroke-width:1.5;\"/>\r\n   </g>\r\n   <g id=\"patch_3\">\r\n    <path d=\"M 28.942188 227.992788 \r\nL 28.942188 10.552788 \r\n\" style=\"fill:none;stroke:#000000;stroke-linecap:square;stroke-linejoin:miter;stroke-width:0.8;\"/>\r\n   </g>\r\n   <g id=\"patch_4\">\r\n    <path d=\"M 363.742188 227.992788 \r\nL 363.742188 10.552788 \r\n\" style=\"fill:none;stroke:#000000;stroke-linecap:square;stroke-linejoin:miter;stroke-width:0.8;\"/>\r\n   </g>\r\n   <g id=\"patch_5\">\r\n    <path d=\"M 28.942187 227.992788 \r\nL 363.742187 227.992788 \r\n\" style=\"fill:none;stroke:#000000;stroke-linecap:square;stroke-linejoin:miter;stroke-width:0.8;\"/>\r\n   </g>\r\n   <g id=\"patch_6\">\r\n    <path d=\"M 28.942187 10.552788 \r\nL 363.742187 10.552788 \r\n\" style=\"fill:none;stroke:#000000;stroke-linecap:square;stroke-linejoin:miter;stroke-width:0.8;\"/>\r\n   </g>\r\n   <g id=\"legend_1\">\r\n    <g id=\"patch_7\">\r\n     <path d=\"M 35.942188 33.230913 \r\nL 74.304688 33.230913 \r\nQ 76.304688 33.230913 76.304688 31.230913 \r\nL 76.304688 17.552788 \r\nQ 76.304688 15.552788 74.304688 15.552788 \r\nL 35.942188 15.552788 \r\nQ 33.942188 15.552788 33.942188 17.552788 \r\nL 33.942188 31.230913 \r\nQ 33.942188 33.230913 35.942188 33.230913 \r\nz\r\n\" style=\"fill:#ffffff;opacity:0.8;stroke:#cccccc;stroke-linejoin:miter;\"/>\r\n    </g>\r\n    <g id=\"line2d_18\">\r\n     <path d=\"M 37.942188 23.651226 \r\nL 57.942188 23.651226 \r\n\" style=\"fill:none;stroke:#1f77b4;stroke-linecap:square;stroke-width:1.5;\"/>\r\n    </g>\r\n    <g id=\"line2d_19\"/>\r\n    <g id=\"text_17\">\r\n     <!-- 0 -->\r\n     <g transform=\"translate(65.942188 27.151226)scale(0.1 -0.1)\">\r\n      <use xlink:href=\"#DejaVuSans-30\"/>\r\n     </g>\r\n    </g>\r\n   </g>\r\n  </g>\r\n </g>\r\n <defs>\r\n  <clipPath id=\"p92d931ba3c\">\r\n   <rect height=\"217.44\" width=\"334.8\" x=\"28.942188\" y=\"10.552788\"/>\r\n  </clipPath>\r\n </defs>\r\n</svg>\r\n",
      "image/png": "[encoded data removed]"
     },
     "metadata": {
      "needs_background": "light"
     }
    }
   ],
   "source": [
    "df.interpolate().plot();"
   ]
  }
 ],
 "metadata": {
  "anaconda-cloud": {},
  "kernelspec": {
   "name": "python385jvsc74a57bd0423c48e3256333a0e0252f1efeec30283ab6ba0213e3a05c32b0541c29f89950",
   "display_name": "Python 3.8.5 64-bit ('pyUdemy': conda)"
  },
  "language_info": {
   "codemirror_mode": {
    "name": "ipython",
    "version": 3
   },
   "file_extension": ".py",
   "mimetype": "text/x-python",
   "name": "python",
   "nbconvert_exporter": "python",
   "pygments_lexer": "ipython3",
   "version": "3.8.5"
  }
 },
 "nbformat": 4,
 "nbformat_minor": 0
}