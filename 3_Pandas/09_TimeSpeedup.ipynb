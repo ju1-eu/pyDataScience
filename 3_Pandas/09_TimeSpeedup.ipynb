{
 "metadata": {
  "language_info": {
   "codemirror_mode": {
    "name": "ipython",
    "version": 3
   },
   "file_extension": ".py",
   "mimetype": "text/x-python",
   "name": "python",
   "nbconvert_exporter": "python",
   "pygments_lexer": "ipython3",
   "version": "3.9.4"
  },
  "orig_nbformat": 2,
  "kernelspec": {
   "name": "python394jvsc74a57bd0522fdde40ba75a445b4c7d16655156023622a06d0cbc06ae1181d92925378299",
   "display_name": "Python 3.9.4 64-bit ('pyData': conda)"
  }
 },
 "nbformat": 4,
 "nbformat_minor": 2,
 "cells": [
  {
   "source": [
    "# Tips and Tricks for Pandas"
   ],
   "cell_type": "markdown",
   "metadata": {}
  },
  {
   "cell_type": "code",
   "execution_count": 17,
   "metadata": {},
   "outputs": [
    {
     "output_type": "stream",
     "name": "stdout",
     "text": [
      "The Cython extension is already loaded. To reload it, use:\n  %reload_ext Cython\n"
     ]
    }
   ],
   "source": [
    "%load_ext Cython\n",
    "import numpy as np\n",
    "np.random.seed(0)\n",
    "import pandas as pd"
   ]
  },
  {
   "cell_type": "code",
   "execution_count": 18,
   "metadata": {},
   "outputs": [],
   "source": [
    "def make_df():\n",
    "    return pd.DataFrame(\n",
    "        np.random.rand(10_000, 3),\n",
    "        columns=[\"A\", \"B\", \"C\"]\n",
    "    )"
   ]
  },
  {
   "cell_type": "code",
   "execution_count": 19,
   "metadata": {},
   "outputs": [],
   "source": [
    "df = make_df()"
   ]
  },
  {
   "cell_type": "code",
   "execution_count": 20,
   "metadata": {},
   "outputs": [
    {
     "output_type": "stream",
     "name": "stdout",
     "text": [
      "          A         B         C\n0  0.548814  0.715189  0.602763\n1  0.544883  0.423655  0.645894\n2  0.437587  0.891773  0.963663\n3  0.383442  0.791725  0.528895\n4  0.568045  0.925597  0.071036\n"
     ]
    }
   ],
   "source": [
    "print(df.head())"
   ]
  },
  {
   "source": [
    "## Speed-Up Apply\n",
    "\n",
    "Use-Case:\n",
    "Replace the value in a column by 0.0 if it is less than 0.5"
   ],
   "cell_type": "markdown",
   "metadata": {}
  },
  {
   "cell_type": "code",
   "execution_count": 21,
   "metadata": {},
   "outputs": [],
   "source": [
    "def slow_function(df):\n",
    "    col = \"A\"\n",
    "    for idx, row in df.iterrows():\n",
    "        if row[col] < 0.5:\n",
    "            row[col] = 0.0"
   ]
  },
  {
   "cell_type": "code",
   "execution_count": 22,
   "metadata": {},
   "outputs": [
    {
     "output_type": "stream",
     "name": "stdout",
     "text": [
      "1.5 s ± 198 ms per loop (mean ± std. dev. of 7 runs, 1 loop each)\n          A         B         C\n0  0.548814  0.715189  0.602763\n1  0.544883  0.423655  0.645894\n2  0.000000  0.891773  0.963663\n3  0.000000  0.791725  0.528895\n4  0.568045  0.925597  0.071036\n"
     ]
    }
   ],
   "source": [
    "%timeit slow_function(df)\n",
    "\n",
    "print(df.head())"
   ]
  },
  {
   "cell_type": "code",
   "execution_count": 23,
   "metadata": {},
   "outputs": [],
   "source": [
    "def faster_function(df):\n",
    "    df[\"B\"] = df[\"B\"].apply(lambda x: 0.0 if x < 0.5 else x)"
   ]
  },
  {
   "cell_type": "code",
   "execution_count": 24,
   "metadata": {},
   "outputs": [
    {
     "output_type": "stream",
     "name": "stdout",
     "text": [
      "5.51 ms ± 369 µs per loop (mean ± std. dev. of 7 runs, 100 loops each)\n          A         B         C\n0  0.758125  0.503319  0.177017\n1  0.832537  0.516825  0.926920\n2  0.971807  0.675130  0.312100\n3  0.575684  0.000000  0.269004\n4  0.454180  0.000000  0.610589\n"
     ]
    }
   ],
   "source": [
    "df = make_df()\n",
    "\n",
    "%timeit faster_function(df)\n",
    "\n",
    "print(df.head())"
   ]
  },
  {
   "cell_type": "code",
   "execution_count": 25,
   "metadata": {},
   "outputs": [],
   "source": [
    "def even_faster_function(df):\n",
    "    df[\"C\"] = np.where(df[\"C\"] < 0.5, 0.0, df[\"C\"])"
   ]
  },
  {
   "cell_type": "code",
   "execution_count": 26,
   "metadata": {},
   "outputs": [
    {
     "output_type": "stream",
     "name": "stdout",
     "text": [
      "848 µs ± 15.2 µs per loop (mean ± std. dev. of 7 runs, 1000 loops each)\n          A         B        C\n0  0.927955  0.902937  0.00000\n1  0.510806  0.583200  0.95233\n2  0.280789  0.795345  0.97514\n3  0.463157  0.712459  0.00000\n4  0.387149  0.448450  0.00000\n"
     ]
    }
   ],
   "source": [
    "df = make_df()\n",
    "\n",
    "%timeit even_faster_function(df)\n",
    "\n",
    "print(df.head())"
   ]
  },
  {
   "cell_type": "code",
   "execution_count": 27,
   "metadata": {},
   "outputs": [],
   "source": [
    "%%cython\n",
    "cimport cython\n",
    "cimport numpy as np\n",
    "import numpy as np\n",
    "\n",
    "@cython.boundscheck(False)\n",
    "@cython.wraparound(False)\n",
    "cpdef inner(np.ndarray[double, ndim=1] array):\n",
    "    for i in range(array.shape[0]):\n",
    "        if array[i] < 0.5:\n",
    "            array[i] = 0.0\n",
    "\n",
    "def cython_apply(df):\n",
    "    inner(df[\"A\"].values)"
   ]
  },
  {
   "cell_type": "code",
   "execution_count": 28,
   "metadata": {},
   "outputs": [
    {
     "output_type": "stream",
     "name": "stdout",
     "text": [
      "66.2 µs ± 10.8 µs per loop (mean ± std. dev. of 7 runs, 10000 loops each)\n          A         B         C\n0  0.000000  0.058548  0.436811\n1  0.720297  0.824412  0.447509\n2  0.000000  0.174104  0.852748\n3  0.526098  0.488417  0.380276\n4  0.000000  0.799242  0.955156\n"
     ]
    }
   ],
   "source": [
    "df = make_df()\n",
    "\n",
    "%timeit cython_apply(df)\n",
    "\n",
    "print(df.head())"
   ]
  },
  {
   "cell_type": "code",
   "execution_count": 29,
   "metadata": {},
   "outputs": [],
   "source": [
    "import numba\n",
    "\n",
    "@numba.jit\n",
    "def inner(array):\n",
    "    for i in range(array.shape[0]):\n",
    "        if array[i] < 0.5:\n",
    "            array[i] = 0.0\n",
    "\n",
    "def numba_apply(df):\n",
    "    inner(df[\"A\"].values)"
   ]
  },
  {
   "cell_type": "code",
   "execution_count": 30,
   "metadata": {},
   "outputs": [
    {
     "output_type": "stream",
     "name": "stdout",
     "text": [
      "137 µs ± 30.9 µs per loop (mean ± std. dev. of 7 runs, 1 loop each)\n          A         B         C\n0  0.623699  0.136427  0.893584\n1  0.000000  0.579009  0.493986\n2  0.620274  0.649347  0.259397\n3  0.888801  0.079085  0.380168\n4  0.000000  0.206583  0.707093\n"
     ]
    }
   ],
   "source": [
    "df = make_df()\n",
    "\n",
    "%timeit numba_apply(df)\n",
    "\n",
    "print(df.head())"
   ]
  },
  {
   "source": [
    "| Function \t| Time \t| Speed-Up \t|\n",
    "| ---\t|-\t|-\t|\n",
    "|  slow_function\t| 1.58 * 10^6 &nbsp &nbsp\t| - \t|\n",
    "| faster_function \t| 6.18 * 10^3 \t|  255x\t|\n",
    "| even_faster_function  &nbsp  \t|  680 &nbsp &nbsp\t|  2,323x\t|\n",
    "| cython_function \t|  55\t| 28,727x \t|\n",
    "| numba_function \t| 55 \t|  28,727x\t|\n",
    "| c++ \t| 30 \t|  52,666x\t|"
   ],
   "cell_type": "markdown",
   "metadata": {}
  },
  {
   "source": [
    "# Speed-Up Transform"
   ],
   "cell_type": "markdown",
   "metadata": {}
  },
  {
   "cell_type": "code",
   "execution_count": 31,
   "metadata": {},
   "outputs": [],
   "source": [
    "def slow_function(df):\n",
    "    col = \"A\"\n",
    "    for idx, row in df.iterrows():\n",
    "        row[col] = row[col] + 1.0"
   ]
  },
  {
   "cell_type": "code",
   "execution_count": 32,
   "metadata": {},
   "outputs": [
    {
     "output_type": "stream",
     "name": "stdout",
     "text": [
      "1.5 s ± 97.4 ms per loop (mean ± std. dev. of 7 runs, 1 loop each)\n          A         B         C\n0  8.622652  0.824218  0.284283\n1  8.878396  0.641164  0.888156\n2  8.761528  0.375030  0.921856\n3  8.291822  0.412477  0.464101\n4  8.251662  0.813229  0.124318\n"
     ]
    }
   ],
   "source": [
    "df = make_df()\n",
    "\n",
    "%timeit slow_function(df)\n",
    "\n",
    "print(df.head())"
   ]
  },
  {
   "cell_type": "code",
   "execution_count": 33,
   "metadata": {},
   "outputs": [],
   "source": [
    "def faster_function(df):\n",
    "    df[\"B\"] = df[\"B\"].transform(lambda x: x + 1.0)"
   ]
  },
  {
   "cell_type": "code",
   "execution_count": 34,
   "metadata": {},
   "outputs": [
    {
     "output_type": "stream",
     "name": "stdout",
     "text": [
      "5.12 ms ± 752 µs per loop (mean ± std. dev. of 7 runs, 100 loops each)\n          A           B         C\n0  0.966403  811.974602  0.130418\n1  0.510132  811.113840  0.696690\n2  0.479423  811.080034  0.057539\n3  0.953299  811.174636  0.619358\n4  0.736562  811.642363  0.777584\n"
     ]
    }
   ],
   "source": [
    "df = make_df()\n",
    "\n",
    "%timeit faster_function(df)\n",
    "\n",
    "print(df.head())"
   ]
  },
  {
   "cell_type": "code",
   "execution_count": 35,
   "metadata": {},
   "outputs": [],
   "source": [
    "def even_faster_function(df):\n",
    "    df[\"C\"] = df[\"C\"] + 1.0"
   ]
  },
  {
   "cell_type": "code",
   "execution_count": 36,
   "metadata": {},
   "outputs": [
    {
     "output_type": "stream",
     "name": "stdout",
     "text": [
      "537 µs ± 67.9 µs per loop (mean ± std. dev. of 7 runs, 1000 loops each)\n          A         B            C\n0  0.290573  0.768656  8111.050974\n1  0.679872  0.222246  8111.274793\n2  0.677915  0.922029  8111.178734\n3  0.941326  0.893525  8111.654297\n4  0.451397  0.355714  8111.105789\n"
     ]
    }
   ],
   "source": [
    "df = make_df()\n",
    "\n",
    "%timeit even_faster_function(df)\n",
    "\n",
    "print(df.head())"
   ]
  },
  {
   "cell_type": "code",
   "execution_count": 37,
   "metadata": {},
   "outputs": [],
   "source": [
    "%%cython\n",
    "cimport cython\n",
    "cimport numpy as np\n",
    "import numpy as np\n",
    "\n",
    "@cython.boundscheck(False)\n",
    "@cython.wraparound(False)\n",
    "cpdef inner(np.ndarray[double, ndim=1] array):\n",
    "    for i in range(array.shape[0]):\n",
    "        array[i] += 1.0"
   ]
  },
  {
   "cell_type": "code",
   "execution_count": 38,
   "metadata": {},
   "outputs": [
    {
     "output_type": "stream",
     "name": "stdout",
     "text": [
      "27.5 µs ± 1.82 µs per loop (mean ± std. dev. of 7 runs, 10000 loops each)\n              A         B         C\n0  81111.515565  0.319024  0.048873\n1  81111.325628  0.495717  0.687538\n2  81111.925181  0.278398  0.565618\n3  81111.674131  0.876853  0.916673\n4  81111.225720  0.908423  0.656138\n"
     ]
    }
   ],
   "source": [
    "def cython_transform(df):\n",
    "    inner(df[\"A\"].values)\n",
    "\n",
    "df = make_df()\n",
    "\n",
    "%timeit cython_transform(df)\n",
    "\n",
    "print(df.head())"
   ]
  },
  {
   "cell_type": "code",
   "execution_count": 39,
   "metadata": {},
   "outputs": [],
   "source": [
    "import numba\n",
    "\n",
    "@numba.jit\n",
    "def inner(array):\n",
    "    for i in range(array.shape[0]):\n",
    "        array[i] += 1.0\n",
    "\n",
    "def numba_transform(df):\n",
    "    inner(df[\"A\"].values)"
   ]
  },
  {
   "cell_type": "code",
   "execution_count": 40,
   "metadata": {},
   "outputs": [
    {
     "output_type": "stream",
     "name": "stdout",
     "text": [
      "27.1 µs ± 719 ns per loop (mean ± std. dev. of 7 runs, 10000 loops each)\n              A         B         C\n0  81111.205671  0.947660  0.097525\n1  81111.719924  0.841147  0.863829\n2  81111.439500  0.124873  0.657900\n3  81111.050730  0.564794  0.142302\n4  81111.403096  0.118479  0.425367\n"
     ]
    }
   ],
   "source": [
    "df = make_df()\n",
    "\n",
    "%timeit numba_transform(df)\n",
    "\n",
    "print(df.head())"
   ]
  },
  {
   "source": [
    "| Function \t| Time \t| Speed-Up \t|\n",
    "| ---\t|-\t|-\t|\n",
    "|  slow_function\t| 600 * 10^3 &nbsp &nbsp\t| - \t|\n",
    "| faster_function \t| 4.6 * 10^3 \t|  130x\t|\n",
    "| even_faster_function  &nbsp  \t|  525 &nbsp &nbsp\t|  1,142x\t|\n",
    "| cython_function \t|  31\t|  19,354x\t|\n",
    "| numba_function \t| 31 \t| 19,354x \t|\n",
    "| c++ \t| 2\t| 300,000x \t|"
   ],
   "cell_type": "markdown",
   "metadata": {}
  }
 ]
}