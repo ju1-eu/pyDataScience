{
 "cells": [
  {
   "cell_type": "markdown",
   "metadata": {},
   "source": [
    "# Introducing Pandas"
   ]
  },
  {
   "source": [
    "Pandas is an open source library providing high-performance, easy-to-use data structures and data analysis tools for the Python programming language."
   ],
   "cell_type": "markdown",
   "metadata": {}
  },
  {
   "cell_type": "code",
   "execution_count": 39,
   "metadata": {
    "collapsed": true
   },
   "outputs": [],
   "source": [
    "import numpy as np\n",
    "np.random.seed(0)\n",
    "import pandas as pd"
   ]
  },
  {
   "cell_type": "code",
   "execution_count": 40,
   "metadata": {},
   "outputs": [],
   "source": [
    "def series_info(series: pd.Series) -> None:\n",
    "    print(f\"ndim: {series.ndim}\")\n",
    "    print(f\"shape: {series.shape}\")\n",
    "    print(f\"size: {series.size}\")\n",
    "    print(f\"dtype: {series.dtype}\")\n",
    "    print(f\"values:\\n{series}\\n\")"
   ]
  },
  {
   "cell_type": "code",
   "execution_count": 41,
   "metadata": {},
   "outputs": [],
   "source": [
    "def df_info(df: pd.DataFrame) -> None:\n",
    "    print(f\"ndim: {df.ndim}\")\n",
    "    print(f\"shape: {df.shape}\")\n",
    "    print(f\"size: {df.size}\")\n",
    "    print(f\"dtype: {df.dtypes}\")\n",
    "    print(f\"values:\\n{df}\\n\")"
   ]
  },
  {
   "cell_type": "code",
   "execution_count": 42,
   "metadata": {
    "collapsed": false
   },
   "outputs": [
    {
     "output_type": "stream",
     "name": "stdout",
     "text": [
      "ndim: 1\nshape: (4,)\nsize: 4\ndtype: float32\nvalues:\n0    0.25\n1    0.50\n2    0.75\n3    1.00\ndtype: float32\n\n"
     ]
    }
   ],
   "source": [
    "data = pd.Series(data=[0.25, 0.5, 0.75, 1.0], dtype=np.float32)\n",
    "\n",
    "series_info(data)"
   ]
  },
  {
   "cell_type": "code",
   "execution_count": 43,
   "metadata": {
    "collapsed": false
   },
   "outputs": [
    {
     "output_type": "stream",
     "name": "stdout",
     "text": [
      "<class 'numpy.ndarray'>\n[0.25 0.5  0.75 1.  ]\n"
     ]
    }
   ],
   "source": [
    "print(type(data.values))\n",
    "print(data.values)"
   ]
  },
  {
   "cell_type": "code",
   "execution_count": 44,
   "metadata": {
    "collapsed": false
   },
   "outputs": [
    {
     "output_type": "stream",
     "name": "stdout",
     "text": [
      "<class 'pandas.core.indexes.range.RangeIndex'>\nRangeIndex(start=0, stop=4, step=1)\n"
     ]
    }
   ],
   "source": [
    "print(type(data.index))\n",
    "print(data.index)"
   ]
  },
  {
   "cell_type": "code",
   "execution_count": 45,
   "metadata": {
    "collapsed": false
   },
   "outputs": [
    {
     "output_type": "stream",
     "name": "stdout",
     "text": [
      "0.5\n"
     ]
    }
   ],
   "source": [
    "print(data[1])"
   ]
  },
  {
   "cell_type": "code",
   "execution_count": 46,
   "metadata": {
    "collapsed": false
   },
   "outputs": [
    {
     "output_type": "stream",
     "name": "stdout",
     "text": [
      "ndim: 1\nshape: (2,)\nsize: 2\ndtype: float32\nvalues:\n1    0.50\n2    0.75\ndtype: float32\n\n"
     ]
    }
   ],
   "source": [
    "slice_data = data[1:3]\n",
    "\n",
    "series_info(slice_data)"
   ]
  },
  {
   "cell_type": "code",
   "execution_count": 48,
   "metadata": {},
   "outputs": [
    {
     "output_type": "execute_result",
     "data": {
      "text/plain": [
       "0.5"
      ]
     },
     "metadata": {},
     "execution_count": 48
    }
   ],
   "source": [
    "slice_data[1]"
   ]
  },
  {
   "cell_type": "markdown",
   "metadata": {},
   "source": [
    "### pd.Series\n",
    "\n",
    "Series is a one-dimensional labeled array capable of holding any data type (integers, strings, floating point numbers, Python objects, etc.).  \n",
    "The axis labels are collectively referred to as the index.\n",
    "\n",
    "The basic method to create a Series is to call:\n",
    "\n",
    "```python\n",
    "s = pd.Series(data, index=index)\n",
    "```\n",
    "\n",
    "- an iterable object (list, np.ndarray)\n",
    "- a scalar value (like 5)"
   ]
  },
  {
   "cell_type": "code",
   "execution_count": 29,
   "metadata": {
    "collapsed": false
   },
   "outputs": [
    {
     "output_type": "stream",
     "name": "stdout",
     "text": [
      "ndim: 1\nshape: (4,)\nsize: 4\ndtype: float64\nvalues:\na    0.25\nb    0.50\nc    0.75\nd    1.00\ndtype: float64\n\n"
     ]
    }
   ],
   "source": [
    "data = pd.Series(\n",
    "    [0.25, 0.5, 0.75, 1.0],\n",
    "    index=['a', 'b', 'c', 'd']\n",
    ")\n",
    "\n",
    "series_info(data)"
   ]
  },
  {
   "cell_type": "code",
   "execution_count": 30,
   "metadata": {
    "collapsed": false
   },
   "outputs": [
    {
     "output_type": "stream",
     "name": "stdout",
     "text": [
      "0.25\n"
     ]
    }
   ],
   "source": [
    "print(data['a'])"
   ]
  },
  {
   "cell_type": "code",
   "execution_count": 31,
   "metadata": {
    "collapsed": false
   },
   "outputs": [
    {
     "output_type": "stream",
     "name": "stdout",
     "text": [
      "ndim: 1\nshape: (3,)\nsize: 3\ndtype: int8\nvalues:\nRed      12\nGreen     8\nBlue     33\ndtype: int8\n\n"
     ]
    }
   ],
   "source": [
    "colors_dict = {\n",
    "    'Red': 12,\n",
    "    'Green': 8,\n",
    "    'Blue': 33,\n",
    "}\n",
    "colors_s = pd.Series(\n",
    "    colors_dict,\n",
    "    dtype=np.int8\n",
    ")\n",
    "\n",
    "series_info(colors_s)"
   ]
  },
  {
   "cell_type": "code",
   "execution_count": 32,
   "metadata": {
    "collapsed": false
   },
   "outputs": [
    {
     "output_type": "stream",
     "name": "stdout",
     "text": [
      "8\n"
     ]
    }
   ],
   "source": [
    "print(colors_s['Green'])"
   ]
  },
  {
   "cell_type": "code",
   "execution_count": 33,
   "metadata": {
    "collapsed": false
   },
   "outputs": [
    {
     "output_type": "stream",
     "name": "stdout",
     "text": [
      "ndim: 1\nshape: (3,)\nsize: 3\ndtype: int64\nvalues:\n0    2\n1    4\n2    6\ndtype: int64\n\n"
     ]
    }
   ],
   "source": [
    "series_info(pd.Series([2, 4, 6]))"
   ]
  },
  {
   "cell_type": "markdown",
   "metadata": {},
   "source": [
    "## pd.DataFrame\n",
    "\n",
    "DataFrame is a 2-dimensional labeled data structure with columns of potentially different types. You can think of it like a spreadsheet or SQL table, or a dict of Series objects. It is generally the most commonly used pandas object.\n",
    "\n",
    "Like Series, DataFrame accepts many different kinds of input:\n",
    "\n",
    "- Dict of 1D ndarrays, lists, dicts, or Series\n",
    "- 2-D numpy.ndarray\n",
    "- Structured or record ndarray\n",
    "- A Series\n",
    "- Another DataFrame"
   ]
  },
  {
   "cell_type": "code",
   "execution_count": 34,
   "metadata": {
    "collapsed": false
   },
   "outputs": [
    {
     "output_type": "stream",
     "name": "stdout",
     "text": [
      "ndim: 1\nshape: (3,)\nsize: 3\ndtype: string\nvalues:\nRed      #FF0000\nGreen    #00FF00\nBlue     #0000FF\ndtype: string\n\n"
     ]
    }
   ],
   "source": [
    "codes_dict = {\n",
    "    'Red': '#FF0000',\n",
    "    'Green': '#00FF00',\n",
    "    'Blue': '#0000FF',\n",
    "}\n",
    "codes_s = pd.Series(codes_dict, dtype=\"string\")\n",
    "\n",
    "series_info(codes_s)"
   ]
  },
  {
   "cell_type": "code",
   "execution_count": 35,
   "metadata": {
    "collapsed": false
   },
   "outputs": [
    {
     "output_type": "stream",
     "name": "stdout",
     "text": [
      "ndim: 2\nshape: (3, 2)\nsize: 6\ndtype: count      int8\ncode     string\ndtype: object\nvalues:\n       count     code\nRed       12  #FF0000\nGreen      8  #00FF00\nBlue      33  #0000FF\n\n"
     ]
    }
   ],
   "source": [
    "combined_df = pd.DataFrame({\n",
    "    'count': colors_s,\n",
    "    'code': codes_s\n",
    "})\n",
    "\n",
    "df_info(combined_df)"
   ]
  },
  {
   "cell_type": "code",
   "execution_count": 36,
   "metadata": {
    "collapsed": false
   },
   "outputs": [
    {
     "output_type": "stream",
     "name": "stdout",
     "text": [
      "Index(['Red', 'Green', 'Blue'], dtype='object')\n"
     ]
    }
   ],
   "source": [
    "print(combined_df.index)"
   ]
  },
  {
   "cell_type": "code",
   "execution_count": 37,
   "metadata": {
    "collapsed": false
   },
   "outputs": [
    {
     "output_type": "stream",
     "name": "stdout",
     "text": [
      "Index(['count', 'code'], dtype='object')\n"
     ]
    }
   ],
   "source": [
    "print(combined_df.columns)"
   ]
  },
  {
   "cell_type": "code",
   "execution_count": 38,
   "metadata": {},
   "outputs": [
    {
     "output_type": "stream",
     "name": "stdout",
     "text": [
      "<class 'pandas.core.series.Series'>\nndim: 1\nshape: (3,)\nsize: 3\ndtype: int8\nvalues:\nRed      12\nGreen     8\nBlue     33\nName: count, dtype: int8\n\n"
     ]
    }
   ],
   "source": [
    "print(type(combined_df[\"count\"]))\n",
    "\n",
    "series_info(combined_df[\"count\"])"
   ]
  }
 ],
 "metadata": {
  "anaconda-cloud": {},
  "kernelspec": {
   "name": "python385jvsc74a57bd0423c48e3256333a0e0252f1efeec30283ab6ba0213e3a05c32b0541c29f89950",
   "display_name": "Python 3.8.5 64-bit ('pyUdemy': conda)"
  },
  "language_info": {
   "codemirror_mode": {
    "name": "ipython",
    "version": 3
   },
   "file_extension": ".py",
   "mimetype": "text/x-python",
   "name": "python",
   "nbconvert_exporter": "python",
   "pygments_lexer": "ipython3",
   "version": "3.8.5"
  }
 },
 "nbformat": 4,
 "nbformat_minor": 0
}